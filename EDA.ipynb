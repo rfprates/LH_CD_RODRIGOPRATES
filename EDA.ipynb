{
 "cells": [
  {
   "cell_type": "markdown",
   "metadata": {},
   "source": [
    "# Objetivo do projeto"
   ]
  },
  {
   "cell_type": "markdown",
   "metadata": {},
   "source": [
    "O objetivo deste projeto é desenvolver um modelo preditivo de preços de aluguéis em Nova Iorque, avaliando tal modelo utilizando as métricas que mais fazem sentido para este problema.\n",
    "\n",
    "Para tal, é fornecido um dataset com diversas informações e preços de alguns imóveis da região de interesse."
   ]
  },
  {
   "cell_type": "markdown",
   "metadata": {},
   "source": [
    "# Importando as bibliotecas previamente instaladas"
   ]
  },
  {
   "cell_type": "markdown",
   "metadata": {},
   "source": [
    "Como primeiro passo da análise, importou-se algumas das bibliotecas instaladas que serão utilizadas na resolução deste desafio, conforme o código abaixo."
   ]
  },
  {
   "cell_type": "code",
   "execution_count": 1,
   "metadata": {},
   "outputs": [],
   "source": [
    "# Libs de manipulação dos dados\n",
    "import numpy as np\n",
    "import pandas as pd\n",
    "\n",
    "# Libs de visualização dos dados\n",
    "import matplotlib.pyplot as plt\n",
    "import seaborn as sns"
   ]
  },
  {
   "cell_type": "markdown",
   "metadata": {},
   "source": [
    "# Carregando o dataset"
   ]
  },
  {
   "cell_type": "markdown",
   "metadata": {},
   "source": [
    "Feitas as devidas importações, agora é possível importar o dataset disponibilizado. Para tal, utilizou-se da biblioteca pandas, fazendo a leitura do arquivo csv, e salvando-o em uma variável declarada 'df', conforme segue."
   ]
  },
  {
   "cell_type": "code",
   "execution_count": 2,
   "metadata": {},
   "outputs": [],
   "source": [
    "df = pd.read_csv('dataset/teste_indicium_precificacao.csv')"
   ]
  },
  {
   "cell_type": "markdown",
   "metadata": {},
   "source": [
    "Exibindo as primeiras 5 linhas do dataset,"
   ]
  },
  {
   "cell_type": "code",
   "execution_count": 3,
   "metadata": {},
   "outputs": [
    {
     "data": {
      "text/html": [
       "<div>\n",
       "<style scoped>\n",
       "    .dataframe tbody tr th:only-of-type {\n",
       "        vertical-align: middle;\n",
       "    }\n",
       "\n",
       "    .dataframe tbody tr th {\n",
       "        vertical-align: top;\n",
       "    }\n",
       "\n",
       "    .dataframe thead th {\n",
       "        text-align: right;\n",
       "    }\n",
       "</style>\n",
       "<table border=\"1\" class=\"dataframe\">\n",
       "  <thead>\n",
       "    <tr style=\"text-align: right;\">\n",
       "      <th></th>\n",
       "      <th>id</th>\n",
       "      <th>nome</th>\n",
       "      <th>host_id</th>\n",
       "      <th>host_name</th>\n",
       "      <th>bairro_group</th>\n",
       "      <th>bairro</th>\n",
       "      <th>latitude</th>\n",
       "      <th>longitude</th>\n",
       "      <th>room_type</th>\n",
       "      <th>price</th>\n",
       "      <th>minimo_noites</th>\n",
       "      <th>numero_de_reviews</th>\n",
       "      <th>ultima_review</th>\n",
       "      <th>reviews_por_mes</th>\n",
       "      <th>calculado_host_listings_count</th>\n",
       "      <th>disponibilidade_365</th>\n",
       "    </tr>\n",
       "  </thead>\n",
       "  <tbody>\n",
       "    <tr>\n",
       "      <th>0</th>\n",
       "      <td>2595</td>\n",
       "      <td>Skylit Midtown Castle</td>\n",
       "      <td>2845</td>\n",
       "      <td>Jennifer</td>\n",
       "      <td>Manhattan</td>\n",
       "      <td>Midtown</td>\n",
       "      <td>40.75362</td>\n",
       "      <td>-73.98377</td>\n",
       "      <td>Entire home/apt</td>\n",
       "      <td>225</td>\n",
       "      <td>1</td>\n",
       "      <td>45</td>\n",
       "      <td>2019-05-21</td>\n",
       "      <td>0.38</td>\n",
       "      <td>2</td>\n",
       "      <td>355</td>\n",
       "    </tr>\n",
       "    <tr>\n",
       "      <th>1</th>\n",
       "      <td>3647</td>\n",
       "      <td>THE VILLAGE OF HARLEM....NEW YORK !</td>\n",
       "      <td>4632</td>\n",
       "      <td>Elisabeth</td>\n",
       "      <td>Manhattan</td>\n",
       "      <td>Harlem</td>\n",
       "      <td>40.80902</td>\n",
       "      <td>-73.94190</td>\n",
       "      <td>Private room</td>\n",
       "      <td>150</td>\n",
       "      <td>3</td>\n",
       "      <td>0</td>\n",
       "      <td>NaN</td>\n",
       "      <td>NaN</td>\n",
       "      <td>1</td>\n",
       "      <td>365</td>\n",
       "    </tr>\n",
       "    <tr>\n",
       "      <th>2</th>\n",
       "      <td>3831</td>\n",
       "      <td>Cozy Entire Floor of Brownstone</td>\n",
       "      <td>4869</td>\n",
       "      <td>LisaRoxanne</td>\n",
       "      <td>Brooklyn</td>\n",
       "      <td>Clinton Hill</td>\n",
       "      <td>40.68514</td>\n",
       "      <td>-73.95976</td>\n",
       "      <td>Entire home/apt</td>\n",
       "      <td>89</td>\n",
       "      <td>1</td>\n",
       "      <td>270</td>\n",
       "      <td>2019-07-05</td>\n",
       "      <td>4.64</td>\n",
       "      <td>1</td>\n",
       "      <td>194</td>\n",
       "    </tr>\n",
       "    <tr>\n",
       "      <th>3</th>\n",
       "      <td>5022</td>\n",
       "      <td>Entire Apt: Spacious Studio/Loft by central park</td>\n",
       "      <td>7192</td>\n",
       "      <td>Laura</td>\n",
       "      <td>Manhattan</td>\n",
       "      <td>East Harlem</td>\n",
       "      <td>40.79851</td>\n",
       "      <td>-73.94399</td>\n",
       "      <td>Entire home/apt</td>\n",
       "      <td>80</td>\n",
       "      <td>10</td>\n",
       "      <td>9</td>\n",
       "      <td>2018-11-19</td>\n",
       "      <td>0.10</td>\n",
       "      <td>1</td>\n",
       "      <td>0</td>\n",
       "    </tr>\n",
       "    <tr>\n",
       "      <th>4</th>\n",
       "      <td>5099</td>\n",
       "      <td>Large Cozy 1 BR Apartment In Midtown East</td>\n",
       "      <td>7322</td>\n",
       "      <td>Chris</td>\n",
       "      <td>Manhattan</td>\n",
       "      <td>Murray Hill</td>\n",
       "      <td>40.74767</td>\n",
       "      <td>-73.97500</td>\n",
       "      <td>Entire home/apt</td>\n",
       "      <td>200</td>\n",
       "      <td>3</td>\n",
       "      <td>74</td>\n",
       "      <td>2019-06-22</td>\n",
       "      <td>0.59</td>\n",
       "      <td>1</td>\n",
       "      <td>129</td>\n",
       "    </tr>\n",
       "  </tbody>\n",
       "</table>\n",
       "</div>"
      ],
      "text/plain": [
       "     id                                              nome  host_id  \\\n",
       "0  2595                             Skylit Midtown Castle     2845   \n",
       "1  3647               THE VILLAGE OF HARLEM....NEW YORK !     4632   \n",
       "2  3831                   Cozy Entire Floor of Brownstone     4869   \n",
       "3  5022  Entire Apt: Spacious Studio/Loft by central park     7192   \n",
       "4  5099         Large Cozy 1 BR Apartment In Midtown East     7322   \n",
       "\n",
       "     host_name bairro_group        bairro  latitude  longitude  \\\n",
       "0     Jennifer    Manhattan       Midtown  40.75362  -73.98377   \n",
       "1    Elisabeth    Manhattan        Harlem  40.80902  -73.94190   \n",
       "2  LisaRoxanne     Brooklyn  Clinton Hill  40.68514  -73.95976   \n",
       "3        Laura    Manhattan   East Harlem  40.79851  -73.94399   \n",
       "4        Chris    Manhattan   Murray Hill  40.74767  -73.97500   \n",
       "\n",
       "         room_type  price  minimo_noites  numero_de_reviews ultima_review  \\\n",
       "0  Entire home/apt    225              1                 45    2019-05-21   \n",
       "1     Private room    150              3                  0           NaN   \n",
       "2  Entire home/apt     89              1                270    2019-07-05   \n",
       "3  Entire home/apt     80             10                  9    2018-11-19   \n",
       "4  Entire home/apt    200              3                 74    2019-06-22   \n",
       "\n",
       "   reviews_por_mes  calculado_host_listings_count  disponibilidade_365  \n",
       "0             0.38                              2                  355  \n",
       "1              NaN                              1                  365  \n",
       "2             4.64                              1                  194  \n",
       "3             0.10                              1                    0  \n",
       "4             0.59                              1                  129  "
      ]
     },
     "execution_count": 3,
     "metadata": {},
     "output_type": "execute_result"
    }
   ],
   "source": [
    "df.head()"
   ]
  },
  {
   "cell_type": "markdown",
   "metadata": {},
   "source": [
    "Para fins de facilitar a busca de algumas informações, copiou-se a descrição de cada uma das colunas do dataset, conforme foi disponibilizado previamente.\n",
    "\n",
    "id – Atua como uma chave exclusiva para cada anúncio nos dados do aplicativo\n",
    "\n",
    "nome - Representa o nome do anúncio\n",
    "\n",
    "host_id - Representa o id do usuário que hospedou o anúncio\n",
    "\n",
    "host_name – Contém o nome do usuário que hospedou o anúncio\n",
    "\n",
    "bairro_group - Contém o nome do bairro onde o anúncio está localizado\n",
    "\n",
    "bairro - Contém o nome da área onde o anúncio está localizado\n",
    "\n",
    "latitude - Contém a latitude do local\n",
    "\n",
    "longitude - Contém a longitude do local\n",
    "\n",
    "room_type – Contém o tipo de espaço de cada anúncio\n",
    "\n",
    "price - Contém o preço por noite em dólares listado pelo anfitrião\n",
    "\n",
    "minimo_noites - Contém o número mínimo de noites que o usuário deve reservar\n",
    "\n",
    "numero_de_reviews - Contém o número de comentários dados a cada listagem\n",
    "\n",
    "ultima_review - Contém a data da última revisão dada à listagem\n",
    "\n",
    "reviews_por_mes - Contém o número de avaliações fornecidas por mês\n",
    "\n",
    "calculado_host_listings_count - Contém a quantidade de listagem por host\n",
    "\n",
    "disponibilidade_365 - Contém o número de dias em que o anúncio está disponível para reserva"
   ]
  },
  {
   "cell_type": "markdown",
   "metadata": {},
   "source": [
    "# Análise Descritiva"
   ]
  },
  {
   "cell_type": "markdown",
   "metadata": {},
   "source": [
    "Exibindo mais infos do dataset,"
   ]
  },
  {
   "cell_type": "code",
   "execution_count": 4,
   "metadata": {},
   "outputs": [
    {
     "name": "stdout",
     "output_type": "stream",
     "text": [
      "<class 'pandas.core.frame.DataFrame'>\n",
      "RangeIndex: 48894 entries, 0 to 48893\n",
      "Data columns (total 16 columns):\n",
      " #   Column                         Non-Null Count  Dtype  \n",
      "---  ------                         --------------  -----  \n",
      " 0   id                             48894 non-null  int64  \n",
      " 1   nome                           48878 non-null  object \n",
      " 2   host_id                        48894 non-null  int64  \n",
      " 3   host_name                      48873 non-null  object \n",
      " 4   bairro_group                   48894 non-null  object \n",
      " 5   bairro                         48894 non-null  object \n",
      " 6   latitude                       48894 non-null  float64\n",
      " 7   longitude                      48894 non-null  float64\n",
      " 8   room_type                      48894 non-null  object \n",
      " 9   price                          48894 non-null  int64  \n",
      " 10  minimo_noites                  48894 non-null  int64  \n",
      " 11  numero_de_reviews              48894 non-null  int64  \n",
      " 12  ultima_review                  38842 non-null  object \n",
      " 13  reviews_por_mes                38842 non-null  float64\n",
      " 14  calculado_host_listings_count  48894 non-null  int64  \n",
      " 15  disponibilidade_365            48894 non-null  int64  \n",
      "dtypes: float64(3), int64(7), object(6)\n",
      "memory usage: 6.0+ MB\n"
     ]
    }
   ],
   "source": [
    "df.info()"
   ]
  },
  {
   "cell_type": "markdown",
   "metadata": {},
   "source": [
    "Avaliando as informações acima retornadas, o primeiro ponto a ser observado é que nem todas as colunas estão totalmente preenchidas com dados. Isto fica evidente pois temos 48894 entradas, e algumas não tem essa quantidade de dados não nulos. Outra forma de se visualizar isto é utilizando a linha de código abaixo, que irá verificar por coluna todas as linhas do data frame em busca de dados nulos e somá-los."
   ]
  },
  {
   "cell_type": "code",
   "execution_count": 5,
   "metadata": {},
   "outputs": [
    {
     "data": {
      "text/plain": [
       "id                                   0\n",
       "nome                                16\n",
       "host_id                              0\n",
       "host_name                           21\n",
       "bairro_group                         0\n",
       "bairro                               0\n",
       "latitude                             0\n",
       "longitude                            0\n",
       "room_type                            0\n",
       "price                                0\n",
       "minimo_noites                        0\n",
       "numero_de_reviews                    0\n",
       "ultima_review                    10052\n",
       "reviews_por_mes                  10052\n",
       "calculado_host_listings_count        0\n",
       "disponibilidade_365                  0\n",
       "dtype: int64"
      ]
     },
     "execution_count": 5,
     "metadata": {},
     "output_type": "execute_result"
    }
   ],
   "source": [
    "df.isnull().sum()"
   ]
  },
  {
   "cell_type": "markdown",
   "metadata": {},
   "source": [
    "Exibindo os dados em forma de tabela, com a porcentagem de dados nulos por coluna,"
   ]
  },
  {
   "cell_type": "code",
   "execution_count": 7,
   "metadata": {},
   "outputs": [
    {
     "data": {
      "text/html": [
       "<style type=\"text/css\">\n",
       "</style>\n",
       "<table id=\"T_748a6\">\n",
       "  <thead>\n",
       "    <tr>\n",
       "      <th class=\"blank level0\" >&nbsp;</th>\n",
       "      <th id=\"T_748a6_level0_col0\" class=\"col_heading level0 col0\" >missing_count</th>\n",
       "      <th id=\"T_748a6_level0_col1\" class=\"col_heading level0 col1\" >missing_pct</th>\n",
       "    </tr>\n",
       "  </thead>\n",
       "  <tbody>\n",
       "    <tr>\n",
       "      <th id=\"T_748a6_level0_row0\" class=\"row_heading level0 row0\" >id</th>\n",
       "      <td id=\"T_748a6_row0_col0\" class=\"data row0 col0\" >0</td>\n",
       "      <td id=\"T_748a6_row0_col1\" class=\"data row0 col1\" >0.00%</td>\n",
       "    </tr>\n",
       "    <tr>\n",
       "      <th id=\"T_748a6_level0_row1\" class=\"row_heading level0 row1\" >nome</th>\n",
       "      <td id=\"T_748a6_row1_col0\" class=\"data row1 col0\" >16</td>\n",
       "      <td id=\"T_748a6_row1_col1\" class=\"data row1 col1\" >0.03%</td>\n",
       "    </tr>\n",
       "    <tr>\n",
       "      <th id=\"T_748a6_level0_row2\" class=\"row_heading level0 row2\" >host_id</th>\n",
       "      <td id=\"T_748a6_row2_col0\" class=\"data row2 col0\" >0</td>\n",
       "      <td id=\"T_748a6_row2_col1\" class=\"data row2 col1\" >0.00%</td>\n",
       "    </tr>\n",
       "    <tr>\n",
       "      <th id=\"T_748a6_level0_row3\" class=\"row_heading level0 row3\" >host_name</th>\n",
       "      <td id=\"T_748a6_row3_col0\" class=\"data row3 col0\" >21</td>\n",
       "      <td id=\"T_748a6_row3_col1\" class=\"data row3 col1\" >0.04%</td>\n",
       "    </tr>\n",
       "    <tr>\n",
       "      <th id=\"T_748a6_level0_row4\" class=\"row_heading level0 row4\" >bairro_group</th>\n",
       "      <td id=\"T_748a6_row4_col0\" class=\"data row4 col0\" >0</td>\n",
       "      <td id=\"T_748a6_row4_col1\" class=\"data row4 col1\" >0.00%</td>\n",
       "    </tr>\n",
       "    <tr>\n",
       "      <th id=\"T_748a6_level0_row5\" class=\"row_heading level0 row5\" >bairro</th>\n",
       "      <td id=\"T_748a6_row5_col0\" class=\"data row5 col0\" >0</td>\n",
       "      <td id=\"T_748a6_row5_col1\" class=\"data row5 col1\" >0.00%</td>\n",
       "    </tr>\n",
       "    <tr>\n",
       "      <th id=\"T_748a6_level0_row6\" class=\"row_heading level0 row6\" >latitude</th>\n",
       "      <td id=\"T_748a6_row6_col0\" class=\"data row6 col0\" >0</td>\n",
       "      <td id=\"T_748a6_row6_col1\" class=\"data row6 col1\" >0.00%</td>\n",
       "    </tr>\n",
       "    <tr>\n",
       "      <th id=\"T_748a6_level0_row7\" class=\"row_heading level0 row7\" >longitude</th>\n",
       "      <td id=\"T_748a6_row7_col0\" class=\"data row7 col0\" >0</td>\n",
       "      <td id=\"T_748a6_row7_col1\" class=\"data row7 col1\" >0.00%</td>\n",
       "    </tr>\n",
       "    <tr>\n",
       "      <th id=\"T_748a6_level0_row8\" class=\"row_heading level0 row8\" >room_type</th>\n",
       "      <td id=\"T_748a6_row8_col0\" class=\"data row8 col0\" >0</td>\n",
       "      <td id=\"T_748a6_row8_col1\" class=\"data row8 col1\" >0.00%</td>\n",
       "    </tr>\n",
       "    <tr>\n",
       "      <th id=\"T_748a6_level0_row9\" class=\"row_heading level0 row9\" >price</th>\n",
       "      <td id=\"T_748a6_row9_col0\" class=\"data row9 col0\" >0</td>\n",
       "      <td id=\"T_748a6_row9_col1\" class=\"data row9 col1\" >0.00%</td>\n",
       "    </tr>\n",
       "    <tr>\n",
       "      <th id=\"T_748a6_level0_row10\" class=\"row_heading level0 row10\" >minimo_noites</th>\n",
       "      <td id=\"T_748a6_row10_col0\" class=\"data row10 col0\" >0</td>\n",
       "      <td id=\"T_748a6_row10_col1\" class=\"data row10 col1\" >0.00%</td>\n",
       "    </tr>\n",
       "    <tr>\n",
       "      <th id=\"T_748a6_level0_row11\" class=\"row_heading level0 row11\" >numero_de_reviews</th>\n",
       "      <td id=\"T_748a6_row11_col0\" class=\"data row11 col0\" >0</td>\n",
       "      <td id=\"T_748a6_row11_col1\" class=\"data row11 col1\" >0.00%</td>\n",
       "    </tr>\n",
       "    <tr>\n",
       "      <th id=\"T_748a6_level0_row12\" class=\"row_heading level0 row12\" >ultima_review</th>\n",
       "      <td id=\"T_748a6_row12_col0\" class=\"data row12 col0\" >10052</td>\n",
       "      <td id=\"T_748a6_row12_col1\" class=\"data row12 col1\" >20.56%</td>\n",
       "    </tr>\n",
       "    <tr>\n",
       "      <th id=\"T_748a6_level0_row13\" class=\"row_heading level0 row13\" >reviews_por_mes</th>\n",
       "      <td id=\"T_748a6_row13_col0\" class=\"data row13 col0\" >10052</td>\n",
       "      <td id=\"T_748a6_row13_col1\" class=\"data row13 col1\" >20.56%</td>\n",
       "    </tr>\n",
       "    <tr>\n",
       "      <th id=\"T_748a6_level0_row14\" class=\"row_heading level0 row14\" >calculado_host_listings_count</th>\n",
       "      <td id=\"T_748a6_row14_col0\" class=\"data row14 col0\" >0</td>\n",
       "      <td id=\"T_748a6_row14_col1\" class=\"data row14 col1\" >0.00%</td>\n",
       "    </tr>\n",
       "    <tr>\n",
       "      <th id=\"T_748a6_level0_row15\" class=\"row_heading level0 row15\" >disponibilidade_365</th>\n",
       "      <td id=\"T_748a6_row15_col0\" class=\"data row15 col0\" >0</td>\n",
       "      <td id=\"T_748a6_row15_col1\" class=\"data row15 col1\" >0.00%</td>\n",
       "    </tr>\n",
       "  </tbody>\n",
       "</table>\n"
      ],
      "text/plain": [
       "<pandas.io.formats.style.Styler at 0x1c55bed2010>"
      ]
     },
     "execution_count": 7,
     "metadata": {},
     "output_type": "execute_result"
    }
   ],
   "source": [
    "# definindo um data frame com a quantidade de dados nulos por coluna\n",
    "missing_data = (\n",
    "    df.isnull()\n",
    "    .sum()\n",
    "    .to_frame('missing_count')\n",
    ")\n",
    "\n",
    "# adicionando ao data frame uma coluna com a quantidade de dados nulos por coluna divido pela quantidade total de dados\n",
    "missing_data = missing_data.join(((df.isnull().sum())/(df.shape[0])).to_frame('missing_pct'))\n",
    "\n",
    "# formando a coluna 'missing_pct' para exibir os resultados com duas casas decimais e no formato de porcentagem\n",
    "missing_data.style.format('{:.2%}', subset = 'missing_pct')"
   ]
  },
  {
   "cell_type": "markdown",
   "metadata": {},
   "source": [
    "Como primeira análise, tem-se que a quantidade relativa de dados nulos das colunas 'nome' e 'host_name' são bem pequenas. Contudo, para as colunas 'ultima_review' e 'reviews_por_mes', as quantidades são relativamentes altas, com 20,56% de dados nulos em cada uma. Este ponto dos dados nulos será mais profundamente tratado na sessão de modelagem destre projeto (arquivo 'Modelling.ipynb'), pois interfere diretamente nas performances dos modelos."
   ]
  },
  {
   "cell_type": "markdown",
   "metadata": {},
   "source": [
    "Outro ponto importante a respeito da coluna 'ultima_review' é que, segundo as informações, se trata de uma coluna com dados de datas. Contudo, estes dados estão salvos no dataset como tipo 'object', ou seja, texto. Isto fica mais claro ao exibir alguns dados desta coluna, demonstrados abaixo. "
   ]
  },
  {
   "cell_type": "code",
   "execution_count": 8,
   "metadata": {},
   "outputs": [
    {
     "data": {
      "text/plain": [
       "0        2019-05-21\n",
       "1               NaN\n",
       "2        2019-07-05\n",
       "3        2018-11-19\n",
       "4        2019-06-22\n",
       "            ...    \n",
       "48889           NaN\n",
       "48890           NaN\n",
       "48891           NaN\n",
       "48892           NaN\n",
       "48893           NaN\n",
       "Name: ultima_review, Length: 48894, dtype: object"
      ]
     },
     "execution_count": 8,
     "metadata": {},
     "output_type": "execute_result"
    }
   ],
   "source": [
    "df['ultima_review']"
   ]
  },
  {
   "cell_type": "markdown",
   "metadata": {},
   "source": [
    "Observa-se um 'dtype' como object, com entradas de texto '2019-05-21' e assim por diante. Portanto, se torna necessário converter estes dados para tipo data, a fim de avaliá-los de forma mais coerente. Para fazer isto, utilizou-se uma função da biblioteca pandas .to_datime, conforme demonstrado abaixo.\n",
    "\n",
    "Obs: não foi passado o argumento 'format' dentro da função pois as strings a serem convertidas da coluna 'ultima_review' já estão no formato padrão Ano-mês-dia."
   ]
  },
  {
   "cell_type": "code",
   "execution_count": 14,
   "metadata": {},
   "outputs": [],
   "source": [
    "df['ultima_review'] = pd.to_datetime(df['ultima_review'])"
   ]
  },
  {
   "cell_type": "code",
   "execution_count": 15,
   "metadata": {},
   "outputs": [
    {
     "data": {
      "text/plain": [
       "0       2019-05-21\n",
       "1              NaT\n",
       "2       2019-07-05\n",
       "3       2018-11-19\n",
       "4       2019-06-22\n",
       "           ...    \n",
       "48889          NaT\n",
       "48890          NaT\n",
       "48891          NaT\n",
       "48892          NaT\n",
       "48893          NaT\n",
       "Name: ultima_review, Length: 48894, dtype: datetime64[ns]"
      ]
     },
     "execution_count": 15,
     "metadata": {},
     "output_type": "execute_result"
    }
   ],
   "source": [
    "df['ultima_review']"
   ]
  },
  {
   "cell_type": "code",
   "execution_count": null,
   "metadata": {},
   "outputs": [],
   "source": []
  }
 ],
 "metadata": {
  "kernelspec": {
   "display_name": "base",
   "language": "python",
   "name": "python3"
  },
  "language_info": {
   "codemirror_mode": {
    "name": "ipython",
    "version": 3
   },
   "file_extension": ".py",
   "mimetype": "text/x-python",
   "name": "python",
   "nbconvert_exporter": "python",
   "pygments_lexer": "ipython3",
   "version": "3.11.5"
  }
 },
 "nbformat": 4,
 "nbformat_minor": 2
}
