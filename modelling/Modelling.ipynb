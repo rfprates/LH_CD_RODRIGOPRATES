{
 "cells": [
  {
   "cell_type": "markdown",
   "metadata": {},
   "source": [
    "# Modelling"
   ]
  },
  {
   "cell_type": "markdown",
   "metadata": {},
   "source": [
    "Este notebook é dedicado exclusivamente a parte de modelagem e avaliação dos respectivos modelos testados. No final deste arquivo encontra-se a previsão do preço para novos dados de entrada e também o processo de exportação do modelo já definido em um arquivo .pkl conforme solicitado pelo desafio."
   ]
  },
  {
   "cell_type": "markdown",
   "metadata": {},
   "source": [
    "## Entendendo o problema"
   ]
  },
  {
   "cell_type": "markdown",
   "metadata": {},
   "source": [
    "Antes de inicar o desenvolvimento, primeiro é preciso entender de que tipo de problema de machine learning estamos falando. Como a ideia aqui é prever preços de aluguel, ou seja, um NÚMERO, um valor contínuo, portanto se trata de um problema de REGRESSÃO. Caso a ideia fosse prever alguma categoria, ou grupo, sendo este um dado discreto, ai sim estaríamos falando de um problema de classificação.\n",
    "\n",
    "Além disso, sabe-se que se trata de um modelo SUPERVISIONADO, ou seja, nós temos descriminados em nosso dataset de treino e teste a variável que se deseja prever ('price'). Tem-se um amostral deste \"target\". Se por um acaso o \"target\" não estivesse descriminado ou definido, forçando com que o algoritmo tivesse que extrair um padrão de todo o amostral X, então se trataria de um modelo NÃO SUPERVISIONADO. Ai entrariam modelos de clusterização, recomendação e assim por diante.\n",
    "\n",
    "Entendido isso, pode-se então partir para o desenvolvimento utilizando algoritmos e estratégias para resolver um problema de regressão."
   ]
  },
  {
   "cell_type": "markdown",
   "metadata": {},
   "source": [
    "## Importando as bibliotecas"
   ]
  },
  {
   "cell_type": "markdown",
   "metadata": {},
   "source": [
    "Para iniciar o desenvolvimento, primeiro importou-se as bibliotecas que serão utilizadas nesta etapa de modelling,"
   ]
  },
  {
   "cell_type": "code",
   "execution_count": 67,
   "metadata": {},
   "outputs": [],
   "source": [
    "# lib para salvar o modelo no formato .pkl\n",
    "import pickle\n",
    "\n",
    "# lib de manipulação dos dados\n",
    "import pandas as pd\n",
    "import numpy as np\n",
    "\n",
    "# lib de visualização de dados nulos\n",
    "import missingno as msno\n",
    "\n",
    "# lib de visualização de dados\n",
    "import matplotlib.pyplot as plt\n",
    "import seaborn as sns\n",
    "\n",
    "# pré-processamento de dados\n",
    "from sklearn.preprocessing import OneHotEncoder, OrdinalEncoder, FunctionTransformer, StandardScaler\n",
    "from sklearn.impute import SimpleImputer\n",
    "\n",
    "# separação das colunas por tipo de dado\n",
    "from sklearn.compose import make_column_selector\n",
    "\n",
    "# pipeline para tratamento dos dados\n",
    "from sklearn.compose import ColumnTransformer\n",
    "from sklearn.pipeline import Pipeline\n",
    "\n",
    "# seleção e validação de modelos\n",
    "from sklearn import metrics\n",
    "from sklearn.model_selection import train_test_split, GridSearchCV\n",
    "\n",
    "# modelos de Regressão a serem testados\n",
    "from sklearn.dummy import DummyRegressor\n",
    "from sklearn.linear_model import LinearRegression\n",
    "from sklearn.tree import DecisionTreeRegressor\n",
    "from sklearn.ensemble import RandomForestRegressor, GradientBoostingRegressor, HistGradientBoostingRegressor\n",
    "\n",
    "# manter a saída do processamento do sklearn como DataFrame pandas\n",
    "from sklearn import set_config\n",
    "set_config(transform_output = 'pandas')"
   ]
  },
  {
   "cell_type": "markdown",
   "metadata": {},
   "source": [
    "## Definindo as métricas de avaliação para os modelos de regressão a serem testados"
   ]
  },
  {
   "cell_type": "markdown",
   "metadata": {},
   "source": [
    "Quando se fala em modelos de regressão, existem algumas métricas importantes para estas avaliações. Segue abaixo uma breve análise de 4 das mais importantes e famosas neste tipo de problema.\n",
    "\n",
    "- R² = também chamado de coeficiente de determinação, é uma métrica que expressa a porcentagem da variância dos dados que pode ser explicada pelo modelo. É uma métrica que varia de 0 até 1, sendo quanto mais próximo de 1 maior a capacidade do modelo em explicar as variações dos dados.\n",
    "- MAE = erro médio absoluto, basicamente mede a distância média entre os valores previstos pelo modelo e os valores reais. Outro ponto de destaque é que a unidade deste erro é a mesma do 'target', ou seja, tem a mesma unidade da variável preço. Contudo, esta métrica é muito sensível a outliers, desta forma, a tendência é \"puxar\" o modelo mais próximo dos outliers, deixando-o mais distante da maior concentração dos dados reais. Conforme foi visto nas análises feitas no notebook EDA, este dataset tem forte presença de outliers, portanto o MAE não seria o ideal para avaliar os modelos.\n",
    "- MSE = erro médio quadrático, basicamente é a diferença entre o valor previsto e o valor real, elevando-se o resultado ao quadrado. Da mesma forma que o MAE, quanto maior esta métrica pior será o modelo. Como neste caso os erros são elevados ao quadrado, isto torna esta métrica muito boa para casos em que grande erros não são tolerados, deixando-a muito menos sensível a outliers, se comparada ao MAE.\n",
    "- RMSE = raiz do erro quadrático médio, basicamente é a métrica MSE tirando a sua raiz quadrada. Desta forma, tem-se um valor de melhor interpretabilidade, corringindo também as unidades deste erro.\n",
    "\n",
    "Considerando as características expostas acima e também as características dos dados deste dataset, expostas no notebook 'EDA.ipynb', optou-se por avaliar os modelos testados utilizando as métricas MSE e RMSE, visto que trabalham melhor em casos de outlier, sendo menos tolerantes com erros muito grandes. Além disso optou-se por expor junto a métrica R² por conta da sua fácil interpretabilidade.\n",
    "\n",
    "Escolhidas as métricas utilizadas para a avaliação dos modelos, optou-se  por definir a função abaixo, que será chamada todas as vezes que for necessário calcular as métricas de algum modelo, a fim de deixar o código posteriormente mais \"limpo\"."
   ]
  },
  {
   "cell_type": "code",
   "execution_count": 36,
   "metadata": {},
   "outputs": [],
   "source": [
    "# função para calcular as métricas dos modelos\n",
    "def get_metrics (y_true, y_pred):\n",
    "    dict_metrics = {\n",
    "        'R2': metrics.r2_score(y_true, y_pred),\n",
    "        'MSE': metrics.mean_squared_error(y_true, y_pred),\n",
    "        'RMSE': np.sqrt(metrics.mean_squared_error(y_true, y_pred))\n",
    "    }\n",
    "    return dict_metrics"
   ]
  },
  {
   "cell_type": "markdown",
   "metadata": {},
   "source": [
    "## Importando o dataset"
   ]
  },
  {
   "cell_type": "markdown",
   "metadata": {},
   "source": [
    "Definidas as métricas, agora importou-se o dataset original disponibilizado, conforme segue."
   ]
  },
  {
   "cell_type": "code",
   "execution_count": 37,
   "metadata": {},
   "outputs": [
    {
     "data": {
      "text/html": [
       "<div>\n",
       "<style scoped>\n",
       "    .dataframe tbody tr th:only-of-type {\n",
       "        vertical-align: middle;\n",
       "    }\n",
       "\n",
       "    .dataframe tbody tr th {\n",
       "        vertical-align: top;\n",
       "    }\n",
       "\n",
       "    .dataframe thead th {\n",
       "        text-align: right;\n",
       "    }\n",
       "</style>\n",
       "<table border=\"1\" class=\"dataframe\">\n",
       "  <thead>\n",
       "    <tr style=\"text-align: right;\">\n",
       "      <th></th>\n",
       "      <th>id</th>\n",
       "      <th>nome</th>\n",
       "      <th>host_id</th>\n",
       "      <th>host_name</th>\n",
       "      <th>bairro_group</th>\n",
       "      <th>bairro</th>\n",
       "      <th>latitude</th>\n",
       "      <th>longitude</th>\n",
       "      <th>room_type</th>\n",
       "      <th>price</th>\n",
       "      <th>minimo_noites</th>\n",
       "      <th>numero_de_reviews</th>\n",
       "      <th>ultima_review</th>\n",
       "      <th>reviews_por_mes</th>\n",
       "      <th>calculado_host_listings_count</th>\n",
       "      <th>disponibilidade_365</th>\n",
       "    </tr>\n",
       "  </thead>\n",
       "  <tbody>\n",
       "    <tr>\n",
       "      <th>0</th>\n",
       "      <td>2595</td>\n",
       "      <td>Skylit Midtown Castle</td>\n",
       "      <td>2845</td>\n",
       "      <td>Jennifer</td>\n",
       "      <td>Manhattan</td>\n",
       "      <td>Midtown</td>\n",
       "      <td>40.75362</td>\n",
       "      <td>-73.98377</td>\n",
       "      <td>Entire home/apt</td>\n",
       "      <td>225</td>\n",
       "      <td>1</td>\n",
       "      <td>45</td>\n",
       "      <td>2019-05-21</td>\n",
       "      <td>0.38</td>\n",
       "      <td>2</td>\n",
       "      <td>355</td>\n",
       "    </tr>\n",
       "    <tr>\n",
       "      <th>1</th>\n",
       "      <td>3647</td>\n",
       "      <td>THE VILLAGE OF HARLEM....NEW YORK !</td>\n",
       "      <td>4632</td>\n",
       "      <td>Elisabeth</td>\n",
       "      <td>Manhattan</td>\n",
       "      <td>Harlem</td>\n",
       "      <td>40.80902</td>\n",
       "      <td>-73.94190</td>\n",
       "      <td>Private room</td>\n",
       "      <td>150</td>\n",
       "      <td>3</td>\n",
       "      <td>0</td>\n",
       "      <td>NaN</td>\n",
       "      <td>NaN</td>\n",
       "      <td>1</td>\n",
       "      <td>365</td>\n",
       "    </tr>\n",
       "    <tr>\n",
       "      <th>2</th>\n",
       "      <td>3831</td>\n",
       "      <td>Cozy Entire Floor of Brownstone</td>\n",
       "      <td>4869</td>\n",
       "      <td>LisaRoxanne</td>\n",
       "      <td>Brooklyn</td>\n",
       "      <td>Clinton Hill</td>\n",
       "      <td>40.68514</td>\n",
       "      <td>-73.95976</td>\n",
       "      <td>Entire home/apt</td>\n",
       "      <td>89</td>\n",
       "      <td>1</td>\n",
       "      <td>270</td>\n",
       "      <td>2019-07-05</td>\n",
       "      <td>4.64</td>\n",
       "      <td>1</td>\n",
       "      <td>194</td>\n",
       "    </tr>\n",
       "    <tr>\n",
       "      <th>3</th>\n",
       "      <td>5022</td>\n",
       "      <td>Entire Apt: Spacious Studio/Loft by central park</td>\n",
       "      <td>7192</td>\n",
       "      <td>Laura</td>\n",
       "      <td>Manhattan</td>\n",
       "      <td>East Harlem</td>\n",
       "      <td>40.79851</td>\n",
       "      <td>-73.94399</td>\n",
       "      <td>Entire home/apt</td>\n",
       "      <td>80</td>\n",
       "      <td>10</td>\n",
       "      <td>9</td>\n",
       "      <td>2018-11-19</td>\n",
       "      <td>0.10</td>\n",
       "      <td>1</td>\n",
       "      <td>0</td>\n",
       "    </tr>\n",
       "    <tr>\n",
       "      <th>4</th>\n",
       "      <td>5099</td>\n",
       "      <td>Large Cozy 1 BR Apartment In Midtown East</td>\n",
       "      <td>7322</td>\n",
       "      <td>Chris</td>\n",
       "      <td>Manhattan</td>\n",
       "      <td>Murray Hill</td>\n",
       "      <td>40.74767</td>\n",
       "      <td>-73.97500</td>\n",
       "      <td>Entire home/apt</td>\n",
       "      <td>200</td>\n",
       "      <td>3</td>\n",
       "      <td>74</td>\n",
       "      <td>2019-06-22</td>\n",
       "      <td>0.59</td>\n",
       "      <td>1</td>\n",
       "      <td>129</td>\n",
       "    </tr>\n",
       "  </tbody>\n",
       "</table>\n",
       "</div>"
      ],
      "text/plain": [
       "     id                                              nome  host_id  \\\n",
       "0  2595                             Skylit Midtown Castle     2845   \n",
       "1  3647               THE VILLAGE OF HARLEM....NEW YORK !     4632   \n",
       "2  3831                   Cozy Entire Floor of Brownstone     4869   \n",
       "3  5022  Entire Apt: Spacious Studio/Loft by central park     7192   \n",
       "4  5099         Large Cozy 1 BR Apartment In Midtown East     7322   \n",
       "\n",
       "     host_name bairro_group        bairro  latitude  longitude  \\\n",
       "0     Jennifer    Manhattan       Midtown  40.75362  -73.98377   \n",
       "1    Elisabeth    Manhattan        Harlem  40.80902  -73.94190   \n",
       "2  LisaRoxanne     Brooklyn  Clinton Hill  40.68514  -73.95976   \n",
       "3        Laura    Manhattan   East Harlem  40.79851  -73.94399   \n",
       "4        Chris    Manhattan   Murray Hill  40.74767  -73.97500   \n",
       "\n",
       "         room_type  price  minimo_noites  numero_de_reviews ultima_review  \\\n",
       "0  Entire home/apt    225              1                 45    2019-05-21   \n",
       "1     Private room    150              3                  0           NaN   \n",
       "2  Entire home/apt     89              1                270    2019-07-05   \n",
       "3  Entire home/apt     80             10                  9    2018-11-19   \n",
       "4  Entire home/apt    200              3                 74    2019-06-22   \n",
       "\n",
       "   reviews_por_mes  calculado_host_listings_count  disponibilidade_365  \n",
       "0             0.38                              2                  355  \n",
       "1              NaN                              1                  365  \n",
       "2             4.64                              1                  194  \n",
       "3             0.10                              1                    0  \n",
       "4             0.59                              1                  129  "
      ]
     },
     "execution_count": 37,
     "metadata": {},
     "output_type": "execute_result"
    }
   ],
   "source": [
    "df = pd.read_csv('../dataset/teste_indicium_precificacao.csv')\n",
    "df.head()"
   ]
  },
  {
   "cell_type": "markdown",
   "metadata": {},
   "source": [
    "Exibindo mais informações do dataset,"
   ]
  },
  {
   "cell_type": "code",
   "execution_count": 38,
   "metadata": {},
   "outputs": [
    {
     "name": "stdout",
     "output_type": "stream",
     "text": [
      "<class 'pandas.core.frame.DataFrame'>\n",
      "RangeIndex: 48894 entries, 0 to 48893\n",
      "Data columns (total 16 columns):\n",
      " #   Column                         Non-Null Count  Dtype  \n",
      "---  ------                         --------------  -----  \n",
      " 0   id                             48894 non-null  int64  \n",
      " 1   nome                           48878 non-null  object \n",
      " 2   host_id                        48894 non-null  int64  \n",
      " 3   host_name                      48873 non-null  object \n",
      " 4   bairro_group                   48894 non-null  object \n",
      " 5   bairro                         48894 non-null  object \n",
      " 6   latitude                       48894 non-null  float64\n",
      " 7   longitude                      48894 non-null  float64\n",
      " 8   room_type                      48894 non-null  object \n",
      " 9   price                          48894 non-null  int64  \n",
      " 10  minimo_noites                  48894 non-null  int64  \n",
      " 11  numero_de_reviews              48894 non-null  int64  \n",
      " 12  ultima_review                  38842 non-null  object \n",
      " 13  reviews_por_mes                38842 non-null  float64\n",
      " 14  calculado_host_listings_count  48894 non-null  int64  \n",
      " 15  disponibilidade_365            48894 non-null  int64  \n",
      "dtypes: float64(3), int64(7), object(6)\n",
      "memory usage: 6.0+ MB\n"
     ]
    }
   ],
   "source": [
    "df.info()"
   ]
  },
  {
   "cell_type": "markdown",
   "metadata": {},
   "source": [
    "## Separando as features da variável target"
   ]
  },
  {
   "cell_type": "markdown",
   "metadata": {},
   "source": [
    "Primeiro de tudo, é preciso separar as variáveis que são features da variável \"objetivo\" ou target. O grupo das features que é composto por todas as variáveis que ajudam a explicar o comportamento do \"target\", restando para o outro grupo justamente a variável \"target\" que é o a coluna 'price' com o preço de aluguel dos imóveis.\n",
    "\n",
    "Importante destacar aqui que, para o grupo das features, não serão utilizadas todas as colunas do dataset. De início, serão retiradas as colunas \"id\", \"nome\", \"host_id\" e \"host_name\", visto que elas retornam informações que não são relevantes para a determinação do preço dos aluguéis, pois somente dizem respeito a códigos de identificação e nome dos anúncios, não tem nada sobre os imóveis em si. "
   ]
  },
  {
   "cell_type": "code",
   "execution_count": 39,
   "metadata": {},
   "outputs": [],
   "source": [
    "# definindo o grupo das features\n",
    "X = df.drop(columns = ['id', 'nome', 'host_id', 'host_name', 'price'])\n",
    "\n",
    "# target\n",
    "y = df['price']"
   ]
  },
  {
   "cell_type": "markdown",
   "metadata": {},
   "source": [
    "## Separando as bases de treino e teste"
   ]
  },
  {
   "cell_type": "markdown",
   "metadata": {},
   "source": [
    "Agora, é necessário separar os grupos definidos acima em duas bases, uma base de treino que será utilizado para treinar o modelo a ser definido e a base de teste será utilizada para avaliar a performance do modelo, comparando os resultados previstos com os resultados reais da base."
   ]
  },
  {
   "cell_type": "code",
   "execution_count": 40,
   "metadata": {},
   "outputs": [],
   "source": [
    "# separando as bases de treino e teste\n",
    "\n",
    "X_train, X_test, y_train, y_test = train_test_split(X, y, test_size = 0.2)"
   ]
  },
  {
   "cell_type": "markdown",
   "metadata": {},
   "source": [
    "Visualizando os data frames das features de treino e teste,"
   ]
  },
  {
   "cell_type": "code",
   "execution_count": 41,
   "metadata": {},
   "outputs": [
    {
     "name": "stdout",
     "output_type": "stream",
     "text": [
      "<class 'pandas.core.frame.DataFrame'>\n",
      "Index: 39115 entries, 8892 to 36589\n",
      "Data columns (total 11 columns):\n",
      " #   Column                         Non-Null Count  Dtype  \n",
      "---  ------                         --------------  -----  \n",
      " 0   bairro_group                   39115 non-null  object \n",
      " 1   bairro                         39115 non-null  object \n",
      " 2   latitude                       39115 non-null  float64\n",
      " 3   longitude                      39115 non-null  float64\n",
      " 4   room_type                      39115 non-null  object \n",
      " 5   minimo_noites                  39115 non-null  int64  \n",
      " 6   numero_de_reviews              39115 non-null  int64  \n",
      " 7   ultima_review                  31122 non-null  object \n",
      " 8   reviews_por_mes                31122 non-null  float64\n",
      " 9   calculado_host_listings_count  39115 non-null  int64  \n",
      " 10  disponibilidade_365            39115 non-null  int64  \n",
      "dtypes: float64(3), int64(4), object(4)\n",
      "memory usage: 3.6+ MB\n"
     ]
    }
   ],
   "source": [
    "X_train.info()"
   ]
  },
  {
   "cell_type": "code",
   "execution_count": 42,
   "metadata": {},
   "outputs": [
    {
     "name": "stdout",
     "output_type": "stream",
     "text": [
      "<class 'pandas.core.frame.DataFrame'>\n",
      "Index: 9779 entries, 18180 to 21129\n",
      "Data columns (total 11 columns):\n",
      " #   Column                         Non-Null Count  Dtype  \n",
      "---  ------                         --------------  -----  \n",
      " 0   bairro_group                   9779 non-null   object \n",
      " 1   bairro                         9779 non-null   object \n",
      " 2   latitude                       9779 non-null   float64\n",
      " 3   longitude                      9779 non-null   float64\n",
      " 4   room_type                      9779 non-null   object \n",
      " 5   minimo_noites                  9779 non-null   int64  \n",
      " 6   numero_de_reviews              9779 non-null   int64  \n",
      " 7   ultima_review                  7720 non-null   object \n",
      " 8   reviews_por_mes                7720 non-null   float64\n",
      " 9   calculado_host_listings_count  9779 non-null   int64  \n",
      " 10  disponibilidade_365            9779 non-null   int64  \n",
      "dtypes: float64(3), int64(4), object(4)\n",
      "memory usage: 916.8+ KB\n"
     ]
    }
   ],
   "source": [
    "X_test.info()"
   ]
  },
  {
   "cell_type": "markdown",
   "metadata": {},
   "source": [
    "## Dividindo os grupos das features de treino (numéricas e categóricas)"
   ]
  },
  {
   "cell_type": "markdown",
   "metadata": {},
   "source": [
    "Seguindo com o desenvolvimento do modelo, é preciso separar as features categóricas das features com dados numéricos. Isto se torna importante pois, dependendo do tipo de dado de cada coluna, o pré-processamento será diferente.\n",
    "\n",
    "Para isso, utilizou-se da função make_column_selector da biblioteca sklearn importada anteriormente, de tal modo que esta função irá produzir listas somente com as colunas que tem o tipo de dado especificado em seu argumento."
   ]
  },
  {
   "cell_type": "code",
   "execution_count": 43,
   "metadata": {},
   "outputs": [],
   "source": [
    "# Seperando as colunas numéricas das categóricas\n",
    "numerical_columns_selector = make_column_selector(dtype_exclude = object)\n",
    "categorical_columns_selector = make_column_selector(dtype_include = object)"
   ]
  },
  {
   "cell_type": "code",
   "execution_count": 44,
   "metadata": {},
   "outputs": [
    {
     "data": {
      "text/plain": [
       "['latitude',\n",
       " 'longitude',\n",
       " 'minimo_noites',\n",
       " 'numero_de_reviews',\n",
       " 'reviews_por_mes',\n",
       " 'calculado_host_listings_count',\n",
       " 'disponibilidade_365']"
      ]
     },
     "execution_count": 44,
     "metadata": {},
     "output_type": "execute_result"
    }
   ],
   "source": [
    "# grupo das features numéricas\n",
    "numerical_features = numerical_columns_selector(X_train)\n",
    "numerical_features"
   ]
  },
  {
   "cell_type": "code",
   "execution_count": 45,
   "metadata": {},
   "outputs": [
    {
     "data": {
      "text/plain": [
       "['bairro_group', 'bairro', 'room_type', 'ultima_review']"
      ]
     },
     "execution_count": 45,
     "metadata": {},
     "output_type": "execute_result"
    }
   ],
   "source": [
    "# grupo das features categóricas\n",
    "categorical_features = categorical_columns_selector(X_train)\n",
    "categorical_features"
   ]
  },
  {
   "cell_type": "markdown",
   "metadata": {},
   "source": [
    "## Estratégia de pré-processamento dos dados nulos"
   ]
  },
  {
   "cell_type": "markdown",
   "metadata": {},
   "source": [
    "Antes de partir para a construção do pipeline e demais pré-processamento dos dados, é preciso definir uma estratégia de tratamento dos dados nulos presentes neste dataset.\n",
    "\n",
    "Assim, relembrando-se o dataset de treino,"
   ]
  },
  {
   "cell_type": "code",
   "execution_count": 46,
   "metadata": {},
   "outputs": [
    {
     "name": "stdout",
     "output_type": "stream",
     "text": [
      "<class 'pandas.core.frame.DataFrame'>\n",
      "Index: 39115 entries, 8892 to 36589\n",
      "Data columns (total 11 columns):\n",
      " #   Column                         Non-Null Count  Dtype  \n",
      "---  ------                         --------------  -----  \n",
      " 0   bairro_group                   39115 non-null  object \n",
      " 1   bairro                         39115 non-null  object \n",
      " 2   latitude                       39115 non-null  float64\n",
      " 3   longitude                      39115 non-null  float64\n",
      " 4   room_type                      39115 non-null  object \n",
      " 5   minimo_noites                  39115 non-null  int64  \n",
      " 6   numero_de_reviews              39115 non-null  int64  \n",
      " 7   ultima_review                  31122 non-null  object \n",
      " 8   reviews_por_mes                31122 non-null  float64\n",
      " 9   calculado_host_listings_count  39115 non-null  int64  \n",
      " 10  disponibilidade_365            39115 non-null  int64  \n",
      "dtypes: float64(3), int64(4), object(4)\n",
      "memory usage: 3.6+ MB\n"
     ]
    }
   ],
   "source": [
    "X_train.info()"
   ]
  },
  {
   "cell_type": "markdown",
   "metadata": {},
   "source": [
    "Utilizando da mesma linha de código do notebook 'EDA.ipynb', exibi-se a tabela abaixo com as infos dos dados nulos,"
   ]
  },
  {
   "cell_type": "code",
   "execution_count": 47,
   "metadata": {},
   "outputs": [
    {
     "data": {
      "text/html": [
       "<style type=\"text/css\">\n",
       "</style>\n",
       "<table id=\"T_3467e\">\n",
       "  <thead>\n",
       "    <tr>\n",
       "      <th class=\"blank level0\" >&nbsp;</th>\n",
       "      <th id=\"T_3467e_level0_col0\" class=\"col_heading level0 col0\" >missing_count</th>\n",
       "      <th id=\"T_3467e_level0_col1\" class=\"col_heading level0 col1\" >missing_pct</th>\n",
       "    </tr>\n",
       "  </thead>\n",
       "  <tbody>\n",
       "    <tr>\n",
       "      <th id=\"T_3467e_level0_row0\" class=\"row_heading level0 row0\" >bairro_group</th>\n",
       "      <td id=\"T_3467e_row0_col0\" class=\"data row0 col0\" >0</td>\n",
       "      <td id=\"T_3467e_row0_col1\" class=\"data row0 col1\" >0.00%</td>\n",
       "    </tr>\n",
       "    <tr>\n",
       "      <th id=\"T_3467e_level0_row1\" class=\"row_heading level0 row1\" >bairro</th>\n",
       "      <td id=\"T_3467e_row1_col0\" class=\"data row1 col0\" >0</td>\n",
       "      <td id=\"T_3467e_row1_col1\" class=\"data row1 col1\" >0.00%</td>\n",
       "    </tr>\n",
       "    <tr>\n",
       "      <th id=\"T_3467e_level0_row2\" class=\"row_heading level0 row2\" >latitude</th>\n",
       "      <td id=\"T_3467e_row2_col0\" class=\"data row2 col0\" >0</td>\n",
       "      <td id=\"T_3467e_row2_col1\" class=\"data row2 col1\" >0.00%</td>\n",
       "    </tr>\n",
       "    <tr>\n",
       "      <th id=\"T_3467e_level0_row3\" class=\"row_heading level0 row3\" >longitude</th>\n",
       "      <td id=\"T_3467e_row3_col0\" class=\"data row3 col0\" >0</td>\n",
       "      <td id=\"T_3467e_row3_col1\" class=\"data row3 col1\" >0.00%</td>\n",
       "    </tr>\n",
       "    <tr>\n",
       "      <th id=\"T_3467e_level0_row4\" class=\"row_heading level0 row4\" >room_type</th>\n",
       "      <td id=\"T_3467e_row4_col0\" class=\"data row4 col0\" >0</td>\n",
       "      <td id=\"T_3467e_row4_col1\" class=\"data row4 col1\" >0.00%</td>\n",
       "    </tr>\n",
       "    <tr>\n",
       "      <th id=\"T_3467e_level0_row5\" class=\"row_heading level0 row5\" >minimo_noites</th>\n",
       "      <td id=\"T_3467e_row5_col0\" class=\"data row5 col0\" >0</td>\n",
       "      <td id=\"T_3467e_row5_col1\" class=\"data row5 col1\" >0.00%</td>\n",
       "    </tr>\n",
       "    <tr>\n",
       "      <th id=\"T_3467e_level0_row6\" class=\"row_heading level0 row6\" >numero_de_reviews</th>\n",
       "      <td id=\"T_3467e_row6_col0\" class=\"data row6 col0\" >0</td>\n",
       "      <td id=\"T_3467e_row6_col1\" class=\"data row6 col1\" >0.00%</td>\n",
       "    </tr>\n",
       "    <tr>\n",
       "      <th id=\"T_3467e_level0_row7\" class=\"row_heading level0 row7\" >ultima_review</th>\n",
       "      <td id=\"T_3467e_row7_col0\" class=\"data row7 col0\" >7993</td>\n",
       "      <td id=\"T_3467e_row7_col1\" class=\"data row7 col1\" >20.43%</td>\n",
       "    </tr>\n",
       "    <tr>\n",
       "      <th id=\"T_3467e_level0_row8\" class=\"row_heading level0 row8\" >reviews_por_mes</th>\n",
       "      <td id=\"T_3467e_row8_col0\" class=\"data row8 col0\" >7993</td>\n",
       "      <td id=\"T_3467e_row8_col1\" class=\"data row8 col1\" >20.43%</td>\n",
       "    </tr>\n",
       "    <tr>\n",
       "      <th id=\"T_3467e_level0_row9\" class=\"row_heading level0 row9\" >calculado_host_listings_count</th>\n",
       "      <td id=\"T_3467e_row9_col0\" class=\"data row9 col0\" >0</td>\n",
       "      <td id=\"T_3467e_row9_col1\" class=\"data row9 col1\" >0.00%</td>\n",
       "    </tr>\n",
       "    <tr>\n",
       "      <th id=\"T_3467e_level0_row10\" class=\"row_heading level0 row10\" >disponibilidade_365</th>\n",
       "      <td id=\"T_3467e_row10_col0\" class=\"data row10 col0\" >0</td>\n",
       "      <td id=\"T_3467e_row10_col1\" class=\"data row10 col1\" >0.00%</td>\n",
       "    </tr>\n",
       "  </tbody>\n",
       "</table>\n"
      ],
      "text/plain": [
       "<pandas.io.formats.style.Styler at 0x1fd77083f50>"
      ]
     },
     "execution_count": 47,
     "metadata": {},
     "output_type": "execute_result"
    }
   ],
   "source": [
    "# definindo um data frame com a quantidade de dados nulos por coluna\n",
    "missing_data = (\n",
    "    X_train.isnull()\n",
    "    .sum()\n",
    "    .to_frame('missing_count')\n",
    ")\n",
    "\n",
    "# adicionando ao data frame uma coluna com a quantidade de dados nulos por coluna divido pela quantidade total de dados\n",
    "missing_data = missing_data.join(((X_train.isnull().sum())/(X_train.shape[0])).to_frame('missing_pct'))\n",
    "\n",
    "# formando a coluna 'missing_pct' para exibir os resultados com duas casas decimais e no formato de porcentagem\n",
    "missing_data.style.format('{:.2%}', subset = 'missing_pct')"
   ]
  },
  {
   "cell_type": "markdown",
   "metadata": {},
   "source": [
    "É interssante analisar que para as duas colunas \"ultima_review\" e \"reviews_por_mes\", tem-se exatamente a mesma quantidade de dados nulos, fato este que pode indicar uma correlação entre elas (quando uma for nula, a outra também será).\n",
    "\n",
    "Para validar isto de forma mais clara, utilizou-se da biblioteca missingno importada anteriormente. Ela permite a plotagem de gráficos com destaque para os dados nulos, conforme demonstrado na linha de código abaixo."
   ]
  },
  {
   "cell_type": "code",
   "execution_count": 48,
   "metadata": {},
   "outputs": [
    {
     "data": {
      "text/plain": [
       "<Figure size 1200x800 with 0 Axes>"
      ]
     },
     "metadata": {},
     "output_type": "display_data"
    },
    {
     "data": {
      "image/png": "[encoded data removed]",
      "text/plain": [
       "<Figure size 2500x1000 with 2 Axes>"
      ]
     },
     "metadata": {},
     "output_type": "display_data"
    }
   ],
   "source": [
    "# definir tamanho da imagem\n",
    "plt.figure(figsize = (12,8))\n",
    "\n",
    "# plotando o gráfico\n",
    "msno.matrix(df = X_train)\n",
    "\n",
    "# título do gráfico\n",
    "plt.title('Distribuição dos dados nulos ao longo da base de treino', fontsize = 18);"
   ]
  },
  {
   "cell_type": "markdown",
   "metadata": {},
   "source": [
    "Observa-se na imagem acima um padrão claro: quando o dado presente na coluna \"ultima_review\" for nulo, o \"reviews_por_mes\" também será nulo. Isto faz sentido também se analisarmos do ponto de vista do negócio em si, pois se a coluna \"ultima_review\", que são datas, está nulo, quer dizer que provavelmente aquele imóvel nunca recebeu hóspedes, garantindo assim que não existirá nenhum review, pois o imóvel nunca foi avaliado.\n",
    "\n",
    "Para confirmar isto, pode-se verificar quais são os dados presente na coluna \"numero_de_reviews\" nos casos em que \"ultima_review\" e \"reviews_por_mes\" forem nulos."
   ]
  },
  {
   "cell_type": "code",
   "execution_count": 49,
   "metadata": {},
   "outputs": [
    {
     "data": {
      "text/html": [
       "<div>\n",
       "<style scoped>\n",
       "    .dataframe tbody tr th:only-of-type {\n",
       "        vertical-align: middle;\n",
       "    }\n",
       "\n",
       "    .dataframe tbody tr th {\n",
       "        vertical-align: top;\n",
       "    }\n",
       "\n",
       "    .dataframe thead th {\n",
       "        text-align: right;\n",
       "    }\n",
       "</style>\n",
       "<table border=\"1\" class=\"dataframe\">\n",
       "  <thead>\n",
       "    <tr style=\"text-align: right;\">\n",
       "      <th></th>\n",
       "      <th>bairro_group</th>\n",
       "      <th>bairro</th>\n",
       "      <th>latitude</th>\n",
       "      <th>longitude</th>\n",
       "      <th>room_type</th>\n",
       "      <th>minimo_noites</th>\n",
       "      <th>numero_de_reviews</th>\n",
       "      <th>ultima_review</th>\n",
       "      <th>reviews_por_mes</th>\n",
       "      <th>calculado_host_listings_count</th>\n",
       "      <th>disponibilidade_365</th>\n",
       "    </tr>\n",
       "  </thead>\n",
       "  <tbody>\n",
       "    <tr>\n",
       "      <th>44463</th>\n",
       "      <td>Brooklyn</td>\n",
       "      <td>Williamsburg</td>\n",
       "      <td>40.70197</td>\n",
       "      <td>-73.94131</td>\n",
       "      <td>Shared room</td>\n",
       "      <td>3</td>\n",
       "      <td>0</td>\n",
       "      <td>NaN</td>\n",
       "      <td>NaN</td>\n",
       "      <td>1</td>\n",
       "      <td>16</td>\n",
       "    </tr>\n",
       "    <tr>\n",
       "      <th>17742</th>\n",
       "      <td>Queens</td>\n",
       "      <td>Astoria</td>\n",
       "      <td>40.75951</td>\n",
       "      <td>-73.91963</td>\n",
       "      <td>Private room</td>\n",
       "      <td>1</td>\n",
       "      <td>0</td>\n",
       "      <td>NaN</td>\n",
       "      <td>NaN</td>\n",
       "      <td>1</td>\n",
       "      <td>0</td>\n",
       "    </tr>\n",
       "    <tr>\n",
       "      <th>31569</th>\n",
       "      <td>Manhattan</td>\n",
       "      <td>Lower East Side</td>\n",
       "      <td>40.71098</td>\n",
       "      <td>-73.98696</td>\n",
       "      <td>Shared room</td>\n",
       "      <td>14</td>\n",
       "      <td>0</td>\n",
       "      <td>NaN</td>\n",
       "      <td>NaN</td>\n",
       "      <td>28</td>\n",
       "      <td>321</td>\n",
       "    </tr>\n",
       "    <tr>\n",
       "      <th>45279</th>\n",
       "      <td>Manhattan</td>\n",
       "      <td>Harlem</td>\n",
       "      <td>40.83030</td>\n",
       "      <td>-73.94070</td>\n",
       "      <td>Private room</td>\n",
       "      <td>1</td>\n",
       "      <td>0</td>\n",
       "      <td>NaN</td>\n",
       "      <td>NaN</td>\n",
       "      <td>3</td>\n",
       "      <td>278</td>\n",
       "    </tr>\n",
       "    <tr>\n",
       "      <th>22402</th>\n",
       "      <td>Manhattan</td>\n",
       "      <td>Upper East Side</td>\n",
       "      <td>40.77241</td>\n",
       "      <td>-73.94800</td>\n",
       "      <td>Entire home/apt</td>\n",
       "      <td>31</td>\n",
       "      <td>0</td>\n",
       "      <td>NaN</td>\n",
       "      <td>NaN</td>\n",
       "      <td>2</td>\n",
       "      <td>0</td>\n",
       "    </tr>\n",
       "    <tr>\n",
       "      <th>...</th>\n",
       "      <td>...</td>\n",
       "      <td>...</td>\n",
       "      <td>...</td>\n",
       "      <td>...</td>\n",
       "      <td>...</td>\n",
       "      <td>...</td>\n",
       "      <td>...</td>\n",
       "      <td>...</td>\n",
       "      <td>...</td>\n",
       "      <td>...</td>\n",
       "      <td>...</td>\n",
       "    </tr>\n",
       "    <tr>\n",
       "      <th>22828</th>\n",
       "      <td>Brooklyn</td>\n",
       "      <td>Bushwick</td>\n",
       "      <td>40.68644</td>\n",
       "      <td>-73.91064</td>\n",
       "      <td>Private room</td>\n",
       "      <td>7</td>\n",
       "      <td>0</td>\n",
       "      <td>NaN</td>\n",
       "      <td>NaN</td>\n",
       "      <td>1</td>\n",
       "      <td>0</td>\n",
       "    </tr>\n",
       "    <tr>\n",
       "      <th>11830</th>\n",
       "      <td>Manhattan</td>\n",
       "      <td>Upper East Side</td>\n",
       "      <td>40.78179</td>\n",
       "      <td>-73.94700</td>\n",
       "      <td>Entire home/apt</td>\n",
       "      <td>1</td>\n",
       "      <td>0</td>\n",
       "      <td>NaN</td>\n",
       "      <td>NaN</td>\n",
       "      <td>1</td>\n",
       "      <td>0</td>\n",
       "    </tr>\n",
       "    <tr>\n",
       "      <th>42041</th>\n",
       "      <td>Manhattan</td>\n",
       "      <td>Washington Heights</td>\n",
       "      <td>40.85156</td>\n",
       "      <td>-73.93035</td>\n",
       "      <td>Private room</td>\n",
       "      <td>15</td>\n",
       "      <td>0</td>\n",
       "      <td>NaN</td>\n",
       "      <td>NaN</td>\n",
       "      <td>1</td>\n",
       "      <td>350</td>\n",
       "    </tr>\n",
       "    <tr>\n",
       "      <th>48100</th>\n",
       "      <td>Brooklyn</td>\n",
       "      <td>Bedford-Stuyvesant</td>\n",
       "      <td>40.69198</td>\n",
       "      <td>-73.96008</td>\n",
       "      <td>Entire home/apt</td>\n",
       "      <td>2</td>\n",
       "      <td>0</td>\n",
       "      <td>NaN</td>\n",
       "      <td>NaN</td>\n",
       "      <td>1</td>\n",
       "      <td>5</td>\n",
       "    </tr>\n",
       "    <tr>\n",
       "      <th>44682</th>\n",
       "      <td>Manhattan</td>\n",
       "      <td>Midtown</td>\n",
       "      <td>40.76381</td>\n",
       "      <td>-73.97314</td>\n",
       "      <td>Private room</td>\n",
       "      <td>3</td>\n",
       "      <td>0</td>\n",
       "      <td>NaN</td>\n",
       "      <td>NaN</td>\n",
       "      <td>1</td>\n",
       "      <td>0</td>\n",
       "    </tr>\n",
       "  </tbody>\n",
       "</table>\n",
       "<p>7993 rows × 11 columns</p>\n",
       "</div>"
      ],
      "text/plain": [
       "      bairro_group              bairro  latitude  longitude        room_type  \\\n",
       "44463     Brooklyn        Williamsburg  40.70197  -73.94131      Shared room   \n",
       "17742       Queens             Astoria  40.75951  -73.91963     Private room   \n",
       "31569    Manhattan     Lower East Side  40.71098  -73.98696      Shared room   \n",
       "45279    Manhattan              Harlem  40.83030  -73.94070     Private room   \n",
       "22402    Manhattan     Upper East Side  40.77241  -73.94800  Entire home/apt   \n",
       "...            ...                 ...       ...        ...              ...   \n",
       "22828     Brooklyn            Bushwick  40.68644  -73.91064     Private room   \n",
       "11830    Manhattan     Upper East Side  40.78179  -73.94700  Entire home/apt   \n",
       "42041    Manhattan  Washington Heights  40.85156  -73.93035     Private room   \n",
       "48100     Brooklyn  Bedford-Stuyvesant  40.69198  -73.96008  Entire home/apt   \n",
       "44682    Manhattan             Midtown  40.76381  -73.97314     Private room   \n",
       "\n",
       "       minimo_noites  numero_de_reviews ultima_review  reviews_por_mes  \\\n",
       "44463              3                  0           NaN              NaN   \n",
       "17742              1                  0           NaN              NaN   \n",
       "31569             14                  0           NaN              NaN   \n",
       "45279              1                  0           NaN              NaN   \n",
       "22402             31                  0           NaN              NaN   \n",
       "...              ...                ...           ...              ...   \n",
       "22828              7                  0           NaN              NaN   \n",
       "11830              1                  0           NaN              NaN   \n",
       "42041             15                  0           NaN              NaN   \n",
       "48100              2                  0           NaN              NaN   \n",
       "44682              3                  0           NaN              NaN   \n",
       "\n",
       "       calculado_host_listings_count  disponibilidade_365  \n",
       "44463                              1                   16  \n",
       "17742                              1                    0  \n",
       "31569                             28                  321  \n",
       "45279                              3                  278  \n",
       "22402                              2                    0  \n",
       "...                              ...                  ...  \n",
       "22828                              1                    0  \n",
       "11830                              1                    0  \n",
       "42041                              1                  350  \n",
       "48100                              1                    5  \n",
       "44682                              1                    0  \n",
       "\n",
       "[7993 rows x 11 columns]"
      ]
     },
     "execution_count": 49,
     "metadata": {},
     "output_type": "execute_result"
    }
   ],
   "source": [
    "# filtrando todas as linhas do dataset de treino com dados nulos\n",
    "X_train[X_train.isnull().any(axis = 1)]"
   ]
  },
  {
   "cell_type": "code",
   "execution_count": 50,
   "metadata": {},
   "outputs": [
    {
     "data": {
      "text/plain": [
       "numero_de_reviews\n",
       "0    7993\n",
       "Name: count, dtype: int64"
      ]
     },
     "execution_count": 50,
     "metadata": {},
     "output_type": "execute_result"
    }
   ],
   "source": [
    "# exibindo somente os dados da coluna 'numero_de_reviews'\n",
    "X_train[X_train.isnull().any(axis = 1)]['numero_de_reviews'].value_counts()"
   ]
  },
  {
   "cell_type": "markdown",
   "metadata": {},
   "source": [
    "Com este resultado acima, concluí-se exatamente o esperado: todas as linhas que apresentam dados nulos nas colunas \"ultima_review\" e \"reviews_por_mes\", tem número de reviews iguais a 0. Ou seja, de fato estes imóveis nunca foram alugados para hóspedes.\n",
    "\n",
    "Logo, definiu-se duas estratégias diferentes para tratar estes dados nulos:\n",
    "- \"ultima_review\": para esta coluna, os dados nulos serão substituídos por uma string \"-\" (esta string foi escolhida somente para demonstrar que aquele imóvel não tem review, poderia substituir por qualquer outra string aleatória). Importante: é obrigatório substituí-los por uma string pois esta coluna está com dados do tipo \"object\", então se torna necessário manter o mesmo tipo de dado já existente para posterior pré-processamento;\n",
    "- \"reviews_por_mes\": para esta coluna, os dados nulos serão substituídos pelo número 0, indicando que não houve nenhum review pois o imóvel em questão nunca foi alugado. Da mesma forma que o caso anterior, substitui-se por um número pois os dados presentes nesta coluna são numéricos.\n",
    "\n",
    "OBS: estas substituições serão feitas nas sessões a seguir, utilizando a função SimpleImputer da biblioteca sklearn."
   ]
  },
  {
   "cell_type": "markdown",
   "metadata": {},
   "source": [
    "## Estratégia de pré-processamento dos outliers"
   ]
  },
  {
   "cell_type": "markdown",
   "metadata": {},
   "source": [
    "Conforme discutido e observado nas análises feitas no EDA, sabe-se que este dataset apresenta outliers consideráveis em seus dados. Para explorar isto, foi exibido alguns quartis a mais, utilizando a função .describe() aplicada a base de treino, conforme descrito abaixo."
   ]
  },
  {
   "cell_type": "code",
   "execution_count": 52,
   "metadata": {},
   "outputs": [
    {
     "data": {
      "text/html": [
       "<div>\n",
       "<style scoped>\n",
       "    .dataframe tbody tr th:only-of-type {\n",
       "        vertical-align: middle;\n",
       "    }\n",
       "\n",
       "    .dataframe tbody tr th {\n",
       "        vertical-align: top;\n",
       "    }\n",
       "\n",
       "    .dataframe thead th {\n",
       "        text-align: right;\n",
       "    }\n",
       "</style>\n",
       "<table border=\"1\" class=\"dataframe\">\n",
       "  <thead>\n",
       "    <tr style=\"text-align: right;\">\n",
       "      <th></th>\n",
       "      <th>latitude</th>\n",
       "      <th>longitude</th>\n",
       "      <th>minimo_noites</th>\n",
       "      <th>numero_de_reviews</th>\n",
       "      <th>reviews_por_mes</th>\n",
       "      <th>calculado_host_listings_count</th>\n",
       "      <th>disponibilidade_365</th>\n",
       "    </tr>\n",
       "  </thead>\n",
       "  <tbody>\n",
       "    <tr>\n",
       "      <th>count</th>\n",
       "      <td>39115.000000</td>\n",
       "      <td>39115.000000</td>\n",
       "      <td>39115.000000</td>\n",
       "      <td>39115.000000</td>\n",
       "      <td>31122.000000</td>\n",
       "      <td>39115.000000</td>\n",
       "      <td>39115.000000</td>\n",
       "    </tr>\n",
       "    <tr>\n",
       "      <th>mean</th>\n",
       "      <td>40.729112</td>\n",
       "      <td>-73.952225</td>\n",
       "      <td>6.991154</td>\n",
       "      <td>23.321232</td>\n",
       "      <td>1.375837</td>\n",
       "      <td>7.187728</td>\n",
       "      <td>112.806264</td>\n",
       "    </tr>\n",
       "    <tr>\n",
       "      <th>std</th>\n",
       "      <td>0.054619</td>\n",
       "      <td>0.046134</td>\n",
       "      <td>20.148623</td>\n",
       "      <td>44.693617</td>\n",
       "      <td>1.689508</td>\n",
       "      <td>33.009121</td>\n",
       "      <td>131.584271</td>\n",
       "    </tr>\n",
       "    <tr>\n",
       "      <th>min</th>\n",
       "      <td>40.499790</td>\n",
       "      <td>-74.244420</td>\n",
       "      <td>1.000000</td>\n",
       "      <td>0.000000</td>\n",
       "      <td>0.010000</td>\n",
       "      <td>1.000000</td>\n",
       "      <td>0.000000</td>\n",
       "    </tr>\n",
       "    <tr>\n",
       "      <th>25%</th>\n",
       "      <td>40.690155</td>\n",
       "      <td>-73.983190</td>\n",
       "      <td>1.000000</td>\n",
       "      <td>1.000000</td>\n",
       "      <td>0.190000</td>\n",
       "      <td>1.000000</td>\n",
       "      <td>0.000000</td>\n",
       "    </tr>\n",
       "    <tr>\n",
       "      <th>50%</th>\n",
       "      <td>40.723300</td>\n",
       "      <td>-73.955700</td>\n",
       "      <td>3.000000</td>\n",
       "      <td>5.000000</td>\n",
       "      <td>0.720000</td>\n",
       "      <td>1.000000</td>\n",
       "      <td>45.000000</td>\n",
       "    </tr>\n",
       "    <tr>\n",
       "      <th>75%</th>\n",
       "      <td>40.763185</td>\n",
       "      <td>-73.936205</td>\n",
       "      <td>5.000000</td>\n",
       "      <td>24.000000</td>\n",
       "      <td>2.020000</td>\n",
       "      <td>2.000000</td>\n",
       "      <td>227.000000</td>\n",
       "    </tr>\n",
       "    <tr>\n",
       "      <th>90%</th>\n",
       "      <td>40.805130</td>\n",
       "      <td>-73.907734</td>\n",
       "      <td>28.000000</td>\n",
       "      <td>70.000000</td>\n",
       "      <td>3.640000</td>\n",
       "      <td>5.000000</td>\n",
       "      <td>337.000000</td>\n",
       "    </tr>\n",
       "    <tr>\n",
       "      <th>99%</th>\n",
       "      <td>40.864889</td>\n",
       "      <td>-73.777739</td>\n",
       "      <td>45.000000</td>\n",
       "      <td>213.000000</td>\n",
       "      <td>7.257900</td>\n",
       "      <td>232.000000</td>\n",
       "      <td>365.000000</td>\n",
       "    </tr>\n",
       "    <tr>\n",
       "      <th>max</th>\n",
       "      <td>40.913060</td>\n",
       "      <td>-73.716900</td>\n",
       "      <td>1250.000000</td>\n",
       "      <td>629.000000</td>\n",
       "      <td>58.500000</td>\n",
       "      <td>327.000000</td>\n",
       "      <td>365.000000</td>\n",
       "    </tr>\n",
       "  </tbody>\n",
       "</table>\n",
       "</div>"
      ],
      "text/plain": [
       "           latitude     longitude  minimo_noites  numero_de_reviews  \\\n",
       "count  39115.000000  39115.000000   39115.000000       39115.000000   \n",
       "mean      40.729112    -73.952225       6.991154          23.321232   \n",
       "std        0.054619      0.046134      20.148623          44.693617   \n",
       "min       40.499790    -74.244420       1.000000           0.000000   \n",
       "25%       40.690155    -73.983190       1.000000           1.000000   \n",
       "50%       40.723300    -73.955700       3.000000           5.000000   \n",
       "75%       40.763185    -73.936205       5.000000          24.000000   \n",
       "90%       40.805130    -73.907734      28.000000          70.000000   \n",
       "99%       40.864889    -73.777739      45.000000         213.000000   \n",
       "max       40.913060    -73.716900    1250.000000         629.000000   \n",
       "\n",
       "       reviews_por_mes  calculado_host_listings_count  disponibilidade_365  \n",
       "count     31122.000000                   39115.000000         39115.000000  \n",
       "mean          1.375837                       7.187728           112.806264  \n",
       "std           1.689508                      33.009121           131.584271  \n",
       "min           0.010000                       1.000000             0.000000  \n",
       "25%           0.190000                       1.000000             0.000000  \n",
       "50%           0.720000                       1.000000            45.000000  \n",
       "75%           2.020000                       2.000000           227.000000  \n",
       "90%           3.640000                       5.000000           337.000000  \n",
       "99%           7.257900                     232.000000           365.000000  \n",
       "max          58.500000                     327.000000           365.000000  "
      ]
     },
     "execution_count": 52,
     "metadata": {},
     "output_type": "execute_result"
    }
   ],
   "source": [
    "X_train.describe(percentiles=[0.25, 0.5, 0.75, 0.9, 0.99])"
   ]
  },
  {
   "cell_type": "markdown",
   "metadata": {},
   "source": [
    "Observa-se que, considerando uma parcela de 90%, exceto nas colunas \"latitude\", \"longitude\" e \"disponibilidade_365\", todas as outras tem dadsos com valores máximos bem maiores que este limite. Por exemplo, na coluna 'minimo_noites', 90% dos dados ali presentes são menores que 28 dias, enquanto que o valor máximo dela encontrado é de 1250 dias. Outro exemplo, na coluna 'calculado_host_listings_count', 90% dos dados são menores do que 5, sendo que o máximo foi de 327. Estes casos interferem diretamente nos algoritmos de machine learning, principalmente nos modelos mais sensíveis a outliers, piorando de forma incisiva as suas métricas.\n",
    "\n",
    "Uma das formas de tratar isto é estabelecer um limite inferior e superior dos dados, de tal forma a substituir todos os valores que estão abaixo ou acima disto por esses limites. Esta foi a abordagem utilizada para definir a função abaixo de tratamento dos outliers, onde utilizou-se um limite superior igual ao quartil de 90% e um limite inferior igual a 0, visto que os valores mínimos das colunas estão bem próximos dos 25% menores em todos os casos."
   ]
  },
  {
   "cell_type": "code",
   "execution_count": 70,
   "metadata": {},
   "outputs": [],
   "source": [
    "# função para tratamento dos outliers\n",
    "def outliers(array, lower_quantile = 0., upper_quantile = 0.9):\n",
    "\n",
    "    # calculando o limite inferior de cada coluna com base no quartil passado acima\n",
    "    lower_quantile = np.quantile(array, lower_quantile)\n",
    "\n",
    "    # calculando o limite superior de cada coluna com base no quartil passado acima\n",
    "    upper_quantile = np.quantile(array, upper_quantile)\n",
    "\n",
    "    # comparando os dados com o limite inferior\n",
    "    array[array<lower_quantile] = lower_quantile\n",
    "\n",
    "    # comparando os dados com o limite superior\n",
    "    array[array>upper_quantile] = upper_quantile\n",
    "\n",
    "    # retornando os dados já substituídos\n",
    "    return array"
   ]
  },
  {
   "cell_type": "markdown",
   "metadata": {},
   "source": [
    "Esta função aqui definida será englobada posteriormente por cada um dos pipelines utilizando a função FunctionTransformer() da biblioteca sklearn, de tal modo que ela será chamada toda vez que o pipeline for alimentado por novos dados."
   ]
  },
  {
   "cell_type": "markdown",
   "metadata": {},
   "source": [
    "## Abordagens de pré-processamento dos dados conforme o tipo de modelo utilizado"
   ]
  },
  {
   "cell_type": "markdown",
   "metadata": {},
   "source": [
    "Traçada a estratégia para tratamento dos dados nulos, e já separadas as colunas categóricas e numéricas das features, agora é possível definir toda a estrutura de pré-processamento dos dados.\n",
    "\n",
    "Para problemas de regressão, tem-se basicamente 3 tipos de modelos diferentes (lineares, árvore de descisão e ensemble models). \n",
    "\n",
    "- Modelos lineares : conforme visto anteriormente nas análises feitas no EDA, nenhuma feature apresentou correlação linear com a nossa variável target 'price'. Além disso, caso fosse do interesse utilizar um modelo linear, seria necessário aplicar dois pré-processadores:\n",
    "    - StandardScaler: usado nas features numéricas, ele funciona de forma a transformar todos os dados numéricos de uma coluna em uma distribuição de tal modo que a média tende a 0 e o desvio padrão fica muito próximo de 1. Este transformador é para modelos lineares pois neste tipo de abordagem, a ordem de grandeza dos números interfere no algoritmo do modelo, e como tem-se colunas numéricas das mais variadas escalas, padronizá-los ajuda a converter em um resultado de forma mais rápida e precisa.\n",
    "    - OneHotEncoder: usado nas features categóricas, este transformador converte todas as entradas diferentes de uma coluna categórica em uma nova coluna, de tal forma que estas novas colunas serão preenchidas por 0, caso aquela característica não exista naquela coluna, ou 1 caso exista. O problema é que existem duas colunas categóricas na base de treino, \"ultima_review\" e \"bairro\", que apresentam muitas entradas diferentes, o que levaria a serem criadas uma quantidade exagerada de novas colunas. Isto irá fazer com que os cálculos deste modelo fiquem muito devagar, além de exigir um processamento demasiadamente desnecessário da máquina que irá executar o código.\n",
    "\n",
    "- Árvore de descisão: diferentemente dos modelos lineares, não é extremamente necessário tratar as features numéricas, visto que a ordem de grandeza dos números não interfere nos cálculos realizados por este tipo de algoritmo. Isto também implica em poder utilizar-se de outro pré-processador nas features categóricas:\n",
    "    - OrdinalEncoder: usado nas features categóricas, este pré-processador basicamente irá substituir as diferentes entradas das colunas por um número aletório. Diferentemente do OneHotEncoder, não serão criadas nenhuma nova coluna, apenas substituirá as entradas do tipo texto por números. Como a ordem de grandeza não interfere, pouco importa por qual número será substituído o texto, desde que dois textos diferentes se transformem em dois números diferentes.\n",
    "\n",
    "- Ensemble models: funciona com basicamente os mesmo pré-processadores dos modelos de árvore de descisão, contudo geralmente apresentam metodologias de cálculos e seleção que propiciam resultados mais vantajosos que os demais tipos de modelos.\n",
    "\n",
    "Feitas essas análises, foi definido testar primeiro os modelos de árvore de descisão e ensemble models, visto que tem pipelines iguais, e posteriormente testar um modelo linear com um pré-processamento maior. Ao final, comparou-se os resultados de todos para ser definido o melhor."
   ]
  },
  {
   "cell_type": "markdown",
   "metadata": {},
   "source": [
    "## Modelos de árvore de descisão e 'ensemble models'"
   ]
  },
  {
   "cell_type": "markdown",
   "metadata": {},
   "source": [
    "Nesta sessão foi definido o pré-processamento dos dados, com posterior definição do pipeline completo para treino e avaliação dos resultados dos modelos de árvore de descisão e 'ensemble models'."
   ]
  },
  {
   "cell_type": "markdown",
   "metadata": {},
   "source": [
    "### Pré-processamento dos dados"
   ]
  },
  {
   "cell_type": "markdown",
   "metadata": {},
   "source": [
    "Aqui foi definido o pré-processador, utilizando para as features numéricas a imputação do número 0 para os dados nulos e substituindo os outliers, conforme descrito nas sessões anteriores. Já para as categóricas, foi imputado a string '-' nos dados nulos e transformadas usando o transformador OrdinalEncoder."
   ]
  },
  {
   "cell_type": "code",
   "execution_count": 75,
   "metadata": {},
   "outputs": [],
   "source": [
    "# pré-processamento das features numéricas\n",
    "numerical_transformer = Pipeline(steps = [\n",
    "    ('imputer', SimpleImputer(strategy = 'constant', fill_value = 0)),\n",
    "    ('out_sub', FunctionTransformer(func = outliers))\n",
    "])\n",
    "\n",
    "# definindo o OrdinalEncoder\n",
    "encoder = OrdinalEncoder(handle_unknown = 'use_encoded_value', unknown_value = -1)\n",
    "\n",
    "# pré-processamento das features categóricas\n",
    "categorical_transformer = Pipeline(steps = [\n",
    "    ('imputer', SimpleImputer(strategy = 'constant', fill_value = '-')),\n",
    "    ('encoder', encoder)\n",
    "])\n",
    "\n",
    "# pré-processamento completo, aplicando os transformadores as suas respectivas colunas\n",
    "preprocessor = ColumnTransformer([\n",
    "    ('num', numerical_transformer, numerical_features),\n",
    "    ('cat', categorical_transformer, categorical_features),\n",
    "])"
   ]
  },
  {
   "cell_type": "markdown",
   "metadata": {},
   "source": [
    "### Pipeline completo com teste dos modelos"
   ]
  },
  {
   "cell_type": "markdown",
   "metadata": {},
   "source": [
    "Agora, basta adicionar um estimador para termos o pipeline completo. Para fins de avaliação dos modelos testados, será treinado e testado junto a todos eles, um \"baseline\" chamado DummyRegressor. A função deste \"baseline\" é basicamente \"chutar\" todos os preços de alugel a partir de uma estratégia a ser definida. Neste caso, adotou-se como estratégia chutar todos os valores de preços como sendo a mediana dos dados, visto que como existem fortes outliers no dataset, a média dos dados fica distorcida. Ele será usado como uma espécie de limite na análise, pois um modelo de machine learning robusto deve no mínimo ter melhor performance do que um \"chute\" igual para todos os cenários."
   ]
  },
  {
   "cell_type": "code",
   "execution_count": 55,
   "metadata": {},
   "outputs": [],
   "source": [
    "# Criando o modelo em pipeline\n",
    "model_pipeline = Pipeline(steps = [\n",
    "    ('preprocessor', preprocessor),\n",
    "    ('model', DummyRegressor(strategy = 'median'))\n",
    "])"
   ]
  },
  {
   "cell_type": "markdown",
   "metadata": {},
   "source": [
    "No exemplo acima, definiu-se o estimador, chamado \"model\", do pipeline como sendo o DummyRegressor. Contudo, para serem testados vários modelos de uma só vez, optou-se por utilizar-se uma ferramenta chamada GridSearchCV, da biblioteca sklearn.\n",
    "\n",
    "Para isso, primeiro foram definidos os parâmetros a serem testados, que neste caso são todos os modelos, conforme descrito no dicionário exposto no código abaixo."
   ]
  },
  {
   "cell_type": "code",
   "execution_count": 56,
   "metadata": {},
   "outputs": [],
   "source": [
    "# parâmetros\n",
    "params = {\n",
    "    'model':[\n",
    "        DummyRegressor(strategy='median'),\n",
    "        RandomForestRegressor(),\n",
    "        GradientBoostingRegressor(),\n",
    "        HistGradientBoostingRegressor()\n",
    "    ]\n",
    "}"
   ]
  },
  {
   "cell_type": "markdown",
   "metadata": {},
   "source": [
    "Definindo-se agora o GridSearch, para que os parâmetros acima rodem dentro do pipeline definido anteriormente.\n",
    "\n",
    "OBS: ao definir o GridSearch, é necessário passar a ele um argumento chamado 'scoring' que representa a métrica base a ser utilizada para rankear os modelos testados, do melhor para o pior. Neste caso esta métrica será o MSE, por ser mais sensível a outliers, de tal forma a elencar no topo do ranking o modelo que melhor performou apenas destas dados 'distorcidos'."
   ]
  },
  {
   "cell_type": "code",
   "execution_count": 57,
   "metadata": {},
   "outputs": [],
   "source": [
    "# Utlizando o GridSearch dentro do pipeline para testar vários modelos de uma só vez\n",
    "grid_model = GridSearchCV(estimator = model_pipeline, param_grid = params, cv = 5, scoring = 'neg_mean_squared_error', n_jobs = -1)"
   ]
  },
  {
   "cell_type": "markdown",
   "metadata": {},
   "source": [
    "Feito isso, agora o modelo com grid search será treinado com a base de treino definida anteriormente."
   ]
  },
  {
   "cell_type": "code",
   "execution_count": 58,
   "metadata": {},
   "outputs": [
    {
     "name": "stdout",
     "output_type": "stream",
     "text": [
      "Fitting 5 folds for each of 4 candidates, totalling 20 fits\n"
     ]
    },
    {
     "data": {
      "text/html": [
       "<style>#sk-container-id-3 {color: black;}#sk-container-id-3 pre{padding: 0;}#sk-container-id-3 div.sk-toggleable {background-color: white;}#sk-container-id-3 label.sk-toggleable__label {cursor: pointer;display: block;width: 100%;margin-bottom: 0;padding: 0.3em;box-sizing: border-box;text-align: center;}#sk-container-id-3 label.sk-toggleable__label-arrow:before {content: \"▸\";float: left;margin-right: 0.25em;color: #696969;}#sk-container-id-3 label.sk-toggleable__label-arrow:hover:before {color: black;}#sk-container-id-3 div.sk-estimator:hover label.sk-toggleable__label-arrow:before {color: black;}#sk-container-id-3 div.sk-toggleable__content {max-height: 0;max-width: 0;overflow: hidden;text-align: left;background-color: #f0f8ff;}#sk-container-id-3 div.sk-toggleable__content pre {margin: 0.2em;color: black;border-radius: 0.25em;background-color: #f0f8ff;}#sk-container-id-3 input.sk-toggleable__control:checked~div.sk-toggleable__content {max-height: 200px;max-width: 100%;overflow: auto;}#sk-container-id-3 input.sk-toggleable__control:checked~label.sk-toggleable__label-arrow:before {content: \"▾\";}#sk-container-id-3 div.sk-estimator input.sk-toggleable__control:checked~label.sk-toggleable__label {background-color: #d4ebff;}#sk-container-id-3 div.sk-label input.sk-toggleable__control:checked~label.sk-toggleable__label {background-color: #d4ebff;}#sk-container-id-3 input.sk-hidden--visually {border: 0;clip: rect(1px 1px 1px 1px);clip: rect(1px, 1px, 1px, 1px);height: 1px;margin: -1px;overflow: hidden;padding: 0;position: absolute;width: 1px;}#sk-container-id-3 div.sk-estimator {font-family: monospace;background-color: #f0f8ff;border: 1px dotted black;border-radius: 0.25em;box-sizing: border-box;margin-bottom: 0.5em;}#sk-container-id-3 div.sk-estimator:hover {background-color: #d4ebff;}#sk-container-id-3 div.sk-parallel-item::after {content: \"\";width: 100%;border-bottom: 1px solid gray;flex-grow: 1;}#sk-container-id-3 div.sk-label:hover label.sk-toggleable__label {background-color: #d4ebff;}#sk-container-id-3 div.sk-serial::before {content: \"\";position: absolute;border-left: 1px solid gray;box-sizing: border-box;top: 0;bottom: 0;left: 50%;z-index: 0;}#sk-container-id-3 div.sk-serial {display: flex;flex-direction: column;align-items: center;background-color: white;padding-right: 0.2em;padding-left: 0.2em;position: relative;}#sk-container-id-3 div.sk-item {position: relative;z-index: 1;}#sk-container-id-3 div.sk-parallel {display: flex;align-items: stretch;justify-content: center;background-color: white;position: relative;}#sk-container-id-3 div.sk-item::before, #sk-container-id-3 div.sk-parallel-item::before {content: \"\";position: absolute;border-left: 1px solid gray;box-sizing: border-box;top: 0;bottom: 0;left: 50%;z-index: -1;}#sk-container-id-3 div.sk-parallel-item {display: flex;flex-direction: column;z-index: 1;position: relative;background-color: white;}#sk-container-id-3 div.sk-parallel-item:first-child::after {align-self: flex-end;width: 50%;}#sk-container-id-3 div.sk-parallel-item:last-child::after {align-self: flex-start;width: 50%;}#sk-container-id-3 div.sk-parallel-item:only-child::after {width: 0;}#sk-container-id-3 div.sk-dashed-wrapped {border: 1px dashed gray;margin: 0 0.4em 0.5em 0.4em;box-sizing: border-box;padding-bottom: 0.4em;background-color: white;}#sk-container-id-3 div.sk-label label {font-family: monospace;font-weight: bold;display: inline-block;line-height: 1.2em;}#sk-container-id-3 div.sk-label-container {text-align: center;}#sk-container-id-3 div.sk-container {/* jupyter's `normalize.less` sets `[hidden] { display: none; }` but bootstrap.min.css set `[hidden] { display: none !important; }` so we also need the `!important` here to be able to override the default hidden behavior on the sphinx rendered scikit-learn.org. See: https://github.com/scikit-learn/scikit-learn/issues/21755 */display: inline-block !important;position: relative;}#sk-container-id-3 div.sk-text-repr-fallback {display: none;}</style><div id=\"sk-container-id-3\" class=\"sk-top-container\"><div class=\"sk-text-repr-fallback\"><pre>GridSearchCV(cv=5,\n",
       "             estimator=Pipeline(steps=[(&#x27;preprocessor&#x27;,\n",
       "                                        ColumnTransformer(transformers=[(&#x27;num&#x27;,\n",
       "                                                                         Pipeline(steps=[(&#x27;imputer&#x27;,\n",
       "                                                                                          SimpleImputer(fill_value=0,\n",
       "                                                                                                        strategy=&#x27;constant&#x27;)),\n",
       "                                                                                         (&#x27;scaler&#x27;,\n",
       "                                                                                          FunctionTransformer(func=&lt;function cap_values at 0x000001FD77DA2B60&gt;))]),\n",
       "                                                                         [&#x27;latitude&#x27;,\n",
       "                                                                          &#x27;longitude&#x27;,\n",
       "                                                                          &#x27;minimo_noites&#x27;,\n",
       "                                                                          &#x27;numero_de_reviews&#x27;,\n",
       "                                                                          &#x27;reviews_por_mes&#x27;,\n",
       "                                                                          &#x27;calculado_host_l...\n",
       "                                                                                          OrdinalEncoder(handle_unknown=&#x27;use_encoded_value&#x27;,\n",
       "                                                                                                         unknown_value=-1))]),\n",
       "                                                                         [&#x27;bairro_group&#x27;,\n",
       "                                                                          &#x27;bairro&#x27;,\n",
       "                                                                          &#x27;room_type&#x27;,\n",
       "                                                                          &#x27;ultima_review&#x27;])])),\n",
       "                                       (&#x27;model&#x27;,\n",
       "                                        DummyRegressor(strategy=&#x27;median&#x27;))]),\n",
       "             param_grid={&#x27;model&#x27;: [DummyRegressor(strategy=&#x27;median&#x27;),\n",
       "                                   RandomForestRegressor(),\n",
       "                                   GradientBoostingRegressor(),\n",
       "                                   HistGradientBoostingRegressor()]},\n",
       "             scoring=&#x27;neg_mean_squared_error&#x27;, verbose=1)</pre><b>In a Jupyter environment, please rerun this cell to show the HTML representation or trust the notebook. <br />On GitHub, the HTML representation is unable to render, please try loading this page with nbviewer.org.</b></div><div class=\"sk-container\" hidden><div class=\"sk-item sk-dashed-wrapped\"><div class=\"sk-label-container\"><div class=\"sk-label sk-toggleable\"><input class=\"sk-toggleable__control sk-hidden--visually\" id=\"sk-estimator-id-20\" type=\"checkbox\" ><label for=\"sk-estimator-id-20\" class=\"sk-toggleable__label sk-toggleable__label-arrow\">GridSearchCV</label><div class=\"sk-toggleable__content\"><pre>GridSearchCV(cv=5,\n",
       "             estimator=Pipeline(steps=[(&#x27;preprocessor&#x27;,\n",
       "                                        ColumnTransformer(transformers=[(&#x27;num&#x27;,\n",
       "                                                                         Pipeline(steps=[(&#x27;imputer&#x27;,\n",
       "                                                                                          SimpleImputer(fill_value=0,\n",
       "                                                                                                        strategy=&#x27;constant&#x27;)),\n",
       "                                                                                         (&#x27;scaler&#x27;,\n",
       "                                                                                          FunctionTransformer(func=&lt;function cap_values at 0x000001FD77DA2B60&gt;))]),\n",
       "                                                                         [&#x27;latitude&#x27;,\n",
       "                                                                          &#x27;longitude&#x27;,\n",
       "                                                                          &#x27;minimo_noites&#x27;,\n",
       "                                                                          &#x27;numero_de_reviews&#x27;,\n",
       "                                                                          &#x27;reviews_por_mes&#x27;,\n",
       "                                                                          &#x27;calculado_host_l...\n",
       "                                                                                          OrdinalEncoder(handle_unknown=&#x27;use_encoded_value&#x27;,\n",
       "                                                                                                         unknown_value=-1))]),\n",
       "                                                                         [&#x27;bairro_group&#x27;,\n",
       "                                                                          &#x27;bairro&#x27;,\n",
       "                                                                          &#x27;room_type&#x27;,\n",
       "                                                                          &#x27;ultima_review&#x27;])])),\n",
       "                                       (&#x27;model&#x27;,\n",
       "                                        DummyRegressor(strategy=&#x27;median&#x27;))]),\n",
       "             param_grid={&#x27;model&#x27;: [DummyRegressor(strategy=&#x27;median&#x27;),\n",
       "                                   RandomForestRegressor(),\n",
       "                                   GradientBoostingRegressor(),\n",
       "                                   HistGradientBoostingRegressor()]},\n",
       "             scoring=&#x27;neg_mean_squared_error&#x27;, verbose=1)</pre></div></div></div><div class=\"sk-parallel\"><div class=\"sk-parallel-item\"><div class=\"sk-item\"><div class=\"sk-label-container\"><div class=\"sk-label sk-toggleable\"><input class=\"sk-toggleable__control sk-hidden--visually\" id=\"sk-estimator-id-21\" type=\"checkbox\" ><label for=\"sk-estimator-id-21\" class=\"sk-toggleable__label sk-toggleable__label-arrow\">estimator: Pipeline</label><div class=\"sk-toggleable__content\"><pre>Pipeline(steps=[(&#x27;preprocessor&#x27;,\n",
       "                 ColumnTransformer(transformers=[(&#x27;num&#x27;,\n",
       "                                                  Pipeline(steps=[(&#x27;imputer&#x27;,\n",
       "                                                                   SimpleImputer(fill_value=0,\n",
       "                                                                                 strategy=&#x27;constant&#x27;)),\n",
       "                                                                  (&#x27;scaler&#x27;,\n",
       "                                                                   FunctionTransformer(func=&lt;function cap_values at 0x000001FD77DA2B60&gt;))]),\n",
       "                                                  [&#x27;latitude&#x27;, &#x27;longitude&#x27;,\n",
       "                                                   &#x27;minimo_noites&#x27;,\n",
       "                                                   &#x27;numero_de_reviews&#x27;,\n",
       "                                                   &#x27;reviews_por_mes&#x27;,\n",
       "                                                   &#x27;calculado_host_listings_count&#x27;,\n",
       "                                                   &#x27;disponibilidade_365&#x27;]),\n",
       "                                                 (&#x27;cat&#x27;,\n",
       "                                                  Pipeline(steps=[(&#x27;imputer&#x27;,\n",
       "                                                                   SimpleImputer(fill_value=&#x27;-&#x27;,\n",
       "                                                                                 strategy=&#x27;constant&#x27;)),\n",
       "                                                                  (&#x27;encoder&#x27;,\n",
       "                                                                   OrdinalEncoder(handle_unknown=&#x27;use_encoded_value&#x27;,\n",
       "                                                                                  unknown_value=-1))]),\n",
       "                                                  [&#x27;bairro_group&#x27;, &#x27;bairro&#x27;,\n",
       "                                                   &#x27;room_type&#x27;,\n",
       "                                                   &#x27;ultima_review&#x27;])])),\n",
       "                (&#x27;model&#x27;, DummyRegressor(strategy=&#x27;median&#x27;))])</pre></div></div></div><div class=\"sk-serial\"><div class=\"sk-item\"><div class=\"sk-serial\"><div class=\"sk-item sk-dashed-wrapped\"><div class=\"sk-label-container\"><div class=\"sk-label sk-toggleable\"><input class=\"sk-toggleable__control sk-hidden--visually\" id=\"sk-estimator-id-22\" type=\"checkbox\" ><label for=\"sk-estimator-id-22\" class=\"sk-toggleable__label sk-toggleable__label-arrow\">preprocessor: ColumnTransformer</label><div class=\"sk-toggleable__content\"><pre>ColumnTransformer(transformers=[(&#x27;num&#x27;,\n",
       "                                 Pipeline(steps=[(&#x27;imputer&#x27;,\n",
       "                                                  SimpleImputer(fill_value=0,\n",
       "                                                                strategy=&#x27;constant&#x27;)),\n",
       "                                                 (&#x27;scaler&#x27;,\n",
       "                                                  FunctionTransformer(func=&lt;function cap_values at 0x000001FD77DA2B60&gt;))]),\n",
       "                                 [&#x27;latitude&#x27;, &#x27;longitude&#x27;, &#x27;minimo_noites&#x27;,\n",
       "                                  &#x27;numero_de_reviews&#x27;, &#x27;reviews_por_mes&#x27;,\n",
       "                                  &#x27;calculado_host_listings_count&#x27;,\n",
       "                                  &#x27;disponibilidade_365&#x27;]),\n",
       "                                (&#x27;cat&#x27;,\n",
       "                                 Pipeline(steps=[(&#x27;imputer&#x27;,\n",
       "                                                  SimpleImputer(fill_value=&#x27;-&#x27;,\n",
       "                                                                strategy=&#x27;constant&#x27;)),\n",
       "                                                 (&#x27;encoder&#x27;,\n",
       "                                                  OrdinalEncoder(handle_unknown=&#x27;use_encoded_value&#x27;,\n",
       "                                                                 unknown_value=-1))]),\n",
       "                                 [&#x27;bairro_group&#x27;, &#x27;bairro&#x27;, &#x27;room_type&#x27;,\n",
       "                                  &#x27;ultima_review&#x27;])])</pre></div></div></div><div class=\"sk-parallel\"><div class=\"sk-parallel-item\"><div class=\"sk-item\"><div class=\"sk-label-container\"><div class=\"sk-label sk-toggleable\"><input class=\"sk-toggleable__control sk-hidden--visually\" id=\"sk-estimator-id-23\" type=\"checkbox\" ><label for=\"sk-estimator-id-23\" class=\"sk-toggleable__label sk-toggleable__label-arrow\">num</label><div class=\"sk-toggleable__content\"><pre>[&#x27;latitude&#x27;, &#x27;longitude&#x27;, &#x27;minimo_noites&#x27;, &#x27;numero_de_reviews&#x27;, &#x27;reviews_por_mes&#x27;, &#x27;calculado_host_listings_count&#x27;, &#x27;disponibilidade_365&#x27;]</pre></div></div></div><div class=\"sk-serial\"><div class=\"sk-item\"><div class=\"sk-serial\"><div class=\"sk-item\"><div class=\"sk-estimator sk-toggleable\"><input class=\"sk-toggleable__control sk-hidden--visually\" id=\"sk-estimator-id-24\" type=\"checkbox\" ><label for=\"sk-estimator-id-24\" class=\"sk-toggleable__label sk-toggleable__label-arrow\">SimpleImputer</label><div class=\"sk-toggleable__content\"><pre>SimpleImputer(fill_value=0, strategy=&#x27;constant&#x27;)</pre></div></div></div><div class=\"sk-item\"><div class=\"sk-estimator sk-toggleable\"><input class=\"sk-toggleable__control sk-hidden--visually\" id=\"sk-estimator-id-25\" type=\"checkbox\" ><label for=\"sk-estimator-id-25\" class=\"sk-toggleable__label sk-toggleable__label-arrow\">FunctionTransformer</label><div class=\"sk-toggleable__content\"><pre>FunctionTransformer(func=&lt;function cap_values at 0x000001FD77DA2B60&gt;)</pre></div></div></div></div></div></div></div></div><div class=\"sk-parallel-item\"><div class=\"sk-item\"><div class=\"sk-label-container\"><div class=\"sk-label sk-toggleable\"><input class=\"sk-toggleable__control sk-hidden--visually\" id=\"sk-estimator-id-26\" type=\"checkbox\" ><label for=\"sk-estimator-id-26\" class=\"sk-toggleable__label sk-toggleable__label-arrow\">cat</label><div class=\"sk-toggleable__content\"><pre>[&#x27;bairro_group&#x27;, &#x27;bairro&#x27;, &#x27;room_type&#x27;, &#x27;ultima_review&#x27;]</pre></div></div></div><div class=\"sk-serial\"><div class=\"sk-item\"><div class=\"sk-serial\"><div class=\"sk-item\"><div class=\"sk-estimator sk-toggleable\"><input class=\"sk-toggleable__control sk-hidden--visually\" id=\"sk-estimator-id-27\" type=\"checkbox\" ><label for=\"sk-estimator-id-27\" class=\"sk-toggleable__label sk-toggleable__label-arrow\">SimpleImputer</label><div class=\"sk-toggleable__content\"><pre>SimpleImputer(fill_value=&#x27;-&#x27;, strategy=&#x27;constant&#x27;)</pre></div></div></div><div class=\"sk-item\"><div class=\"sk-estimator sk-toggleable\"><input class=\"sk-toggleable__control sk-hidden--visually\" id=\"sk-estimator-id-28\" type=\"checkbox\" ><label for=\"sk-estimator-id-28\" class=\"sk-toggleable__label sk-toggleable__label-arrow\">OrdinalEncoder</label><div class=\"sk-toggleable__content\"><pre>OrdinalEncoder(handle_unknown=&#x27;use_encoded_value&#x27;, unknown_value=-1)</pre></div></div></div></div></div></div></div></div></div></div><div class=\"sk-item\"><div class=\"sk-estimator sk-toggleable\"><input class=\"sk-toggleable__control sk-hidden--visually\" id=\"sk-estimator-id-29\" type=\"checkbox\" ><label for=\"sk-estimator-id-29\" class=\"sk-toggleable__label sk-toggleable__label-arrow\">DummyRegressor</label><div class=\"sk-toggleable__content\"><pre>DummyRegressor(strategy=&#x27;median&#x27;)</pre></div></div></div></div></div></div></div></div></div></div></div></div>"
      ],
      "text/plain": [
       "GridSearchCV(cv=5,\n",
       "             estimator=Pipeline(steps=[('preprocessor',\n",
       "                                        ColumnTransformer(transformers=[('num',\n",
       "                                                                         Pipeline(steps=[('imputer',\n",
       "                                                                                          SimpleImputer(fill_value=0,\n",
       "                                                                                                        strategy='constant')),\n",
       "                                                                                         ('scaler',\n",
       "                                                                                          FunctionTransformer(func=<function cap_values at 0x000001FD77DA2B60>))]),\n",
       "                                                                         ['latitude',\n",
       "                                                                          'longitude',\n",
       "                                                                          'minimo_noites',\n",
       "                                                                          'numero_de_reviews',\n",
       "                                                                          'reviews_por_mes',\n",
       "                                                                          'calculado_host_l...\n",
       "                                                                                          OrdinalEncoder(handle_unknown='use_encoded_value',\n",
       "                                                                                                         unknown_value=-1))]),\n",
       "                                                                         ['bairro_group',\n",
       "                                                                          'bairro',\n",
       "                                                                          'room_type',\n",
       "                                                                          'ultima_review'])])),\n",
       "                                       ('model',\n",
       "                                        DummyRegressor(strategy='median'))]),\n",
       "             param_grid={'model': [DummyRegressor(strategy='median'),\n",
       "                                   RandomForestRegressor(),\n",
       "                                   GradientBoostingRegressor(),\n",
       "                                   HistGradientBoostingRegressor()]},\n",
       "             scoring='neg_mean_squared_error', verbose=1)"
      ]
     },
     "execution_count": 58,
     "metadata": {},
     "output_type": "execute_result"
    }
   ],
   "source": [
    "grid_model.fit(X_train, y_train)"
   ]
  },
  {
   "cell_type": "markdown",
   "metadata": {},
   "source": [
    "Treinado o modelo, agora é possível visualizar os resultados do GridSearch. Para tal, criou-se um DataFrame de resultados (df_cv_results), onde as colunas e os dados são os valores retornados do GridSearch. Em seguida, foram selecionadas apenas as colunas de mais interesse, suprimindo todas que contenham no nome as strings 'split' ou 'time'."
   ]
  },
  {
   "cell_type": "code",
   "execution_count": 64,
   "metadata": {},
   "outputs": [
    {
     "data": {
      "text/html": [
       "<div>\n",
       "<style scoped>\n",
       "    .dataframe tbody tr th:only-of-type {\n",
       "        vertical-align: middle;\n",
       "    }\n",
       "\n",
       "    .dataframe tbody tr th {\n",
       "        vertical-align: top;\n",
       "    }\n",
       "\n",
       "    .dataframe thead th {\n",
       "        text-align: right;\n",
       "    }\n",
       "</style>\n",
       "<table border=\"1\" class=\"dataframe\">\n",
       "  <thead>\n",
       "    <tr style=\"text-align: right;\">\n",
       "      <th></th>\n",
       "      <th>param_model</th>\n",
       "      <th>params</th>\n",
       "      <th>mean_test_score</th>\n",
       "      <th>std_test_score</th>\n",
       "      <th>mean_test_error</th>\n",
       "    </tr>\n",
       "    <tr>\n",
       "      <th>rank_test_score</th>\n",
       "      <th></th>\n",
       "      <th></th>\n",
       "      <th></th>\n",
       "      <th></th>\n",
       "      <th></th>\n",
       "    </tr>\n",
       "  </thead>\n",
       "  <tbody>\n",
       "    <tr>\n",
       "      <th>1</th>\n",
       "      <td>HistGradientBoostingRegressor()</td>\n",
       "      <td>{'model': HistGradientBoostingRegressor()}</td>\n",
       "      <td>-48367.476713</td>\n",
       "      <td>11703.069058</td>\n",
       "      <td>48367.476713</td>\n",
       "    </tr>\n",
       "    <tr>\n",
       "      <th>2</th>\n",
       "      <td>GradientBoostingRegressor()</td>\n",
       "      <td>{'model': GradientBoostingRegressor()}</td>\n",
       "      <td>-49525.759658</td>\n",
       "      <td>12405.242415</td>\n",
       "      <td>49525.759658</td>\n",
       "    </tr>\n",
       "    <tr>\n",
       "      <th>3</th>\n",
       "      <td>RandomForestRegressor()</td>\n",
       "      <td>{'model': RandomForestRegressor()}</td>\n",
       "      <td>-51983.399400</td>\n",
       "      <td>13268.268598</td>\n",
       "      <td>51983.399400</td>\n",
       "    </tr>\n",
       "    <tr>\n",
       "      <th>4</th>\n",
       "      <td>DummyRegressor(strategy='median')</td>\n",
       "      <td>{'model': DummyRegressor(strategy='median')}</td>\n",
       "      <td>-59974.737620</td>\n",
       "      <td>12535.927736</td>\n",
       "      <td>59974.737620</td>\n",
       "    </tr>\n",
       "  </tbody>\n",
       "</table>\n",
       "</div>"
      ],
      "text/plain": [
       "                                       param_model  \\\n",
       "rank_test_score                                      \n",
       "1                  HistGradientBoostingRegressor()   \n",
       "2                      GradientBoostingRegressor()   \n",
       "3                          RandomForestRegressor()   \n",
       "4                DummyRegressor(strategy='median')   \n",
       "\n",
       "                                                       params  \\\n",
       "rank_test_score                                                 \n",
       "1                  {'model': HistGradientBoostingRegressor()}   \n",
       "2                      {'model': GradientBoostingRegressor()}   \n",
       "3                          {'model': RandomForestRegressor()}   \n",
       "4                {'model': DummyRegressor(strategy='median')}   \n",
       "\n",
       "                 mean_test_score  std_test_score  mean_test_error  \n",
       "rank_test_score                                                    \n",
       "1                  -48367.476713    11703.069058     48367.476713  \n",
       "2                  -49525.759658    12405.242415     49525.759658  \n",
       "3                  -51983.399400    13268.268598     51983.399400  \n",
       "4                  -59974.737620    12535.927736     59974.737620  "
      ]
     },
     "execution_count": 64,
     "metadata": {},
     "output_type": "execute_result"
    }
   ],
   "source": [
    "df_cv_results = pd.DataFrame(grid_model.cv_results_).set_index('rank_test_score').sort_index()\n",
    "df_cv_results.loc[:,~df_cv_results.columns.str.contains('split|time')]"
   ]
  },
  {
   "cell_type": "markdown",
   "metadata": {},
   "source": [
    "Os resultados da coluna 'mean_test_score' estão negativos por conta do parâmetro de scoring repassado ao grid search ('neg_mean_squared_error'). Para corrigir isto, criou-se uma nova coluna no DataFrame chamada 'test_error' que nada mais é do que os resultados do test_score em valores positivos."
   ]
  },
  {
   "cell_type": "code",
   "execution_count": 65,
   "metadata": {},
   "outputs": [
    {
     "data": {
      "text/html": [
       "<div>\n",
       "<style scoped>\n",
       "    .dataframe tbody tr th:only-of-type {\n",
       "        vertical-align: middle;\n",
       "    }\n",
       "\n",
       "    .dataframe tbody tr th {\n",
       "        vertical-align: top;\n",
       "    }\n",
       "\n",
       "    .dataframe thead th {\n",
       "        text-align: right;\n",
       "    }\n",
       "</style>\n",
       "<table border=\"1\" class=\"dataframe\">\n",
       "  <thead>\n",
       "    <tr style=\"text-align: right;\">\n",
       "      <th></th>\n",
       "      <th>param_model</th>\n",
       "      <th>mean_test_error</th>\n",
       "    </tr>\n",
       "    <tr>\n",
       "      <th>rank_test_score</th>\n",
       "      <th></th>\n",
       "      <th></th>\n",
       "    </tr>\n",
       "  </thead>\n",
       "  <tbody>\n",
       "    <tr>\n",
       "      <th>1</th>\n",
       "      <td>HistGradientBoostingRegressor()</td>\n",
       "      <td>48367.476713</td>\n",
       "    </tr>\n",
       "    <tr>\n",
       "      <th>2</th>\n",
       "      <td>GradientBoostingRegressor()</td>\n",
       "      <td>49525.759658</td>\n",
       "    </tr>\n",
       "    <tr>\n",
       "      <th>3</th>\n",
       "      <td>RandomForestRegressor()</td>\n",
       "      <td>51983.399400</td>\n",
       "    </tr>\n",
       "    <tr>\n",
       "      <th>4</th>\n",
       "      <td>DummyRegressor(strategy='median')</td>\n",
       "      <td>59974.737620</td>\n",
       "    </tr>\n",
       "  </tbody>\n",
       "</table>\n",
       "</div>"
      ],
      "text/plain": [
       "                                       param_model  mean_test_error\n",
       "rank_test_score                                                    \n",
       "1                  HistGradientBoostingRegressor()     48367.476713\n",
       "2                      GradientBoostingRegressor()     49525.759658\n",
       "3                          RandomForestRegressor()     51983.399400\n",
       "4                DummyRegressor(strategy='median')     59974.737620"
      ]
     },
     "execution_count": 65,
     "metadata": {},
     "output_type": "execute_result"
    }
   ],
   "source": [
    "df_cv_results['test_error'] = -df_cv_results['test_score']\n",
    "df_cv_results[['param_model', 'mean_test_error']]"
   ]
  },
  {
   "cell_type": "markdown",
   "metadata": {},
   "source": [
    "Pela tabela acima, o modelo que melhor performou foi o HistGradientBoostingRegressor, com um MSE de aproximadamente 48367,5. Lembrando que esta métrica eleva os erros ao quadrado, por isto os valores estão bem altos. Se considerarmos o RMSE, extraindo-se a raiz quadrada de 48367,5, tem-se o valor em torno de 219,9 dólares. Este seria o quanto o modelo está errando em média por previsão de preço."
   ]
  },
  {
   "cell_type": "markdown",
   "metadata": {},
   "source": [
    "## Modelo linear"
   ]
  },
  {
   "cell_type": "markdown",
   "metadata": {},
   "source": [
    "Agora nesta sessão foi definido o pré-processamento dos dados e pipelines para treino e avalição de um modelo linear."
   ]
  },
  {
   "cell_type": "markdown",
   "metadata": {},
   "source": [
    "### Definindo um novo pré-processamento dos dados"
   ]
  },
  {
   "cell_type": "markdown",
   "metadata": {},
   "source": [
    "Aqui foi definido um novo pré-processador para o modelo linear, utilizando para as features numéricas o mesmo input dos dados nulos e substituindo os outliers, contudo foi adicionado ainda o StandarScaler para normatizar a distribuição dos dados. Já para as categóricas, utilizou-se o mesmo padrão da anterior, mas com o OneHotEncoder de transformador."
   ]
  },
  {
   "cell_type": "code",
   "execution_count": 74,
   "metadata": {},
   "outputs": [],
   "source": [
    "numerical_transformer = Pipeline(steps = [\n",
    "    ('imputer', SimpleImputer(strategy = 'constant', fill_value = 0)),\n",
    "    ('out_sub', FunctionTransformer(func = outliers)),\n",
    "    ('scaler', StandardScaler())\n",
    "])\n",
    "\n",
    "encoder = OneHotEncoder(handle_unknown = 'ignore', sparse_output = False)\n",
    "\n",
    "categorical_transformer = Pipeline(steps = [\n",
    "    ('imputer', SimpleImputer(strategy = 'constant', fill_value = '-')),\n",
    "    ('encoder', encoder)\n",
    "])\n",
    "\n",
    "preprocessor = ColumnTransformer([\n",
    "    ('num', numerical_transformer, numerical_features),\n",
    "    ('cat', categorical_transformer, categorical_features),\n",
    "])"
   ]
  },
  {
   "cell_type": "markdown",
   "metadata": {},
   "source": [
    "### Pipelino completo e teste do modelo"
   ]
  },
  {
   "cell_type": "code",
   "execution_count": 30,
   "metadata": {},
   "outputs": [],
   "source": [
    "model_pipeline = Pipeline(steps = [\n",
    "    ('preprocessor', preprocessor),\n",
    "    ('model', LinearRegression())\n",
    "])"
   ]
  },
  {
   "cell_type": "code",
   "execution_count": 31,
   "metadata": {},
   "outputs": [
    {
     "data": {
      "text/html": [
       "<style>#sk-container-id-2 {color: black;}#sk-container-id-2 pre{padding: 0;}#sk-container-id-2 div.sk-toggleable {background-color: white;}#sk-container-id-2 label.sk-toggleable__label {cursor: pointer;display: block;width: 100%;margin-bottom: 0;padding: 0.3em;box-sizing: border-box;text-align: center;}#sk-container-id-2 label.sk-toggleable__label-arrow:before {content: \"▸\";float: left;margin-right: 0.25em;color: #696969;}#sk-container-id-2 label.sk-toggleable__label-arrow:hover:before {color: black;}#sk-container-id-2 div.sk-estimator:hover label.sk-toggleable__label-arrow:before {color: black;}#sk-container-id-2 div.sk-toggleable__content {max-height: 0;max-width: 0;overflow: hidden;text-align: left;background-color: #f0f8ff;}#sk-container-id-2 div.sk-toggleable__content pre {margin: 0.2em;color: black;border-radius: 0.25em;background-color: #f0f8ff;}#sk-container-id-2 input.sk-toggleable__control:checked~div.sk-toggleable__content {max-height: 200px;max-width: 100%;overflow: auto;}#sk-container-id-2 input.sk-toggleable__control:checked~label.sk-toggleable__label-arrow:before {content: \"▾\";}#sk-container-id-2 div.sk-estimator input.sk-toggleable__control:checked~label.sk-toggleable__label {background-color: #d4ebff;}#sk-container-id-2 div.sk-label input.sk-toggleable__control:checked~label.sk-toggleable__label {background-color: #d4ebff;}#sk-container-id-2 input.sk-hidden--visually {border: 0;clip: rect(1px 1px 1px 1px);clip: rect(1px, 1px, 1px, 1px);height: 1px;margin: -1px;overflow: hidden;padding: 0;position: absolute;width: 1px;}#sk-container-id-2 div.sk-estimator {font-family: monospace;background-color: #f0f8ff;border: 1px dotted black;border-radius: 0.25em;box-sizing: border-box;margin-bottom: 0.5em;}#sk-container-id-2 div.sk-estimator:hover {background-color: #d4ebff;}#sk-container-id-2 div.sk-parallel-item::after {content: \"\";width: 100%;border-bottom: 1px solid gray;flex-grow: 1;}#sk-container-id-2 div.sk-label:hover label.sk-toggleable__label {background-color: #d4ebff;}#sk-container-id-2 div.sk-serial::before {content: \"\";position: absolute;border-left: 1px solid gray;box-sizing: border-box;top: 0;bottom: 0;left: 50%;z-index: 0;}#sk-container-id-2 div.sk-serial {display: flex;flex-direction: column;align-items: center;background-color: white;padding-right: 0.2em;padding-left: 0.2em;position: relative;}#sk-container-id-2 div.sk-item {position: relative;z-index: 1;}#sk-container-id-2 div.sk-parallel {display: flex;align-items: stretch;justify-content: center;background-color: white;position: relative;}#sk-container-id-2 div.sk-item::before, #sk-container-id-2 div.sk-parallel-item::before {content: \"\";position: absolute;border-left: 1px solid gray;box-sizing: border-box;top: 0;bottom: 0;left: 50%;z-index: -1;}#sk-container-id-2 div.sk-parallel-item {display: flex;flex-direction: column;z-index: 1;position: relative;background-color: white;}#sk-container-id-2 div.sk-parallel-item:first-child::after {align-self: flex-end;width: 50%;}#sk-container-id-2 div.sk-parallel-item:last-child::after {align-self: flex-start;width: 50%;}#sk-container-id-2 div.sk-parallel-item:only-child::after {width: 0;}#sk-container-id-2 div.sk-dashed-wrapped {border: 1px dashed gray;margin: 0 0.4em 0.5em 0.4em;box-sizing: border-box;padding-bottom: 0.4em;background-color: white;}#sk-container-id-2 div.sk-label label {font-family: monospace;font-weight: bold;display: inline-block;line-height: 1.2em;}#sk-container-id-2 div.sk-label-container {text-align: center;}#sk-container-id-2 div.sk-container {/* jupyter's `normalize.less` sets `[hidden] { display: none; }` but bootstrap.min.css set `[hidden] { display: none !important; }` so we also need the `!important` here to be able to override the default hidden behavior on the sphinx rendered scikit-learn.org. See: https://github.com/scikit-learn/scikit-learn/issues/21755 */display: inline-block !important;position: relative;}#sk-container-id-2 div.sk-text-repr-fallback {display: none;}</style><div id=\"sk-container-id-2\" class=\"sk-top-container\"><div class=\"sk-text-repr-fallback\"><pre>Pipeline(steps=[(&#x27;preprocessor&#x27;,\n",
       "                 ColumnTransformer(transformers=[(&#x27;num&#x27;,\n",
       "                                                  Pipeline(steps=[(&#x27;imputer&#x27;,\n",
       "                                                                   SimpleImputer(fill_value=0,\n",
       "                                                                                 strategy=&#x27;constant&#x27;)),\n",
       "                                                                  (&#x27;scaler&#x27;,\n",
       "                                                                   StandardScaler())]),\n",
       "                                                  [&#x27;latitude&#x27;, &#x27;longitude&#x27;,\n",
       "                                                   &#x27;minimo_noites&#x27;,\n",
       "                                                   &#x27;numero_de_reviews&#x27;,\n",
       "                                                   &#x27;reviews_por_mes&#x27;,\n",
       "                                                   &#x27;calculado_host_listings_count&#x27;,\n",
       "                                                   &#x27;disponibilidade_365&#x27;]),\n",
       "                                                 (&#x27;cat&#x27;,\n",
       "                                                  Pipeline(steps=[(&#x27;imputer&#x27;,\n",
       "                                                                   SimpleImputer(fill_value=&#x27;-&#x27;,\n",
       "                                                                                 strategy=&#x27;constant&#x27;)),\n",
       "                                                                  (&#x27;encoder&#x27;,\n",
       "                                                                   OneHotEncoder(handle_unknown=&#x27;ignore&#x27;,\n",
       "                                                                                 sparse_output=False))]),\n",
       "                                                  [&#x27;bairro_group&#x27;, &#x27;bairro&#x27;,\n",
       "                                                   &#x27;room_type&#x27;,\n",
       "                                                   &#x27;ultima_review&#x27;])])),\n",
       "                (&#x27;model&#x27;, LinearRegression())])</pre><b>In a Jupyter environment, please rerun this cell to show the HTML representation or trust the notebook. <br />On GitHub, the HTML representation is unable to render, please try loading this page with nbviewer.org.</b></div><div class=\"sk-container\" hidden><div class=\"sk-item sk-dashed-wrapped\"><div class=\"sk-label-container\"><div class=\"sk-label sk-toggleable\"><input class=\"sk-toggleable__control sk-hidden--visually\" id=\"sk-estimator-id-11\" type=\"checkbox\" ><label for=\"sk-estimator-id-11\" class=\"sk-toggleable__label sk-toggleable__label-arrow\">Pipeline</label><div class=\"sk-toggleable__content\"><pre>Pipeline(steps=[(&#x27;preprocessor&#x27;,\n",
       "                 ColumnTransformer(transformers=[(&#x27;num&#x27;,\n",
       "                                                  Pipeline(steps=[(&#x27;imputer&#x27;,\n",
       "                                                                   SimpleImputer(fill_value=0,\n",
       "                                                                                 strategy=&#x27;constant&#x27;)),\n",
       "                                                                  (&#x27;scaler&#x27;,\n",
       "                                                                   StandardScaler())]),\n",
       "                                                  [&#x27;latitude&#x27;, &#x27;longitude&#x27;,\n",
       "                                                   &#x27;minimo_noites&#x27;,\n",
       "                                                   &#x27;numero_de_reviews&#x27;,\n",
       "                                                   &#x27;reviews_por_mes&#x27;,\n",
       "                                                   &#x27;calculado_host_listings_count&#x27;,\n",
       "                                                   &#x27;disponibilidade_365&#x27;]),\n",
       "                                                 (&#x27;cat&#x27;,\n",
       "                                                  Pipeline(steps=[(&#x27;imputer&#x27;,\n",
       "                                                                   SimpleImputer(fill_value=&#x27;-&#x27;,\n",
       "                                                                                 strategy=&#x27;constant&#x27;)),\n",
       "                                                                  (&#x27;encoder&#x27;,\n",
       "                                                                   OneHotEncoder(handle_unknown=&#x27;ignore&#x27;,\n",
       "                                                                                 sparse_output=False))]),\n",
       "                                                  [&#x27;bairro_group&#x27;, &#x27;bairro&#x27;,\n",
       "                                                   &#x27;room_type&#x27;,\n",
       "                                                   &#x27;ultima_review&#x27;])])),\n",
       "                (&#x27;model&#x27;, LinearRegression())])</pre></div></div></div><div class=\"sk-serial\"><div class=\"sk-item sk-dashed-wrapped\"><div class=\"sk-label-container\"><div class=\"sk-label sk-toggleable\"><input class=\"sk-toggleable__control sk-hidden--visually\" id=\"sk-estimator-id-12\" type=\"checkbox\" ><label for=\"sk-estimator-id-12\" class=\"sk-toggleable__label sk-toggleable__label-arrow\">preprocessor: ColumnTransformer</label><div class=\"sk-toggleable__content\"><pre>ColumnTransformer(transformers=[(&#x27;num&#x27;,\n",
       "                                 Pipeline(steps=[(&#x27;imputer&#x27;,\n",
       "                                                  SimpleImputer(fill_value=0,\n",
       "                                                                strategy=&#x27;constant&#x27;)),\n",
       "                                                 (&#x27;scaler&#x27;, StandardScaler())]),\n",
       "                                 [&#x27;latitude&#x27;, &#x27;longitude&#x27;, &#x27;minimo_noites&#x27;,\n",
       "                                  &#x27;numero_de_reviews&#x27;, &#x27;reviews_por_mes&#x27;,\n",
       "                                  &#x27;calculado_host_listings_count&#x27;,\n",
       "                                  &#x27;disponibilidade_365&#x27;]),\n",
       "                                (&#x27;cat&#x27;,\n",
       "                                 Pipeline(steps=[(&#x27;imputer&#x27;,\n",
       "                                                  SimpleImputer(fill_value=&#x27;-&#x27;,\n",
       "                                                                strategy=&#x27;constant&#x27;)),\n",
       "                                                 (&#x27;encoder&#x27;,\n",
       "                                                  OneHotEncoder(handle_unknown=&#x27;ignore&#x27;,\n",
       "                                                                sparse_output=False))]),\n",
       "                                 [&#x27;bairro_group&#x27;, &#x27;bairro&#x27;, &#x27;room_type&#x27;,\n",
       "                                  &#x27;ultima_review&#x27;])])</pre></div></div></div><div class=\"sk-parallel\"><div class=\"sk-parallel-item\"><div class=\"sk-item\"><div class=\"sk-label-container\"><div class=\"sk-label sk-toggleable\"><input class=\"sk-toggleable__control sk-hidden--visually\" id=\"sk-estimator-id-13\" type=\"checkbox\" ><label for=\"sk-estimator-id-13\" class=\"sk-toggleable__label sk-toggleable__label-arrow\">num</label><div class=\"sk-toggleable__content\"><pre>[&#x27;latitude&#x27;, &#x27;longitude&#x27;, &#x27;minimo_noites&#x27;, &#x27;numero_de_reviews&#x27;, &#x27;reviews_por_mes&#x27;, &#x27;calculado_host_listings_count&#x27;, &#x27;disponibilidade_365&#x27;]</pre></div></div></div><div class=\"sk-serial\"><div class=\"sk-item\"><div class=\"sk-serial\"><div class=\"sk-item\"><div class=\"sk-estimator sk-toggleable\"><input class=\"sk-toggleable__control sk-hidden--visually\" id=\"sk-estimator-id-14\" type=\"checkbox\" ><label for=\"sk-estimator-id-14\" class=\"sk-toggleable__label sk-toggleable__label-arrow\">SimpleImputer</label><div class=\"sk-toggleable__content\"><pre>SimpleImputer(fill_value=0, strategy=&#x27;constant&#x27;)</pre></div></div></div><div class=\"sk-item\"><div class=\"sk-estimator sk-toggleable\"><input class=\"sk-toggleable__control sk-hidden--visually\" id=\"sk-estimator-id-15\" type=\"checkbox\" ><label for=\"sk-estimator-id-15\" class=\"sk-toggleable__label sk-toggleable__label-arrow\">StandardScaler</label><div class=\"sk-toggleable__content\"><pre>StandardScaler()</pre></div></div></div></div></div></div></div></div><div class=\"sk-parallel-item\"><div class=\"sk-item\"><div class=\"sk-label-container\"><div class=\"sk-label sk-toggleable\"><input class=\"sk-toggleable__control sk-hidden--visually\" id=\"sk-estimator-id-16\" type=\"checkbox\" ><label for=\"sk-estimator-id-16\" class=\"sk-toggleable__label sk-toggleable__label-arrow\">cat</label><div class=\"sk-toggleable__content\"><pre>[&#x27;bairro_group&#x27;, &#x27;bairro&#x27;, &#x27;room_type&#x27;, &#x27;ultima_review&#x27;]</pre></div></div></div><div class=\"sk-serial\"><div class=\"sk-item\"><div class=\"sk-serial\"><div class=\"sk-item\"><div class=\"sk-estimator sk-toggleable\"><input class=\"sk-toggleable__control sk-hidden--visually\" id=\"sk-estimator-id-17\" type=\"checkbox\" ><label for=\"sk-estimator-id-17\" class=\"sk-toggleable__label sk-toggleable__label-arrow\">SimpleImputer</label><div class=\"sk-toggleable__content\"><pre>SimpleImputer(fill_value=&#x27;-&#x27;, strategy=&#x27;constant&#x27;)</pre></div></div></div><div class=\"sk-item\"><div class=\"sk-estimator sk-toggleable\"><input class=\"sk-toggleable__control sk-hidden--visually\" id=\"sk-estimator-id-18\" type=\"checkbox\" ><label for=\"sk-estimator-id-18\" class=\"sk-toggleable__label sk-toggleable__label-arrow\">OneHotEncoder</label><div class=\"sk-toggleable__content\"><pre>OneHotEncoder(handle_unknown=&#x27;ignore&#x27;, sparse_output=False)</pre></div></div></div></div></div></div></div></div></div></div><div class=\"sk-item\"><div class=\"sk-estimator sk-toggleable\"><input class=\"sk-toggleable__control sk-hidden--visually\" id=\"sk-estimator-id-19\" type=\"checkbox\" ><label for=\"sk-estimator-id-19\" class=\"sk-toggleable__label sk-toggleable__label-arrow\">LinearRegression</label><div class=\"sk-toggleable__content\"><pre>LinearRegression()</pre></div></div></div></div></div></div></div>"
      ],
      "text/plain": [
       "Pipeline(steps=[('preprocessor',\n",
       "                 ColumnTransformer(transformers=[('num',\n",
       "                                                  Pipeline(steps=[('imputer',\n",
       "                                                                   SimpleImputer(fill_value=0,\n",
       "                                                                                 strategy='constant')),\n",
       "                                                                  ('scaler',\n",
       "                                                                   StandardScaler())]),\n",
       "                                                  ['latitude', 'longitude',\n",
       "                                                   'minimo_noites',\n",
       "                                                   'numero_de_reviews',\n",
       "                                                   'reviews_por_mes',\n",
       "                                                   'calculado_host_listings_count',\n",
       "                                                   'disponibilidade_365']),\n",
       "                                                 ('cat',\n",
       "                                                  Pipeline(steps=[('imputer',\n",
       "                                                                   SimpleImputer(fill_value='-',\n",
       "                                                                                 strategy='constant')),\n",
       "                                                                  ('encoder',\n",
       "                                                                   OneHotEncoder(handle_unknown='ignore',\n",
       "                                                                                 sparse_output=False))]),\n",
       "                                                  ['bairro_group', 'bairro',\n",
       "                                                   'room_type',\n",
       "                                                   'ultima_review'])])),\n",
       "                ('model', LinearRegression())])"
      ]
     },
     "execution_count": 31,
     "metadata": {},
     "output_type": "execute_result"
    }
   ],
   "source": [
    "model_pipeline.fit(X_train, y_train)"
   ]
  },
  {
   "cell_type": "code",
   "execution_count": 32,
   "metadata": {},
   "outputs": [],
   "source": [
    "y_pred = model_pipeline.predict(X_test)"
   ]
  },
  {
   "cell_type": "code",
   "execution_count": 33,
   "metadata": {},
   "outputs": [
    {
     "data": {
      "text/plain": [
       "{'R2': -177650545920555.3,\n",
       " 'MSE': 1.3747240365098041e+19,\n",
       " 'RMSE': 3707727115.781047}"
      ]
     },
     "execution_count": 33,
     "metadata": {},
     "output_type": "execute_result"
    }
   ],
   "source": [
    "get_metrics(y_true=y_test, y_pred=y_pred)"
   ]
  },
  {
   "cell_type": "markdown",
   "metadata": {},
   "source": [
    "## Comparando os resultados e definindo um melhor modelo"
   ]
  },
  {
   "cell_type": "markdown",
   "metadata": {},
   "source": []
  },
  {
   "cell_type": "markdown",
   "metadata": {},
   "source": [
    "## Otimizando o melhor modelo"
   ]
  },
  {
   "cell_type": "markdown",
   "metadata": {},
   "source": []
  },
  {
   "cell_type": "markdown",
   "metadata": {},
   "source": [
    "## Calculando preços de aluguel para os novos dados"
   ]
  },
  {
   "cell_type": "markdown",
   "metadata": {},
   "source": []
  },
  {
   "cell_type": "markdown",
   "metadata": {},
   "source": [
    "## Exportando o modelo em um arquivo .pkl"
   ]
  },
  {
   "cell_type": "markdown",
   "metadata": {},
   "source": []
  }
 ],
 "metadata": {
  "kernelspec": {
   "display_name": "Python 3",
   "language": "python",
   "name": "python3"
  },
  "language_info": {
   "codemirror_mode": {
    "name": "ipython",
    "version": 3
   },
   "file_extension": ".py",
   "mimetype": "text/x-python",
   "name": "python",
   "nbconvert_exporter": "python",
   "pygments_lexer": "ipython3",
   "version": "3.11.2"
  }
 },
 "nbformat": 4,
 "nbformat_minor": 2
}
