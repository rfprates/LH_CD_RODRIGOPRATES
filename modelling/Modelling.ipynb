{
 "cells": [
  {
   "cell_type": "markdown",
   "metadata": {},
   "source": [
    "# Modelling"
   ]
  },
  {
   "cell_type": "markdown",
   "metadata": {},
   "source": [
    "Este notebook é dedicado exclusivamente a parte de modelagem e avaliação dos respectivos modelos testados. No final deste arquivo encontra-se a previsão do preço para novos dados de entrada e também o processo de exportação do modelo já definido em um arquivo .pkl conforme solicitado pelo desafio."
   ]
  },
  {
   "cell_type": "markdown",
   "metadata": {},
   "source": [
    "Para inicar o desenvolvimento, primeiro importou-se as bibliotecas que serão utilizadas nesta etapa de modelling,"
   ]
  },
  {
   "cell_type": "code",
   "execution_count": 1,
   "metadata": {},
   "outputs": [],
   "source": [
    "# lib para salvar no formato .pkl\n",
    "import pickle\n",
    "\n",
    "# lib de manipulação dos dados\n",
    "import pandas as pd\n",
    "\n",
    "# pré-processamento de dados\n",
    "from sklearn.preprocessing import OneHotEncoder, OrdinalEncoder, StandardScaler\n",
    "from sklearn.impute import SimpleImputer\n",
    "\n",
    "# separação das colunas por tipo de dado\n",
    "from sklearn.compose import make_column_selector\n",
    "\n",
    "# pipeline para tratamento dos dados\n",
    "from sklearn.compose import ColumnTransformer\n",
    "from sklearn.pipeline import Pipeline\n",
    "\n",
    "# seleção e validação de modelos\n",
    "from sklearn import metrics\n",
    "from sklearn.model_selection import train_test_split, GridSearchCV\n",
    "\n",
    "# modelos a serem testados\n",
    "from sklearn.dummy import DummyRegressor\n",
    "from sklearn.linear_model import LinearRegression, RidgeCV, LassoCV\n",
    "from sklearn.ensemble import RandomForestRegressor, GradientBoostingRegressor\n",
    "\n",
    "# manter a saída do processamento do sklearn como DataFrame pandas\n",
    "from sklearn import set_config\n",
    "set_config(transform_output = 'pandas')"
   ]
  }
 ],
 "metadata": {
  "kernelspec": {
   "display_name": "Python 3",
   "language": "python",
   "name": "python3"
  },
  "language_info": {
   "codemirror_mode": {
    "name": "ipython",
    "version": 3
   },
   "file_extension": ".py",
   "mimetype": "text/x-python",
   "name": "python",
   "nbconvert_exporter": "python",
   "pygments_lexer": "ipython3",
   "version": "3.11.2"
  }
 },
 "nbformat": 4,
 "nbformat_minor": 2
}
