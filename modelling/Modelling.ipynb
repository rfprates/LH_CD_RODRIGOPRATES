{
 "cells": [
  {
   "cell_type": "markdown",
   "metadata": {},
   "source": [
    "# Modelling"
   ]
  },
  {
   "cell_type": "markdown",
   "metadata": {},
   "source": [
    "Este notebook é dedicado exclusivamente a parte de modelagem e avaliação dos respectivos modelos testados. No final deste arquivo encontra-se a previsão do preço para novos dados de entrada e também o processo de exportação do modelo já definido em um arquivo .pkl conforme solicitado pelo desafio."
   ]
  },
  {
   "cell_type": "markdown",
   "metadata": {},
   "source": [
    "## Entendendo o problema"
   ]
  },
  {
   "cell_type": "markdown",
   "metadata": {},
   "source": [
    "Antes de inicar o desenvolvimento, primeiro é preciso entender de que tipo de problema de machine learning estamos falando. Como a ideia aqui é prever preços de aluguel, ou seja, um NÚMERO, um valor contínuo, portanto se trata de um problema de REGRESSÃO. Caso a ideia fosse prever alguma categoria, ou grupo, sendo este um dado discreto, ai sim estaríamos falando de um problema de classificação.\n",
    "\n",
    "Além disso, sabe-se que se trata de um modelo SUPERVISIONADO, ou seja, nós temos descriminados em nosso dataset de treino e teste a variável que se deseja prever ('price'). Tem-se um amostral deste \"target\". Se por um acaso o \"target\" não estivesse descriminado ou definido, forçando com que o algoritmo tivesse que extrair um padrão de todo o amostral X, então se trataria de um modelo NÃO SUPERVISIONADO. Ai entrariam modelos de clusterização, recomendação e assim por diante.\n",
    "\n",
    "Entendido isso, pode-se então partir para o desenvolvimento utilizando algoritmos e estratégias para resolver um problema de regressão."
   ]
  },
  {
   "cell_type": "markdown",
   "metadata": {},
   "source": [
    "## Importando as bibliotecas"
   ]
  },
  {
   "cell_type": "markdown",
   "metadata": {},
   "source": [
    "Para iniciar o desenvolvimento, primeiro importou-se as bibliotecas que serão utilizadas nesta etapa de modelling,"
   ]
  },
  {
   "cell_type": "code",
   "execution_count": 65,
   "metadata": {},
   "outputs": [],
   "source": [
    "# lib para salvar no formato .pkl\n",
    "import pickle\n",
    "\n",
    "# lib de manipulação dos dados\n",
    "import pandas as pd\n",
    "import numpy as np\n",
    "\n",
    "# lib de visualização de dados nulos\n",
    "import missingno as msno\n",
    "\n",
    "# lib de visualização de dados\n",
    "import matplotlib.pyplot as plt\n",
    "import seaborn as sns\n",
    "\n",
    "# pré-processamento de dados\n",
    "from sklearn.preprocessing import OneHotEncoder, OrdinalEncoder, FunctionTransformer\n",
    "from sklearn.impute import SimpleImputer\n",
    "\n",
    "# separação das colunas por tipo de dado\n",
    "from sklearn.compose import make_column_selector\n",
    "\n",
    "# pipeline para tratamento dos dados\n",
    "from sklearn.compose import ColumnTransformer\n",
    "from sklearn.pipeline import Pipeline\n",
    "\n",
    "# seleção e validação de modelos\n",
    "from sklearn import metrics\n",
    "from sklearn.model_selection import train_test_split, GridSearchCV\n",
    "\n",
    "# modelos de Regressão a serem testados\n",
    "from sklearn.dummy import DummyRegressor\n",
    "from sklearn.tree import DecisionTreeRegressor\n",
    "from sklearn.ensemble import RandomForestRegressor, GradientBoostingRegressor, HistGradientBoostingRegressor\n",
    "\n",
    "# manter a saída do processamento do sklearn como DataFrame pandas\n",
    "from sklearn import set_config\n",
    "set_config(transform_output = 'pandas')"
   ]
  },
  {
   "cell_type": "markdown",
   "metadata": {},
   "source": [
    "## Definindo as métricas de avaliação para os modelos de regressão a serem testados"
   ]
  },
  {
   "cell_type": "markdown",
   "metadata": {},
   "source": [
    "Quando se fala em modelos de regressão, existem algumas métricas importantes para estas avaliações. Segue abaixo uma breve análise de 4 das mais importantes e famosas neste tipo de problema.\n",
    "\n",
    "- R² = também chamado de coeficiente de determinação, é uma métrica que expressa a porcentagem da variância dos dados que pode ser explicada pelo modelo. É uma métrica que varia de 0 até 1, sendo quanto mais próximo de 1 maior a capacidade do modelo em explicar as variações dos dados.\n",
    "- MAE = erro médio absoluto, basicamente mede a distância média entre os valores previstos pelo modelo e os valores reais. Outro ponto de destaque é que a unidade deste erro é a mesma do 'target', ou seja, tem a mesma unidade da variável preço. Contudo, esta métrica é muito sensível a outliers, desta forma, a tendência é \"puxar\" o modelo mais próximo dos outliers, deixando-o mais distante da maior concentração dos dados reais. Conforme foi visto nas análises feitas no notebook EDA, este dataset tem forte presença de outliers, portanto o MAE não seria o ideal para avaliar os modelos.\n",
    "- MSE = erro médio quadrático, basicamente é a diferença entre o valor previsto e o valor real, elevando-se o resultado ao quadrado. Da mesma forma que o MAE, quanto maior esta métrica pior será o modelo. Como neste caso os erros são elevados ao quadrado, isto torna esta métrica muito boa para casos em que grande erros não são tolerados, deixando-a muito menos sensível a outliers, se comparada ao MAE.\n",
    "- RMSE = raiz do erro quadrático médio, basicamente é a métrica MSE tirando a sua raiz quadrada. Desta forma, tem-se um valor de melhor interpretabilidade, corringindo também as unidades deste erro.\n",
    "\n",
    "Considerando as características expostas acima e também as características dos dados deste dataset, expostas no notebook 'EDA.ipynb', optou-se por avaliar os modelos testados utilizando as métricas MSE e RMSE, visto que trabalham melhor em casos de outlier, sendo menos tolerantes com erros muito grandes. Além disso optou-se por expor junto a métrica R² por conta da sua fácil interpretabilidade.\n",
    "\n",
    "Escolhidas as métricas utilizadas para a avaliação dos modelos, optou-se  por definir a função abaixo, que será chamada todas as vezes que for necessário calcular as métricas de algum modelo, a fim de deixar o código posteriormente mais \"limpo\"."
   ]
  },
  {
   "cell_type": "code",
   "execution_count": 2,
   "metadata": {},
   "outputs": [],
   "source": [
    "# função para calcular as métricas dos modelos\n",
    "def get_metrics (y_true, y_pred):\n",
    "    dict_metrics = {\n",
    "        'R2': metrics.r2_score(y_true, y_pred),\n",
    "        'MSE': metrics.mean_squared_error(y_true, y_pred),\n",
    "        'RMSE': np.sqrt(metrics.mean_squared_error(y_true, y_pred))\n",
    "    }\n",
    "    return dict_metrics"
   ]
  },
  {
   "cell_type": "markdown",
   "metadata": {},
   "source": [
    "## Importando o dataset"
   ]
  },
  {
   "cell_type": "markdown",
   "metadata": {},
   "source": [
    "Definidas as métricas, agora importou-se o dataset original disponibilizado, conforme segue."
   ]
  },
  {
   "cell_type": "code",
   "execution_count": 3,
   "metadata": {},
   "outputs": [
    {
     "data": {
      "text/html": [
       "<div>\n",
       "<style scoped>\n",
       "    .dataframe tbody tr th:only-of-type {\n",
       "        vertical-align: middle;\n",
       "    }\n",
       "\n",
       "    .dataframe tbody tr th {\n",
       "        vertical-align: top;\n",
       "    }\n",
       "\n",
       "    .dataframe thead th {\n",
       "        text-align: right;\n",
       "    }\n",
       "</style>\n",
       "<table border=\"1\" class=\"dataframe\">\n",
       "  <thead>\n",
       "    <tr style=\"text-align: right;\">\n",
       "      <th></th>\n",
       "      <th>id</th>\n",
       "      <th>nome</th>\n",
       "      <th>host_id</th>\n",
       "      <th>host_name</th>\n",
       "      <th>bairro_group</th>\n",
       "      <th>bairro</th>\n",
       "      <th>latitude</th>\n",
       "      <th>longitude</th>\n",
       "      <th>room_type</th>\n",
       "      <th>price</th>\n",
       "      <th>minimo_noites</th>\n",
       "      <th>numero_de_reviews</th>\n",
       "      <th>ultima_review</th>\n",
       "      <th>reviews_por_mes</th>\n",
       "      <th>calculado_host_listings_count</th>\n",
       "      <th>disponibilidade_365</th>\n",
       "    </tr>\n",
       "  </thead>\n",
       "  <tbody>\n",
       "    <tr>\n",
       "      <th>0</th>\n",
       "      <td>2595</td>\n",
       "      <td>Skylit Midtown Castle</td>\n",
       "      <td>2845</td>\n",
       "      <td>Jennifer</td>\n",
       "      <td>Manhattan</td>\n",
       "      <td>Midtown</td>\n",
       "      <td>40.75362</td>\n",
       "      <td>-73.98377</td>\n",
       "      <td>Entire home/apt</td>\n",
       "      <td>225</td>\n",
       "      <td>1</td>\n",
       "      <td>45</td>\n",
       "      <td>2019-05-21</td>\n",
       "      <td>0.38</td>\n",
       "      <td>2</td>\n",
       "      <td>355</td>\n",
       "    </tr>\n",
       "    <tr>\n",
       "      <th>1</th>\n",
       "      <td>3647</td>\n",
       "      <td>THE VILLAGE OF HARLEM....NEW YORK !</td>\n",
       "      <td>4632</td>\n",
       "      <td>Elisabeth</td>\n",
       "      <td>Manhattan</td>\n",
       "      <td>Harlem</td>\n",
       "      <td>40.80902</td>\n",
       "      <td>-73.94190</td>\n",
       "      <td>Private room</td>\n",
       "      <td>150</td>\n",
       "      <td>3</td>\n",
       "      <td>0</td>\n",
       "      <td>NaN</td>\n",
       "      <td>NaN</td>\n",
       "      <td>1</td>\n",
       "      <td>365</td>\n",
       "    </tr>\n",
       "    <tr>\n",
       "      <th>2</th>\n",
       "      <td>3831</td>\n",
       "      <td>Cozy Entire Floor of Brownstone</td>\n",
       "      <td>4869</td>\n",
       "      <td>LisaRoxanne</td>\n",
       "      <td>Brooklyn</td>\n",
       "      <td>Clinton Hill</td>\n",
       "      <td>40.68514</td>\n",
       "      <td>-73.95976</td>\n",
       "      <td>Entire home/apt</td>\n",
       "      <td>89</td>\n",
       "      <td>1</td>\n",
       "      <td>270</td>\n",
       "      <td>2019-07-05</td>\n",
       "      <td>4.64</td>\n",
       "      <td>1</td>\n",
       "      <td>194</td>\n",
       "    </tr>\n",
       "    <tr>\n",
       "      <th>3</th>\n",
       "      <td>5022</td>\n",
       "      <td>Entire Apt: Spacious Studio/Loft by central park</td>\n",
       "      <td>7192</td>\n",
       "      <td>Laura</td>\n",
       "      <td>Manhattan</td>\n",
       "      <td>East Harlem</td>\n",
       "      <td>40.79851</td>\n",
       "      <td>-73.94399</td>\n",
       "      <td>Entire home/apt</td>\n",
       "      <td>80</td>\n",
       "      <td>10</td>\n",
       "      <td>9</td>\n",
       "      <td>2018-11-19</td>\n",
       "      <td>0.10</td>\n",
       "      <td>1</td>\n",
       "      <td>0</td>\n",
       "    </tr>\n",
       "    <tr>\n",
       "      <th>4</th>\n",
       "      <td>5099</td>\n",
       "      <td>Large Cozy 1 BR Apartment In Midtown East</td>\n",
       "      <td>7322</td>\n",
       "      <td>Chris</td>\n",
       "      <td>Manhattan</td>\n",
       "      <td>Murray Hill</td>\n",
       "      <td>40.74767</td>\n",
       "      <td>-73.97500</td>\n",
       "      <td>Entire home/apt</td>\n",
       "      <td>200</td>\n",
       "      <td>3</td>\n",
       "      <td>74</td>\n",
       "      <td>2019-06-22</td>\n",
       "      <td>0.59</td>\n",
       "      <td>1</td>\n",
       "      <td>129</td>\n",
       "    </tr>\n",
       "  </tbody>\n",
       "</table>\n",
       "</div>"
      ],
      "text/plain": [
       "     id                                              nome  host_id  \\\n",
       "0  2595                             Skylit Midtown Castle     2845   \n",
       "1  3647               THE VILLAGE OF HARLEM....NEW YORK !     4632   \n",
       "2  3831                   Cozy Entire Floor of Brownstone     4869   \n",
       "3  5022  Entire Apt: Spacious Studio/Loft by central park     7192   \n",
       "4  5099         Large Cozy 1 BR Apartment In Midtown East     7322   \n",
       "\n",
       "     host_name bairro_group        bairro  latitude  longitude  \\\n",
       "0     Jennifer    Manhattan       Midtown  40.75362  -73.98377   \n",
       "1    Elisabeth    Manhattan        Harlem  40.80902  -73.94190   \n",
       "2  LisaRoxanne     Brooklyn  Clinton Hill  40.68514  -73.95976   \n",
       "3        Laura    Manhattan   East Harlem  40.79851  -73.94399   \n",
       "4        Chris    Manhattan   Murray Hill  40.74767  -73.97500   \n",
       "\n",
       "         room_type  price  minimo_noites  numero_de_reviews ultima_review  \\\n",
       "0  Entire home/apt    225              1                 45    2019-05-21   \n",
       "1     Private room    150              3                  0           NaN   \n",
       "2  Entire home/apt     89              1                270    2019-07-05   \n",
       "3  Entire home/apt     80             10                  9    2018-11-19   \n",
       "4  Entire home/apt    200              3                 74    2019-06-22   \n",
       "\n",
       "   reviews_por_mes  calculado_host_listings_count  disponibilidade_365  \n",
       "0             0.38                              2                  355  \n",
       "1              NaN                              1                  365  \n",
       "2             4.64                              1                  194  \n",
       "3             0.10                              1                    0  \n",
       "4             0.59                              1                  129  "
      ]
     },
     "execution_count": 3,
     "metadata": {},
     "output_type": "execute_result"
    }
   ],
   "source": [
    "df = pd.read_csv('../dataset/teste_indicium_precificacao.csv')\n",
    "df.head()"
   ]
  },
  {
   "cell_type": "markdown",
   "metadata": {},
   "source": [
    "Exibindo mais informações do dataset,"
   ]
  },
  {
   "cell_type": "code",
   "execution_count": 4,
   "metadata": {},
   "outputs": [
    {
     "name": "stdout",
     "output_type": "stream",
     "text": [
      "<class 'pandas.core.frame.DataFrame'>\n",
      "RangeIndex: 48894 entries, 0 to 48893\n",
      "Data columns (total 16 columns):\n",
      " #   Column                         Non-Null Count  Dtype  \n",
      "---  ------                         --------------  -----  \n",
      " 0   id                             48894 non-null  int64  \n",
      " 1   nome                           48878 non-null  object \n",
      " 2   host_id                        48894 non-null  int64  \n",
      " 3   host_name                      48873 non-null  object \n",
      " 4   bairro_group                   48894 non-null  object \n",
      " 5   bairro                         48894 non-null  object \n",
      " 6   latitude                       48894 non-null  float64\n",
      " 7   longitude                      48894 non-null  float64\n",
      " 8   room_type                      48894 non-null  object \n",
      " 9   price                          48894 non-null  int64  \n",
      " 10  minimo_noites                  48894 non-null  int64  \n",
      " 11  numero_de_reviews              48894 non-null  int64  \n",
      " 12  ultima_review                  38842 non-null  object \n",
      " 13  reviews_por_mes                38842 non-null  float64\n",
      " 14  calculado_host_listings_count  48894 non-null  int64  \n",
      " 15  disponibilidade_365            48894 non-null  int64  \n",
      "dtypes: float64(3), int64(7), object(6)\n",
      "memory usage: 6.0+ MB\n"
     ]
    }
   ],
   "source": [
    "df.info()"
   ]
  },
  {
   "cell_type": "markdown",
   "metadata": {},
   "source": [
    "## Dividindo as features do target"
   ]
  },
  {
   "cell_type": "markdown",
   "metadata": {},
   "source": [
    "Primeiro de tudo, é preciso separar as variáveis que são features da variável \"objetivo\" ou target. O grupo das features que é composto por todas as variáveis que ajudam a explicar o comportamento do \"target\", restando para o outro grupo justamente a variável \"target\" que é o a coluna 'price' com o preço de aluguel dos imóveis.\n",
    "\n",
    "Importante destacar aqui que, para o grupo das features, não serão utilizadas todas as colunas do dataset. De início, serão retiradas as colunas \"id\", \"nome\", \"host_id\" e \"host_name\", visto que elas retornam informações que não são relevantes para a determinação do preço dos aluguéis, pois somente dizem respeito a códigos de identificação e nome dos anúncios, não tem nada sobre os imóveis em si. "
   ]
  },
  {
   "cell_type": "code",
   "execution_count": 5,
   "metadata": {},
   "outputs": [],
   "source": [
    "# definindo o grupo das features\n",
    "X = df.drop(columns = ['id', 'nome', 'host_id', 'host_name', 'price'])\n",
    "\n",
    "# target\n",
    "y = df['price']"
   ]
  },
  {
   "cell_type": "markdown",
   "metadata": {},
   "source": [
    "## Separando as bases de treino e teste"
   ]
  },
  {
   "cell_type": "markdown",
   "metadata": {},
   "source": [
    "Agora, é necessário separar os grupos definidos acima em duas bases, uma base de treino que será utilizado para treinar o modelo a ser definido e a base de teste será utilizada para avaliar a performance do modelo, comparando os resultados previstos com os resultados reais da base."
   ]
  },
  {
   "cell_type": "code",
   "execution_count": 20,
   "metadata": {},
   "outputs": [],
   "source": [
    "# separando as bases de treino e teste\n",
    "\n",
    "X_train, X_test, y_train, y_test = train_test_split(X, y, test_size = 0.2)"
   ]
  },
  {
   "cell_type": "markdown",
   "metadata": {},
   "source": [
    "Visualizando os data frames das features de treino e teste,"
   ]
  },
  {
   "cell_type": "code",
   "execution_count": 21,
   "metadata": {},
   "outputs": [
    {
     "name": "stdout",
     "output_type": "stream",
     "text": [
      "<class 'pandas.core.frame.DataFrame'>\n",
      "Index: 39115 entries, 26558 to 11167\n",
      "Data columns (total 11 columns):\n",
      " #   Column                         Non-Null Count  Dtype  \n",
      "---  ------                         --------------  -----  \n",
      " 0   bairro_group                   39115 non-null  object \n",
      " 1   bairro                         39115 non-null  object \n",
      " 2   latitude                       39115 non-null  float64\n",
      " 3   longitude                      39115 non-null  float64\n",
      " 4   room_type                      39115 non-null  object \n",
      " 5   minimo_noites                  39115 non-null  int64  \n",
      " 6   numero_de_reviews              39115 non-null  int64  \n",
      " 7   ultima_review                  31068 non-null  object \n",
      " 8   reviews_por_mes                31068 non-null  float64\n",
      " 9   calculado_host_listings_count  39115 non-null  int64  \n",
      " 10  disponibilidade_365            39115 non-null  int64  \n",
      "dtypes: float64(3), int64(4), object(4)\n",
      "memory usage: 3.6+ MB\n"
     ]
    }
   ],
   "source": [
    "X_train.info()"
   ]
  },
  {
   "cell_type": "code",
   "execution_count": 22,
   "metadata": {},
   "outputs": [
    {
     "name": "stdout",
     "output_type": "stream",
     "text": [
      "<class 'pandas.core.frame.DataFrame'>\n",
      "Index: 9779 entries, 35697 to 36248\n",
      "Data columns (total 11 columns):\n",
      " #   Column                         Non-Null Count  Dtype  \n",
      "---  ------                         --------------  -----  \n",
      " 0   bairro_group                   9779 non-null   object \n",
      " 1   bairro                         9779 non-null   object \n",
      " 2   latitude                       9779 non-null   float64\n",
      " 3   longitude                      9779 non-null   float64\n",
      " 4   room_type                      9779 non-null   object \n",
      " 5   minimo_noites                  9779 non-null   int64  \n",
      " 6   numero_de_reviews              9779 non-null   int64  \n",
      " 7   ultima_review                  7774 non-null   object \n",
      " 8   reviews_por_mes                7774 non-null   float64\n",
      " 9   calculado_host_listings_count  9779 non-null   int64  \n",
      " 10  disponibilidade_365            9779 non-null   int64  \n",
      "dtypes: float64(3), int64(4), object(4)\n",
      "memory usage: 916.8+ KB\n"
     ]
    }
   ],
   "source": [
    "X_test.info()"
   ]
  },
  {
   "cell_type": "markdown",
   "metadata": {},
   "source": [
    "## Separando as features numéricas das categóricas"
   ]
  },
  {
   "cell_type": "markdown",
   "metadata": {},
   "source": [
    "Seguindo com o desenvolvimento do modelo, é preciso separar as features categóricas das features com dados numéricos. Isto se torna importante pois, dependendo do tipo de dado de cada coluna, o pré-processamento será diferente.\n",
    "\n",
    "Para isso, utilizou-se da função make_column_selector da biblioteca sklearn importada anteriormente, de tal modo que esta função irá produzir listas somente com as colunas que tem o tipo de dado especificado em seu argumento."
   ]
  },
  {
   "cell_type": "code",
   "execution_count": 23,
   "metadata": {},
   "outputs": [],
   "source": [
    "# Seperando as colunas numéricas das categóricas\n",
    "numerical_columns_selector = make_column_selector(dtype_exclude = object)\n",
    "categorical_columns_selector = make_column_selector(dtype_include = object)"
   ]
  },
  {
   "cell_type": "code",
   "execution_count": 24,
   "metadata": {},
   "outputs": [
    {
     "data": {
      "text/plain": [
       "['latitude',\n",
       " 'longitude',\n",
       " 'minimo_noites',\n",
       " 'numero_de_reviews',\n",
       " 'reviews_por_mes',\n",
       " 'calculado_host_listings_count',\n",
       " 'disponibilidade_365']"
      ]
     },
     "execution_count": 24,
     "metadata": {},
     "output_type": "execute_result"
    }
   ],
   "source": [
    "# grupo das features numéricas\n",
    "numerical_features = numerical_columns_selector(X_train)\n",
    "numerical_features"
   ]
  },
  {
   "cell_type": "code",
   "execution_count": 25,
   "metadata": {},
   "outputs": [
    {
     "data": {
      "text/plain": [
       "['bairro_group', 'bairro', 'room_type', 'ultima_review']"
      ]
     },
     "execution_count": 25,
     "metadata": {},
     "output_type": "execute_result"
    }
   ],
   "source": [
    "# grupo das features categóricas\n",
    "categorical_features = categorical_columns_selector(X_train)\n",
    "categorical_features"
   ]
  },
  {
   "cell_type": "markdown",
   "metadata": {},
   "source": [
    "## Pré-processamento dos dados nulos"
   ]
  },
  {
   "cell_type": "markdown",
   "metadata": {},
   "source": [
    "Antes de partir para a construção do pipeline e demais pré-processamento dos dados, é preciso definir uma estratégia de tratamento dos dados nulos presentes neste dataset.\n",
    "\n",
    "Assim, relembrando-se o dataset de treino,"
   ]
  },
  {
   "cell_type": "code",
   "execution_count": 26,
   "metadata": {},
   "outputs": [
    {
     "name": "stdout",
     "output_type": "stream",
     "text": [
      "<class 'pandas.core.frame.DataFrame'>\n",
      "Index: 39115 entries, 26558 to 11167\n",
      "Data columns (total 11 columns):\n",
      " #   Column                         Non-Null Count  Dtype  \n",
      "---  ------                         --------------  -----  \n",
      " 0   bairro_group                   39115 non-null  object \n",
      " 1   bairro                         39115 non-null  object \n",
      " 2   latitude                       39115 non-null  float64\n",
      " 3   longitude                      39115 non-null  float64\n",
      " 4   room_type                      39115 non-null  object \n",
      " 5   minimo_noites                  39115 non-null  int64  \n",
      " 6   numero_de_reviews              39115 non-null  int64  \n",
      " 7   ultima_review                  31068 non-null  object \n",
      " 8   reviews_por_mes                31068 non-null  float64\n",
      " 9   calculado_host_listings_count  39115 non-null  int64  \n",
      " 10  disponibilidade_365            39115 non-null  int64  \n",
      "dtypes: float64(3), int64(4), object(4)\n",
      "memory usage: 3.6+ MB\n"
     ]
    }
   ],
   "source": [
    "X_train.info()"
   ]
  },
  {
   "cell_type": "markdown",
   "metadata": {},
   "source": [
    "Utilizando da mesma linha de código do notebook 'EDA.ipynb', exibi-se a tabela abaixo com as infos dos dados nulos,"
   ]
  },
  {
   "cell_type": "code",
   "execution_count": 27,
   "metadata": {},
   "outputs": [
    {
     "data": {
      "text/html": [
       "<style type=\"text/css\">\n",
       "</style>\n",
       "<table id=\"T_042a5\">\n",
       "  <thead>\n",
       "    <tr>\n",
       "      <th class=\"blank level0\" >&nbsp;</th>\n",
       "      <th id=\"T_042a5_level0_col0\" class=\"col_heading level0 col0\" >missing_count</th>\n",
       "      <th id=\"T_042a5_level0_col1\" class=\"col_heading level0 col1\" >missing_pct</th>\n",
       "    </tr>\n",
       "  </thead>\n",
       "  <tbody>\n",
       "    <tr>\n",
       "      <th id=\"T_042a5_level0_row0\" class=\"row_heading level0 row0\" >bairro_group</th>\n",
       "      <td id=\"T_042a5_row0_col0\" class=\"data row0 col0\" >0</td>\n",
       "      <td id=\"T_042a5_row0_col1\" class=\"data row0 col1\" >0.00%</td>\n",
       "    </tr>\n",
       "    <tr>\n",
       "      <th id=\"T_042a5_level0_row1\" class=\"row_heading level0 row1\" >bairro</th>\n",
       "      <td id=\"T_042a5_row1_col0\" class=\"data row1 col0\" >0</td>\n",
       "      <td id=\"T_042a5_row1_col1\" class=\"data row1 col1\" >0.00%</td>\n",
       "    </tr>\n",
       "    <tr>\n",
       "      <th id=\"T_042a5_level0_row2\" class=\"row_heading level0 row2\" >latitude</th>\n",
       "      <td id=\"T_042a5_row2_col0\" class=\"data row2 col0\" >0</td>\n",
       "      <td id=\"T_042a5_row2_col1\" class=\"data row2 col1\" >0.00%</td>\n",
       "    </tr>\n",
       "    <tr>\n",
       "      <th id=\"T_042a5_level0_row3\" class=\"row_heading level0 row3\" >longitude</th>\n",
       "      <td id=\"T_042a5_row3_col0\" class=\"data row3 col0\" >0</td>\n",
       "      <td id=\"T_042a5_row3_col1\" class=\"data row3 col1\" >0.00%</td>\n",
       "    </tr>\n",
       "    <tr>\n",
       "      <th id=\"T_042a5_level0_row4\" class=\"row_heading level0 row4\" >room_type</th>\n",
       "      <td id=\"T_042a5_row4_col0\" class=\"data row4 col0\" >0</td>\n",
       "      <td id=\"T_042a5_row4_col1\" class=\"data row4 col1\" >0.00%</td>\n",
       "    </tr>\n",
       "    <tr>\n",
       "      <th id=\"T_042a5_level0_row5\" class=\"row_heading level0 row5\" >minimo_noites</th>\n",
       "      <td id=\"T_042a5_row5_col0\" class=\"data row5 col0\" >0</td>\n",
       "      <td id=\"T_042a5_row5_col1\" class=\"data row5 col1\" >0.00%</td>\n",
       "    </tr>\n",
       "    <tr>\n",
       "      <th id=\"T_042a5_level0_row6\" class=\"row_heading level0 row6\" >numero_de_reviews</th>\n",
       "      <td id=\"T_042a5_row6_col0\" class=\"data row6 col0\" >0</td>\n",
       "      <td id=\"T_042a5_row6_col1\" class=\"data row6 col1\" >0.00%</td>\n",
       "    </tr>\n",
       "    <tr>\n",
       "      <th id=\"T_042a5_level0_row7\" class=\"row_heading level0 row7\" >ultima_review</th>\n",
       "      <td id=\"T_042a5_row7_col0\" class=\"data row7 col0\" >8047</td>\n",
       "      <td id=\"T_042a5_row7_col1\" class=\"data row7 col1\" >20.57%</td>\n",
       "    </tr>\n",
       "    <tr>\n",
       "      <th id=\"T_042a5_level0_row8\" class=\"row_heading level0 row8\" >reviews_por_mes</th>\n",
       "      <td id=\"T_042a5_row8_col0\" class=\"data row8 col0\" >8047</td>\n",
       "      <td id=\"T_042a5_row8_col1\" class=\"data row8 col1\" >20.57%</td>\n",
       "    </tr>\n",
       "    <tr>\n",
       "      <th id=\"T_042a5_level0_row9\" class=\"row_heading level0 row9\" >calculado_host_listings_count</th>\n",
       "      <td id=\"T_042a5_row9_col0\" class=\"data row9 col0\" >0</td>\n",
       "      <td id=\"T_042a5_row9_col1\" class=\"data row9 col1\" >0.00%</td>\n",
       "    </tr>\n",
       "    <tr>\n",
       "      <th id=\"T_042a5_level0_row10\" class=\"row_heading level0 row10\" >disponibilidade_365</th>\n",
       "      <td id=\"T_042a5_row10_col0\" class=\"data row10 col0\" >0</td>\n",
       "      <td id=\"T_042a5_row10_col1\" class=\"data row10 col1\" >0.00%</td>\n",
       "    </tr>\n",
       "  </tbody>\n",
       "</table>\n"
      ],
      "text/plain": [
       "<pandas.io.formats.style.Styler at 0x1d1c9c67f90>"
      ]
     },
     "execution_count": 27,
     "metadata": {},
     "output_type": "execute_result"
    }
   ],
   "source": [
    "# definindo um data frame com a quantidade de dados nulos por coluna\n",
    "missing_data = (\n",
    "    X_train.isnull()\n",
    "    .sum()\n",
    "    .to_frame('missing_count')\n",
    ")\n",
    "\n",
    "# adicionando ao data frame uma coluna com a quantidade de dados nulos por coluna divido pela quantidade total de dados\n",
    "missing_data = missing_data.join(((X_train.isnull().sum())/(X_train.shape[0])).to_frame('missing_pct'))\n",
    "\n",
    "# formando a coluna 'missing_pct' para exibir os resultados com duas casas decimais e no formato de porcentagem\n",
    "missing_data.style.format('{:.2%}', subset = 'missing_pct')"
   ]
  },
  {
   "cell_type": "markdown",
   "metadata": {},
   "source": [
    "É interssante analisar que para as duas colunas \"ultima_review\" e \"reviews_por_mes\", tem-se exatamente a mesma quantidade de dados nulos, fato este que pode indicar uma correlação entre elas (quando uma for nula, a outra também será).\n",
    "\n",
    "Para validar isto de forma mais clara, utilizou-se da biblioteca missingno importada anteriormente. Ela permite a plotagem de gráficos com destaque para os dados nulos, conforme demonstrado na linha de código abaixo."
   ]
  },
  {
   "cell_type": "code",
   "execution_count": 28,
   "metadata": {},
   "outputs": [
    {
     "data": {
      "text/plain": [
       "<Figure size 1200x800 with 0 Axes>"
      ]
     },
     "metadata": {},
     "output_type": "display_data"
    },
    {
     "data": {
      "image/png": "[encoded data removed]",
      "text/plain": [
       "<Figure size 2500x1000 with 2 Axes>"
      ]
     },
     "metadata": {},
     "output_type": "display_data"
    }
   ],
   "source": [
    "# definir tamanho da imagem\n",
    "plt.figure(figsize = (12,8))\n",
    "\n",
    "# plotando o gráfico\n",
    "msno.matrix(df = X_train)\n",
    "\n",
    "# título do gráfico\n",
    "plt.title('Distribuição dos dados nulos ao longo da base de treino', fontsize = 18);"
   ]
  },
  {
   "cell_type": "markdown",
   "metadata": {},
   "source": [
    "Observa-se na imagem acima um padrão claro: quando o dado presente na coluna \"ultima_review\" for nulo, o \"reviews_por_mes\" também será nulo. Isto faz sentido também se analisarmos do ponto de vista do negócio em si, pois se a coluna \"ultima_review\", que são datas, está nulo, quer dizer que provavelmente aquele imóvel nunca recebeu hóspedes, garantindo assim que não existirá nenhum review, pois o imóvel nunca foi avaliado.\n",
    "\n",
    "Para confirmar isto, pode-se verificar quais são os dados presente na coluna \"numero_de_reviews\" nos casos em que \"ultima_review\" e \"reviews_por_mes\" forem nulos."
   ]
  },
  {
   "cell_type": "code",
   "execution_count": 29,
   "metadata": {},
   "outputs": [
    {
     "data": {
      "text/html": [
       "<div>\n",
       "<style scoped>\n",
       "    .dataframe tbody tr th:only-of-type {\n",
       "        vertical-align: middle;\n",
       "    }\n",
       "\n",
       "    .dataframe tbody tr th {\n",
       "        vertical-align: top;\n",
       "    }\n",
       "\n",
       "    .dataframe thead th {\n",
       "        text-align: right;\n",
       "    }\n",
       "</style>\n",
       "<table border=\"1\" class=\"dataframe\">\n",
       "  <thead>\n",
       "    <tr style=\"text-align: right;\">\n",
       "      <th></th>\n",
       "      <th>bairro_group</th>\n",
       "      <th>bairro</th>\n",
       "      <th>latitude</th>\n",
       "      <th>longitude</th>\n",
       "      <th>room_type</th>\n",
       "      <th>minimo_noites</th>\n",
       "      <th>numero_de_reviews</th>\n",
       "      <th>ultima_review</th>\n",
       "      <th>reviews_por_mes</th>\n",
       "      <th>calculado_host_listings_count</th>\n",
       "      <th>disponibilidade_365</th>\n",
       "    </tr>\n",
       "  </thead>\n",
       "  <tbody>\n",
       "    <tr>\n",
       "      <th>26558</th>\n",
       "      <td>Brooklyn</td>\n",
       "      <td>Clinton Hill</td>\n",
       "      <td>40.68729</td>\n",
       "      <td>-73.96785</td>\n",
       "      <td>Private room</td>\n",
       "      <td>14</td>\n",
       "      <td>0</td>\n",
       "      <td>NaN</td>\n",
       "      <td>NaN</td>\n",
       "      <td>1</td>\n",
       "      <td>0</td>\n",
       "    </tr>\n",
       "    <tr>\n",
       "      <th>24792</th>\n",
       "      <td>Manhattan</td>\n",
       "      <td>East Harlem</td>\n",
       "      <td>40.79405</td>\n",
       "      <td>-73.94242</td>\n",
       "      <td>Private room</td>\n",
       "      <td>7</td>\n",
       "      <td>0</td>\n",
       "      <td>NaN</td>\n",
       "      <td>NaN</td>\n",
       "      <td>1</td>\n",
       "      <td>0</td>\n",
       "    </tr>\n",
       "    <tr>\n",
       "      <th>48850</th>\n",
       "      <td>Queens</td>\n",
       "      <td>Woodhaven</td>\n",
       "      <td>40.69137</td>\n",
       "      <td>-73.86591</td>\n",
       "      <td>Private room</td>\n",
       "      <td>1</td>\n",
       "      <td>0</td>\n",
       "      <td>NaN</td>\n",
       "      <td>NaN</td>\n",
       "      <td>8</td>\n",
       "      <td>341</td>\n",
       "    </tr>\n",
       "    <tr>\n",
       "      <th>41130</th>\n",
       "      <td>Manhattan</td>\n",
       "      <td>Upper West Side</td>\n",
       "      <td>40.79901</td>\n",
       "      <td>-73.96135</td>\n",
       "      <td>Private room</td>\n",
       "      <td>30</td>\n",
       "      <td>0</td>\n",
       "      <td>NaN</td>\n",
       "      <td>NaN</td>\n",
       "      <td>32</td>\n",
       "      <td>317</td>\n",
       "    </tr>\n",
       "    <tr>\n",
       "      <th>30632</th>\n",
       "      <td>Brooklyn</td>\n",
       "      <td>Greenpoint</td>\n",
       "      <td>40.72407</td>\n",
       "      <td>-73.94762</td>\n",
       "      <td>Private room</td>\n",
       "      <td>1</td>\n",
       "      <td>0</td>\n",
       "      <td>NaN</td>\n",
       "      <td>NaN</td>\n",
       "      <td>1</td>\n",
       "      <td>0</td>\n",
       "    </tr>\n",
       "    <tr>\n",
       "      <th>...</th>\n",
       "      <td>...</td>\n",
       "      <td>...</td>\n",
       "      <td>...</td>\n",
       "      <td>...</td>\n",
       "      <td>...</td>\n",
       "      <td>...</td>\n",
       "      <td>...</td>\n",
       "      <td>...</td>\n",
       "      <td>...</td>\n",
       "      <td>...</td>\n",
       "      <td>...</td>\n",
       "    </tr>\n",
       "    <tr>\n",
       "      <th>16265</th>\n",
       "      <td>Manhattan</td>\n",
       "      <td>Chelsea</td>\n",
       "      <td>40.74451</td>\n",
       "      <td>-73.99236</td>\n",
       "      <td>Entire home/apt</td>\n",
       "      <td>30</td>\n",
       "      <td>0</td>\n",
       "      <td>NaN</td>\n",
       "      <td>NaN</td>\n",
       "      <td>87</td>\n",
       "      <td>350</td>\n",
       "    </tr>\n",
       "    <tr>\n",
       "      <th>32835</th>\n",
       "      <td>Brooklyn</td>\n",
       "      <td>Boerum Hill</td>\n",
       "      <td>40.68716</td>\n",
       "      <td>-73.98801</td>\n",
       "      <td>Entire home/apt</td>\n",
       "      <td>2</td>\n",
       "      <td>0</td>\n",
       "      <td>NaN</td>\n",
       "      <td>NaN</td>\n",
       "      <td>1</td>\n",
       "      <td>23</td>\n",
       "    </tr>\n",
       "    <tr>\n",
       "      <th>44069</th>\n",
       "      <td>Manhattan</td>\n",
       "      <td>Kips Bay</td>\n",
       "      <td>40.73859</td>\n",
       "      <td>-73.98218</td>\n",
       "      <td>Entire home/apt</td>\n",
       "      <td>360</td>\n",
       "      <td>0</td>\n",
       "      <td>NaN</td>\n",
       "      <td>NaN</td>\n",
       "      <td>4</td>\n",
       "      <td>364</td>\n",
       "    </tr>\n",
       "    <tr>\n",
       "      <th>46998</th>\n",
       "      <td>Manhattan</td>\n",
       "      <td>Chelsea</td>\n",
       "      <td>40.74441</td>\n",
       "      <td>-74.00765</td>\n",
       "      <td>Entire home/apt</td>\n",
       "      <td>2</td>\n",
       "      <td>0</td>\n",
       "      <td>NaN</td>\n",
       "      <td>NaN</td>\n",
       "      <td>1</td>\n",
       "      <td>74</td>\n",
       "    </tr>\n",
       "    <tr>\n",
       "      <th>46274</th>\n",
       "      <td>Manhattan</td>\n",
       "      <td>Financial District</td>\n",
       "      <td>40.70690</td>\n",
       "      <td>-74.00920</td>\n",
       "      <td>Entire home/apt</td>\n",
       "      <td>30</td>\n",
       "      <td>0</td>\n",
       "      <td>NaN</td>\n",
       "      <td>NaN</td>\n",
       "      <td>6</td>\n",
       "      <td>332</td>\n",
       "    </tr>\n",
       "  </tbody>\n",
       "</table>\n",
       "<p>8047 rows × 11 columns</p>\n",
       "</div>"
      ],
      "text/plain": [
       "      bairro_group              bairro  latitude  longitude        room_type  \\\n",
       "26558     Brooklyn        Clinton Hill  40.68729  -73.96785     Private room   \n",
       "24792    Manhattan         East Harlem  40.79405  -73.94242     Private room   \n",
       "48850       Queens           Woodhaven  40.69137  -73.86591     Private room   \n",
       "41130    Manhattan     Upper West Side  40.79901  -73.96135     Private room   \n",
       "30632     Brooklyn          Greenpoint  40.72407  -73.94762     Private room   \n",
       "...            ...                 ...       ...        ...              ...   \n",
       "16265    Manhattan             Chelsea  40.74451  -73.99236  Entire home/apt   \n",
       "32835     Brooklyn         Boerum Hill  40.68716  -73.98801  Entire home/apt   \n",
       "44069    Manhattan            Kips Bay  40.73859  -73.98218  Entire home/apt   \n",
       "46998    Manhattan             Chelsea  40.74441  -74.00765  Entire home/apt   \n",
       "46274    Manhattan  Financial District  40.70690  -74.00920  Entire home/apt   \n",
       "\n",
       "       minimo_noites  numero_de_reviews ultima_review  reviews_por_mes  \\\n",
       "26558             14                  0           NaN              NaN   \n",
       "24792              7                  0           NaN              NaN   \n",
       "48850              1                  0           NaN              NaN   \n",
       "41130             30                  0           NaN              NaN   \n",
       "30632              1                  0           NaN              NaN   \n",
       "...              ...                ...           ...              ...   \n",
       "16265             30                  0           NaN              NaN   \n",
       "32835              2                  0           NaN              NaN   \n",
       "44069            360                  0           NaN              NaN   \n",
       "46998              2                  0           NaN              NaN   \n",
       "46274             30                  0           NaN              NaN   \n",
       "\n",
       "       calculado_host_listings_count  disponibilidade_365  \n",
       "26558                              1                    0  \n",
       "24792                              1                    0  \n",
       "48850                              8                  341  \n",
       "41130                             32                  317  \n",
       "30632                              1                    0  \n",
       "...                              ...                  ...  \n",
       "16265                             87                  350  \n",
       "32835                              1                   23  \n",
       "44069                              4                  364  \n",
       "46998                              1                   74  \n",
       "46274                              6                  332  \n",
       "\n",
       "[8047 rows x 11 columns]"
      ]
     },
     "execution_count": 29,
     "metadata": {},
     "output_type": "execute_result"
    }
   ],
   "source": [
    "# filtrando todas as linhas do dataset de treino com dados nulos\n",
    "X_train[X_train.isnull().any(axis = 1)]"
   ]
  },
  {
   "cell_type": "code",
   "execution_count": 30,
   "metadata": {},
   "outputs": [
    {
     "data": {
      "text/plain": [
       "numero_de_reviews\n",
       "0    8047\n",
       "Name: count, dtype: int64"
      ]
     },
     "execution_count": 30,
     "metadata": {},
     "output_type": "execute_result"
    }
   ],
   "source": [
    "# exibindo somente os dados da coluna 'numero_de_reviews'\n",
    "X_train[X_train.isnull().any(axis = 1)]['numero_de_reviews'].value_counts()"
   ]
  },
  {
   "cell_type": "markdown",
   "metadata": {},
   "source": [
    "Com este resultado acima, concluí-se exatamente o esperado: todas as linhas que apresentam dados nulos nas colunas \"ultima_review\" e \"reviews_por_mes\", tem número de reviews iguais a 0. Ou seja, de fato estes imóveis nunca foram alugados para hóspedes.\n",
    "\n",
    "Logo, definiu-se duas estratégias diferentes para tratar estes dados nulos:\n",
    "- \"ultima_review\": para esta coluna, os dados nulos serão substituídos por uma string \"-\" (esta string foi escolhida somente para demonstrar que aquele imóvel não tem review, poderia substituir por qualquer outra string aleatória). Importante: é obrigatório substituí-los por uma string pois esta coluna está com dados do tipo \"object\", então se torna necessário manter o mesmo tipo de dado já existente para posterior pré-processamento;\n",
    "- \"reviews_por_mes\": para esta coluna, os dados nulos serão substituídos pelo número 0, indicando que não houve nenhum review pois o imóvel em questão nunca foi alugado. Da mesma forma que o caso anterior, substitui-se por um número pois os dados presentes nesta coluna são numéricos.\n",
    "\n",
    "OBS: estas substituições serão feitas nas sessões a seguir, utilizando a função SimpleImputer da biblioteca sklearn."
   ]
  },
  {
   "cell_type": "markdown",
   "metadata": {},
   "source": [
    "## Pré-processamento de outliers"
   ]
  },
  {
   "cell_type": "code",
   "execution_count": 83,
   "metadata": {},
   "outputs": [
    {
     "data": {
      "text/html": [
       "<div>\n",
       "<style scoped>\n",
       "    .dataframe tbody tr th:only-of-type {\n",
       "        vertical-align: middle;\n",
       "    }\n",
       "\n",
       "    .dataframe tbody tr th {\n",
       "        vertical-align: top;\n",
       "    }\n",
       "\n",
       "    .dataframe thead th {\n",
       "        text-align: right;\n",
       "    }\n",
       "</style>\n",
       "<table border=\"1\" class=\"dataframe\">\n",
       "  <thead>\n",
       "    <tr style=\"text-align: right;\">\n",
       "      <th></th>\n",
       "      <th>latitude</th>\n",
       "      <th>longitude</th>\n",
       "      <th>price</th>\n",
       "      <th>minimo_noites</th>\n",
       "      <th>numero_de_reviews</th>\n",
       "      <th>reviews_por_mes</th>\n",
       "      <th>calculado_host_listings_count</th>\n",
       "      <th>disponibilidade_365</th>\n",
       "    </tr>\n",
       "  </thead>\n",
       "  <tbody>\n",
       "    <tr>\n",
       "      <th>count</th>\n",
       "      <td>48894.000000</td>\n",
       "      <td>48894.000000</td>\n",
       "      <td>48894.000000</td>\n",
       "      <td>48894.000000</td>\n",
       "      <td>48894.000000</td>\n",
       "      <td>38842.000000</td>\n",
       "      <td>48894.000000</td>\n",
       "      <td>48894.000000</td>\n",
       "    </tr>\n",
       "    <tr>\n",
       "      <th>mean</th>\n",
       "      <td>40.728951</td>\n",
       "      <td>-73.952169</td>\n",
       "      <td>152.720763</td>\n",
       "      <td>7.030085</td>\n",
       "      <td>23.274758</td>\n",
       "      <td>1.373251</td>\n",
       "      <td>7.144005</td>\n",
       "      <td>112.776169</td>\n",
       "    </tr>\n",
       "    <tr>\n",
       "      <th>std</th>\n",
       "      <td>0.054529</td>\n",
       "      <td>0.046157</td>\n",
       "      <td>240.156625</td>\n",
       "      <td>20.510741</td>\n",
       "      <td>44.550991</td>\n",
       "      <td>1.680453</td>\n",
       "      <td>32.952855</td>\n",
       "      <td>131.618692</td>\n",
       "    </tr>\n",
       "    <tr>\n",
       "      <th>min</th>\n",
       "      <td>40.499790</td>\n",
       "      <td>-74.244420</td>\n",
       "      <td>0.000000</td>\n",
       "      <td>1.000000</td>\n",
       "      <td>0.000000</td>\n",
       "      <td>0.010000</td>\n",
       "      <td>1.000000</td>\n",
       "      <td>0.000000</td>\n",
       "    </tr>\n",
       "    <tr>\n",
       "      <th>50%</th>\n",
       "      <td>40.723075</td>\n",
       "      <td>-73.955680</td>\n",
       "      <td>106.000000</td>\n",
       "      <td>3.000000</td>\n",
       "      <td>5.000000</td>\n",
       "      <td>0.720000</td>\n",
       "      <td>1.000000</td>\n",
       "      <td>45.000000</td>\n",
       "    </tr>\n",
       "    <tr>\n",
       "      <th>75%</th>\n",
       "      <td>40.763117</td>\n",
       "      <td>-73.936273</td>\n",
       "      <td>175.000000</td>\n",
       "      <td>5.000000</td>\n",
       "      <td>24.000000</td>\n",
       "      <td>2.020000</td>\n",
       "      <td>2.000000</td>\n",
       "      <td>227.000000</td>\n",
       "    </tr>\n",
       "    <tr>\n",
       "      <th>max</th>\n",
       "      <td>40.913060</td>\n",
       "      <td>-73.712990</td>\n",
       "      <td>10000.000000</td>\n",
       "      <td>1250.000000</td>\n",
       "      <td>629.000000</td>\n",
       "      <td>58.500000</td>\n",
       "      <td>327.000000</td>\n",
       "      <td>365.000000</td>\n",
       "    </tr>\n",
       "  </tbody>\n",
       "</table>\n",
       "</div>"
      ],
      "text/plain": [
       "           latitude     longitude         price  minimo_noites  \\\n",
       "count  48894.000000  48894.000000  48894.000000   48894.000000   \n",
       "mean      40.728951    -73.952169    152.720763       7.030085   \n",
       "std        0.054529      0.046157    240.156625      20.510741   \n",
       "min       40.499790    -74.244420      0.000000       1.000000   \n",
       "50%       40.723075    -73.955680    106.000000       3.000000   \n",
       "75%       40.763117    -73.936273    175.000000       5.000000   \n",
       "max       40.913060    -73.712990  10000.000000    1250.000000   \n",
       "\n",
       "       numero_de_reviews  reviews_por_mes  calculado_host_listings_count  \\\n",
       "count       48894.000000     38842.000000                   48894.000000   \n",
       "mean           23.274758         1.373251                       7.144005   \n",
       "std            44.550991         1.680453                      32.952855   \n",
       "min             0.000000         0.010000                       1.000000   \n",
       "50%             5.000000         0.720000                       1.000000   \n",
       "75%            24.000000         2.020000                       2.000000   \n",
       "max           629.000000        58.500000                     327.000000   \n",
       "\n",
       "       disponibilidade_365  \n",
       "count         48894.000000  \n",
       "mean            112.776169  \n",
       "std             131.618692  \n",
       "min               0.000000  \n",
       "50%              45.000000  \n",
       "75%             227.000000  \n",
       "max             365.000000  "
      ]
     },
     "execution_count": 83,
     "metadata": {},
     "output_type": "execute_result"
    }
   ],
   "source": [
    "df.drop(columns = ['id', 'host_id']).describe(percentiles=[.75])"
   ]
  },
  {
   "cell_type": "code",
   "execution_count": 84,
   "metadata": {},
   "outputs": [
    {
     "data": {
      "text/html": [
       "<div>\n",
       "<style scoped>\n",
       "    .dataframe tbody tr th:only-of-type {\n",
       "        vertical-align: middle;\n",
       "    }\n",
       "\n",
       "    .dataframe tbody tr th {\n",
       "        vertical-align: top;\n",
       "    }\n",
       "\n",
       "    .dataframe thead th {\n",
       "        text-align: right;\n",
       "    }\n",
       "</style>\n",
       "<table border=\"1\" class=\"dataframe\">\n",
       "  <thead>\n",
       "    <tr style=\"text-align: right;\">\n",
       "      <th></th>\n",
       "      <th>latitude</th>\n",
       "      <th>longitude</th>\n",
       "      <th>minimo_noites</th>\n",
       "      <th>numero_de_reviews</th>\n",
       "      <th>reviews_por_mes</th>\n",
       "      <th>calculado_host_listings_count</th>\n",
       "      <th>disponibilidade_365</th>\n",
       "    </tr>\n",
       "  </thead>\n",
       "  <tbody>\n",
       "    <tr>\n",
       "      <th>count</th>\n",
       "      <td>39115.000000</td>\n",
       "      <td>39115.000000</td>\n",
       "      <td>39115.000000</td>\n",
       "      <td>39115.000000</td>\n",
       "      <td>31068.000000</td>\n",
       "      <td>39115.000000</td>\n",
       "      <td>39115.000000</td>\n",
       "    </tr>\n",
       "    <tr>\n",
       "      <th>mean</th>\n",
       "      <td>40.728926</td>\n",
       "      <td>-73.952219</td>\n",
       "      <td>7.039934</td>\n",
       "      <td>23.261946</td>\n",
       "      <td>1.369218</td>\n",
       "      <td>7.091781</td>\n",
       "      <td>112.414828</td>\n",
       "    </tr>\n",
       "    <tr>\n",
       "      <th>std</th>\n",
       "      <td>0.054507</td>\n",
       "      <td>0.045929</td>\n",
       "      <td>20.515274</td>\n",
       "      <td>44.610587</td>\n",
       "      <td>1.681917</td>\n",
       "      <td>32.791116</td>\n",
       "      <td>131.572346</td>\n",
       "    </tr>\n",
       "    <tr>\n",
       "      <th>min</th>\n",
       "      <td>40.499790</td>\n",
       "      <td>-74.244420</td>\n",
       "      <td>1.000000</td>\n",
       "      <td>0.000000</td>\n",
       "      <td>0.010000</td>\n",
       "      <td>1.000000</td>\n",
       "      <td>0.000000</td>\n",
       "    </tr>\n",
       "    <tr>\n",
       "      <th>50%</th>\n",
       "      <td>40.723140</td>\n",
       "      <td>-73.955620</td>\n",
       "      <td>3.000000</td>\n",
       "      <td>5.000000</td>\n",
       "      <td>0.710000</td>\n",
       "      <td>1.000000</td>\n",
       "      <td>44.000000</td>\n",
       "    </tr>\n",
       "    <tr>\n",
       "      <th>99%</th>\n",
       "      <td>40.864569</td>\n",
       "      <td>-73.778213</td>\n",
       "      <td>45.000000</td>\n",
       "      <td>211.860000</td>\n",
       "      <td>7.183300</td>\n",
       "      <td>232.000000</td>\n",
       "      <td>365.000000</td>\n",
       "    </tr>\n",
       "    <tr>\n",
       "      <th>max</th>\n",
       "      <td>40.912340</td>\n",
       "      <td>-73.712990</td>\n",
       "      <td>1250.000000</td>\n",
       "      <td>629.000000</td>\n",
       "      <td>58.500000</td>\n",
       "      <td>327.000000</td>\n",
       "      <td>365.000000</td>\n",
       "    </tr>\n",
       "  </tbody>\n",
       "</table>\n",
       "</div>"
      ],
      "text/plain": [
       "           latitude     longitude  minimo_noites  numero_de_reviews  \\\n",
       "count  39115.000000  39115.000000   39115.000000       39115.000000   \n",
       "mean      40.728926    -73.952219       7.039934          23.261946   \n",
       "std        0.054507      0.045929      20.515274          44.610587   \n",
       "min       40.499790    -74.244420       1.000000           0.000000   \n",
       "50%       40.723140    -73.955620       3.000000           5.000000   \n",
       "99%       40.864569    -73.778213      45.000000         211.860000   \n",
       "max       40.912340    -73.712990    1250.000000         629.000000   \n",
       "\n",
       "       reviews_por_mes  calculado_host_listings_count  disponibilidade_365  \n",
       "count     31068.000000                   39115.000000         39115.000000  \n",
       "mean          1.369218                       7.091781           112.414828  \n",
       "std           1.681917                      32.791116           131.572346  \n",
       "min           0.010000                       1.000000             0.000000  \n",
       "50%           0.710000                       1.000000            44.000000  \n",
       "99%           7.183300                     232.000000           365.000000  \n",
       "max          58.500000                     327.000000           365.000000  "
      ]
     },
     "execution_count": 84,
     "metadata": {},
     "output_type": "execute_result"
    }
   ],
   "source": [
    "X_train.describe(percentiles=[.99])"
   ]
  },
  {
   "cell_type": "code",
   "execution_count": 85,
   "metadata": {},
   "outputs": [],
   "source": [
    "# função para tratamento dos outliers\n",
    "def cap_values(array, lower_quantile=0.25, upper_quantile=0.75):\n",
    "    array = array.copy()\n",
    "\n",
    "    lower_quantile = np.quantile(array, lower_quantile)\n",
    "    upper_quantile = np.quantile(array, upper_quantile)\n",
    "\n",
    "    array[array<lower_quantile] = lower_quantile\n",
    "    array[array>upper_quantile] = upper_quantile\n",
    "\n",
    "    return array"
   ]
  },
  {
   "cell_type": "markdown",
   "metadata": {},
   "source": [
    "## Definindo o pré-processamento dos dados para o modelo linear"
   ]
  },
  {
   "cell_type": "markdown",
   "metadata": {},
   "source": [
    "Traçada a estratégia para tratamento dos dados nulos, e já separadas as colunas categóricas e numéricas das features, agora é possível definir toda a estrutura de pré-processamento dos dados.\n",
    "\n",
    "Para problemas de regressão, tem-se basicamente 3 tipos de modelos diferentes (lineares, árvore de descisão e ensemble models). \n",
    "\n",
    "- Modelos lineares : conforme visto anteriormente nas análises feitas no EDA, nenhuma feature apresentou correlação linear com a nossa variável target 'price'. Além disso, caso fosse do interesse utilizar um modelo linear, seria necessário aplicar dois pré-processadores:\n",
    "    - StandardScaler: usado nas features numéricas, ele funciona de forma a transformar todos os dados numéricos de uma coluna em uma distribuição de tal modo que a média tende a 0 e o desvio padrão fica muito próximo de 1. Este transformador é para modelos lineares pois neste tipo de abordagem, a ordem de grandeza dos números interfere no algoritmo do modelo, e como tem-se colunas numéricas das mais variadas escalas, padronizá-los ajuda a converter em um resultado de forma mais rápida e precisa.\n",
    "    - OneHotEncoder: usado nas features categóricas, este transformador converte todas as entradas diferentes de uma coluna categórica em uma nova coluna, de tal forma que estas novas colunas serão preenchidas por 0, caso aquela característica não exista naquela coluna, ou 1 caso exista. O problema é que existem duas colunas categóricas na base de treino, \"ultima_review\" e \"bairro\", que apresentam muitas entradas diferentes, o que levaria a serem criadas uma quantidade exagerada de novas colunas. Isto irá fazer com que os cálculos deste modelo fiquem muito devagar, além de exigir um processamento demasiadamente desnecessário da máquina que irá executar o código.\n",
    "\n",
    "- Árvore de descisão: diferentemente dos modelos lineares, não é extremamente necessário tratar as features numéricas, visto que a ordem de grandeza dos números não interfere nos cálculos realizados por este tipo de algoritmo. Isto também implica em poder utilizar-se de outro pré-processador nas features categóricas:\n",
    "    - OrdinalEncoder: usado nas features categóricas, este pré-processador basicamente irá substituir as diferentes entradas das colunas por um número aletório. Diferentemente do OneHotEncoder, não serão criadas nenhuma nova coluna, apenas substituirá as entradas do tipo texto por números. Como a ordem de grandeza não interfere, pouco importa por qual número será substituído o texto, desde que dois textos diferentes se transformem em dois números diferentes.\n",
    "\n",
    "- Ensemble models: funciona com basicamente os mesmo pré-processadores dos modelos de árvore de descisão, contudo geralmente apresentam metodologias de cálculos e seleção que propiciam resultados mais vantajosos que os demais tipos de modelos.\n",
    "\n",
    "Feitas essas análises, foi definido testar apenas modelos de árvore de descisão e ensemble models, visto que os modelos lineares exigiram um pré-processamento maior com resultados nem tão satisfatórios.\n",
    "\n",
    "Assim, foram definidos o pré-processamento das features numéricas de tal forma a tratar os dados nulos. Para as categóricas, tratou-se os dados nulos com posterior transformação usando o OrdinalEncoder. E por fim, define-se o \"preprocessor\" englobando tudo, atribuindo cada transformador as respectivas features corretamente."
   ]
  },
  {
   "cell_type": "code",
   "execution_count": 76,
   "metadata": {},
   "outputs": [],
   "source": [
    "# pré-processamento das features numéricas\n",
    "numerical_transformer = Pipeline(steps = [\n",
    "    ('imputer', SimpleImputer(strategy = 'constant', fill_value = 0)),\n",
    "    ('scaler', FunctionTransformer(func = cap_values))\n",
    "])\n",
    "\n",
    "# definindo o OrdinalEncoder\n",
    "encoder = OrdinalEncoder(handle_unknown = 'use_encoded_value', unknown_value = -1)\n",
    "\n",
    "# pré-processamento das features categóricas\n",
    "categorical_transformer = Pipeline(steps = [\n",
    "    ('imputer', SimpleImputer(strategy = 'constant', fill_value = '-')),\n",
    "    ('encoder', encoder)\n",
    "])\n",
    "\n",
    "# pré-processamento completo, aplicando os transformadores as suas respectivas colunas\n",
    "preprocessor = ColumnTransformer([\n",
    "    ('num', numerical_transformer, numerical_features),\n",
    "    ('cat', categorical_transformer, categorical_features),\n",
    "])"
   ]
  },
  {
   "cell_type": "markdown",
   "metadata": {},
   "source": [
    "## Criando o pipeline completo"
   ]
  },
  {
   "cell_type": "markdown",
   "metadata": {},
   "source": [
    "Agora, basta adicionar um estimador para termos o pipeline completo. Para fins de avaliação dos modelos testados, será treinado e testado junto um \"baseline\" chamado DummyRegressor. A função deste \"baseline\" é basicamente \"chutar\" todos os preços de alugel como sendo a média de preço dos imóveis da base de treino. Ele será usado como referência de análise, visto que um modelo de machine learning robusto deve no mínimo ter melhor performance do que um \"chute\" igual para todos os cenários."
   ]
  },
  {
   "cell_type": "code",
   "execution_count": 77,
   "metadata": {},
   "outputs": [],
   "source": [
    "# Criando o modelo em pipeline\n",
    "model_pipeline = Pipeline(steps = [\n",
    "    ('preprocessor', preprocessor),\n",
    "    ('model', DummyRegressor())\n",
    "])"
   ]
  },
  {
   "cell_type": "markdown",
   "metadata": {},
   "source": [
    "No exemplo acima, definiu-se o estimador, chamado \"model\", do pipeline como sendo o DummyRegressor. Contudo, para serem testados vários modelos de uma só vez, optou-se por utilizar-se uma ferramenta chamada GridSearchCV, da biblioteca sklearn.\n",
    "\n",
    "Para isso, primeiro foram definidos os parâmetros a serem testados, que neste caso são todos os modelos, conforme descrito no dicionário exposto no código abaixo."
   ]
  },
  {
   "cell_type": "code",
   "execution_count": 78,
   "metadata": {},
   "outputs": [],
   "source": [
    "# parâmetros\n",
    "params = {\n",
    "    'model':[\n",
    "        DummyRegressor(),\n",
    "        RandomForestRegressor(),\n",
    "        GradientBoostingRegressor(),\n",
    "        HistGradientBoostingRegressor()\n",
    "    ]\n",
    "}"
   ]
  },
  {
   "cell_type": "markdown",
   "metadata": {},
   "source": [
    "Definindo-se agora o GridSearch, para que os parâmetros acima rodem dentro do pipeline definido anteriormente,"
   ]
  },
  {
   "cell_type": "code",
   "execution_count": 70,
   "metadata": {},
   "outputs": [],
   "source": [
    "# Utlizando o GridSearch dentro do pipeline para testar vários modelos de uma só vez\n",
    "grid_model = GridSearchCV(estimator = model_pipeline, param_grid = params, cv = 5, scoring = 'r2', verbose = 1)"
   ]
  },
  {
   "cell_type": "markdown",
   "metadata": {},
   "source": [
    "Feito isso, agora o modelo com grid search será treinado com a base de treino definida anteriormente."
   ]
  },
  {
   "cell_type": "code",
   "execution_count": 71,
   "metadata": {},
   "outputs": [
    {
     "name": "stdout",
     "output_type": "stream",
     "text": [
      "Fitting 5 folds for each of 4 candidates, totalling 20 fits\n"
     ]
    },
    {
     "data": {
      "text/html": [
       "<style>#sk-container-id-3 {color: black;}#sk-container-id-3 pre{padding: 0;}#sk-container-id-3 div.sk-toggleable {background-color: white;}#sk-container-id-3 label.sk-toggleable__label {cursor: pointer;display: block;width: 100%;margin-bottom: 0;padding: 0.3em;box-sizing: border-box;text-align: center;}#sk-container-id-3 label.sk-toggleable__label-arrow:before {content: \"▸\";float: left;margin-right: 0.25em;color: #696969;}#sk-container-id-3 label.sk-toggleable__label-arrow:hover:before {color: black;}#sk-container-id-3 div.sk-estimator:hover label.sk-toggleable__label-arrow:before {color: black;}#sk-container-id-3 div.sk-toggleable__content {max-height: 0;max-width: 0;overflow: hidden;text-align: left;background-color: #f0f8ff;}#sk-container-id-3 div.sk-toggleable__content pre {margin: 0.2em;color: black;border-radius: 0.25em;background-color: #f0f8ff;}#sk-container-id-3 input.sk-toggleable__control:checked~div.sk-toggleable__content {max-height: 200px;max-width: 100%;overflow: auto;}#sk-container-id-3 input.sk-toggleable__control:checked~label.sk-toggleable__label-arrow:before {content: \"▾\";}#sk-container-id-3 div.sk-estimator input.sk-toggleable__control:checked~label.sk-toggleable__label {background-color: #d4ebff;}#sk-container-id-3 div.sk-label input.sk-toggleable__control:checked~label.sk-toggleable__label {background-color: #d4ebff;}#sk-container-id-3 input.sk-hidden--visually {border: 0;clip: rect(1px 1px 1px 1px);clip: rect(1px, 1px, 1px, 1px);height: 1px;margin: -1px;overflow: hidden;padding: 0;position: absolute;width: 1px;}#sk-container-id-3 div.sk-estimator {font-family: monospace;background-color: #f0f8ff;border: 1px dotted black;border-radius: 0.25em;box-sizing: border-box;margin-bottom: 0.5em;}#sk-container-id-3 div.sk-estimator:hover {background-color: #d4ebff;}#sk-container-id-3 div.sk-parallel-item::after {content: \"\";width: 100%;border-bottom: 1px solid gray;flex-grow: 1;}#sk-container-id-3 div.sk-label:hover label.sk-toggleable__label {background-color: #d4ebff;}#sk-container-id-3 div.sk-serial::before {content: \"\";position: absolute;border-left: 1px solid gray;box-sizing: border-box;top: 0;bottom: 0;left: 50%;z-index: 0;}#sk-container-id-3 div.sk-serial {display: flex;flex-direction: column;align-items: center;background-color: white;padding-right: 0.2em;padding-left: 0.2em;position: relative;}#sk-container-id-3 div.sk-item {position: relative;z-index: 1;}#sk-container-id-3 div.sk-parallel {display: flex;align-items: stretch;justify-content: center;background-color: white;position: relative;}#sk-container-id-3 div.sk-item::before, #sk-container-id-3 div.sk-parallel-item::before {content: \"\";position: absolute;border-left: 1px solid gray;box-sizing: border-box;top: 0;bottom: 0;left: 50%;z-index: -1;}#sk-container-id-3 div.sk-parallel-item {display: flex;flex-direction: column;z-index: 1;position: relative;background-color: white;}#sk-container-id-3 div.sk-parallel-item:first-child::after {align-self: flex-end;width: 50%;}#sk-container-id-3 div.sk-parallel-item:last-child::after {align-self: flex-start;width: 50%;}#sk-container-id-3 div.sk-parallel-item:only-child::after {width: 0;}#sk-container-id-3 div.sk-dashed-wrapped {border: 1px dashed gray;margin: 0 0.4em 0.5em 0.4em;box-sizing: border-box;padding-bottom: 0.4em;background-color: white;}#sk-container-id-3 div.sk-label label {font-family: monospace;font-weight: bold;display: inline-block;line-height: 1.2em;}#sk-container-id-3 div.sk-label-container {text-align: center;}#sk-container-id-3 div.sk-container {/* jupyter's `normalize.less` sets `[hidden] { display: none; }` but bootstrap.min.css set `[hidden] { display: none !important; }` so we also need the `!important` here to be able to override the default hidden behavior on the sphinx rendered scikit-learn.org. See: https://github.com/scikit-learn/scikit-learn/issues/21755 */display: inline-block !important;position: relative;}#sk-container-id-3 div.sk-text-repr-fallback {display: none;}</style><div id=\"sk-container-id-3\" class=\"sk-top-container\"><div class=\"sk-text-repr-fallback\"><pre>GridSearchCV(cv=5,\n",
       "             estimator=Pipeline(steps=[(&#x27;preprocessor&#x27;,\n",
       "                                        ColumnTransformer(transformers=[(&#x27;num&#x27;,\n",
       "                                                                         Pipeline(steps=[(&#x27;imputer&#x27;,\n",
       "                                                                                          SimpleImputer(fill_value=0,\n",
       "                                                                                                        strategy=&#x27;constant&#x27;)),\n",
       "                                                                                         (&#x27;scaler&#x27;,\n",
       "                                                                                          FunctionTransformer(func=&lt;function cap_values at 0x000001D1CA4F1B20&gt;))]),\n",
       "                                                                         [&#x27;latitude&#x27;,\n",
       "                                                                          &#x27;longitude&#x27;,\n",
       "                                                                          &#x27;minimo_noites&#x27;,\n",
       "                                                                          &#x27;numero_de_reviews&#x27;,\n",
       "                                                                          &#x27;reviews_por_mes&#x27;,\n",
       "                                                                          &#x27;calculado_host_l...\n",
       "                                                                                          SimpleImputer(fill_value=&#x27;nao &#x27;\n",
       "                                                                                                                   &#x27;teve&#x27;,\n",
       "                                                                                                        strategy=&#x27;constant&#x27;)),\n",
       "                                                                                         (&#x27;encoder&#x27;,\n",
       "                                                                                          OrdinalEncoder(handle_unknown=&#x27;use_encoded_value&#x27;,\n",
       "                                                                                                         unknown_value=-1))]),\n",
       "                                                                         [&#x27;bairro_group&#x27;,\n",
       "                                                                          &#x27;bairro&#x27;,\n",
       "                                                                          &#x27;room_type&#x27;,\n",
       "                                                                          &#x27;ultima_review&#x27;])])),\n",
       "                                       (&#x27;model&#x27;, DummyRegressor())]),\n",
       "             param_grid={&#x27;model&#x27;: [DummyRegressor(), RandomForestRegressor(),\n",
       "                                   GradientBoostingRegressor(),\n",
       "                                   HistGradientBoostingRegressor()]},\n",
       "             scoring=&#x27;r2&#x27;, verbose=1)</pre><b>In a Jupyter environment, please rerun this cell to show the HTML representation or trust the notebook. <br />On GitHub, the HTML representation is unable to render, please try loading this page with nbviewer.org.</b></div><div class=\"sk-container\" hidden><div class=\"sk-item sk-dashed-wrapped\"><div class=\"sk-label-container\"><div class=\"sk-label sk-toggleable\"><input class=\"sk-toggleable__control sk-hidden--visually\" id=\"sk-estimator-id-18\" type=\"checkbox\" ><label for=\"sk-estimator-id-18\" class=\"sk-toggleable__label sk-toggleable__label-arrow\">GridSearchCV</label><div class=\"sk-toggleable__content\"><pre>GridSearchCV(cv=5,\n",
       "             estimator=Pipeline(steps=[(&#x27;preprocessor&#x27;,\n",
       "                                        ColumnTransformer(transformers=[(&#x27;num&#x27;,\n",
       "                                                                         Pipeline(steps=[(&#x27;imputer&#x27;,\n",
       "                                                                                          SimpleImputer(fill_value=0,\n",
       "                                                                                                        strategy=&#x27;constant&#x27;)),\n",
       "                                                                                         (&#x27;scaler&#x27;,\n",
       "                                                                                          FunctionTransformer(func=&lt;function cap_values at 0x000001D1CA4F1B20&gt;))]),\n",
       "                                                                         [&#x27;latitude&#x27;,\n",
       "                                                                          &#x27;longitude&#x27;,\n",
       "                                                                          &#x27;minimo_noites&#x27;,\n",
       "                                                                          &#x27;numero_de_reviews&#x27;,\n",
       "                                                                          &#x27;reviews_por_mes&#x27;,\n",
       "                                                                          &#x27;calculado_host_l...\n",
       "                                                                                          SimpleImputer(fill_value=&#x27;nao &#x27;\n",
       "                                                                                                                   &#x27;teve&#x27;,\n",
       "                                                                                                        strategy=&#x27;constant&#x27;)),\n",
       "                                                                                         (&#x27;encoder&#x27;,\n",
       "                                                                                          OrdinalEncoder(handle_unknown=&#x27;use_encoded_value&#x27;,\n",
       "                                                                                                         unknown_value=-1))]),\n",
       "                                                                         [&#x27;bairro_group&#x27;,\n",
       "                                                                          &#x27;bairro&#x27;,\n",
       "                                                                          &#x27;room_type&#x27;,\n",
       "                                                                          &#x27;ultima_review&#x27;])])),\n",
       "                                       (&#x27;model&#x27;, DummyRegressor())]),\n",
       "             param_grid={&#x27;model&#x27;: [DummyRegressor(), RandomForestRegressor(),\n",
       "                                   GradientBoostingRegressor(),\n",
       "                                   HistGradientBoostingRegressor()]},\n",
       "             scoring=&#x27;r2&#x27;, verbose=1)</pre></div></div></div><div class=\"sk-parallel\"><div class=\"sk-parallel-item\"><div class=\"sk-item\"><div class=\"sk-label-container\"><div class=\"sk-label sk-toggleable\"><input class=\"sk-toggleable__control sk-hidden--visually\" id=\"sk-estimator-id-19\" type=\"checkbox\" ><label for=\"sk-estimator-id-19\" class=\"sk-toggleable__label sk-toggleable__label-arrow\">estimator: Pipeline</label><div class=\"sk-toggleable__content\"><pre>Pipeline(steps=[(&#x27;preprocessor&#x27;,\n",
       "                 ColumnTransformer(transformers=[(&#x27;num&#x27;,\n",
       "                                                  Pipeline(steps=[(&#x27;imputer&#x27;,\n",
       "                                                                   SimpleImputer(fill_value=0,\n",
       "                                                                                 strategy=&#x27;constant&#x27;)),\n",
       "                                                                  (&#x27;scaler&#x27;,\n",
       "                                                                   FunctionTransformer(func=&lt;function cap_values at 0x000001D1CA4F1B20&gt;))]),\n",
       "                                                  [&#x27;latitude&#x27;, &#x27;longitude&#x27;,\n",
       "                                                   &#x27;minimo_noites&#x27;,\n",
       "                                                   &#x27;numero_de_reviews&#x27;,\n",
       "                                                   &#x27;reviews_por_mes&#x27;,\n",
       "                                                   &#x27;calculado_host_listings_count&#x27;,\n",
       "                                                   &#x27;disponibilidade_365&#x27;]),\n",
       "                                                 (&#x27;cat&#x27;,\n",
       "                                                  Pipeline(steps=[(&#x27;imputer&#x27;,\n",
       "                                                                   SimpleImputer(fill_value=&#x27;nao &#x27;\n",
       "                                                                                            &#x27;teve&#x27;,\n",
       "                                                                                 strategy=&#x27;constant&#x27;)),\n",
       "                                                                  (&#x27;encoder&#x27;,\n",
       "                                                                   OrdinalEncoder(handle_unknown=&#x27;use_encoded_value&#x27;,\n",
       "                                                                                  unknown_value=-1))]),\n",
       "                                                  [&#x27;bairro_group&#x27;, &#x27;bairro&#x27;,\n",
       "                                                   &#x27;room_type&#x27;,\n",
       "                                                   &#x27;ultima_review&#x27;])])),\n",
       "                (&#x27;model&#x27;, DummyRegressor())])</pre></div></div></div><div class=\"sk-serial\"><div class=\"sk-item\"><div class=\"sk-serial\"><div class=\"sk-item sk-dashed-wrapped\"><div class=\"sk-label-container\"><div class=\"sk-label sk-toggleable\"><input class=\"sk-toggleable__control sk-hidden--visually\" id=\"sk-estimator-id-20\" type=\"checkbox\" ><label for=\"sk-estimator-id-20\" class=\"sk-toggleable__label sk-toggleable__label-arrow\">preprocessor: ColumnTransformer</label><div class=\"sk-toggleable__content\"><pre>ColumnTransformer(transformers=[(&#x27;num&#x27;,\n",
       "                                 Pipeline(steps=[(&#x27;imputer&#x27;,\n",
       "                                                  SimpleImputer(fill_value=0,\n",
       "                                                                strategy=&#x27;constant&#x27;)),\n",
       "                                                 (&#x27;scaler&#x27;,\n",
       "                                                  FunctionTransformer(func=&lt;function cap_values at 0x000001D1CA4F1B20&gt;))]),\n",
       "                                 [&#x27;latitude&#x27;, &#x27;longitude&#x27;, &#x27;minimo_noites&#x27;,\n",
       "                                  &#x27;numero_de_reviews&#x27;, &#x27;reviews_por_mes&#x27;,\n",
       "                                  &#x27;calculado_host_listings_count&#x27;,\n",
       "                                  &#x27;disponibilidade_365&#x27;]),\n",
       "                                (&#x27;cat&#x27;,\n",
       "                                 Pipeline(steps=[(&#x27;imputer&#x27;,\n",
       "                                                  SimpleImputer(fill_value=&#x27;nao &#x27;\n",
       "                                                                           &#x27;teve&#x27;,\n",
       "                                                                strategy=&#x27;constant&#x27;)),\n",
       "                                                 (&#x27;encoder&#x27;,\n",
       "                                                  OrdinalEncoder(handle_unknown=&#x27;use_encoded_value&#x27;,\n",
       "                                                                 unknown_value=-1))]),\n",
       "                                 [&#x27;bairro_group&#x27;, &#x27;bairro&#x27;, &#x27;room_type&#x27;,\n",
       "                                  &#x27;ultima_review&#x27;])])</pre></div></div></div><div class=\"sk-parallel\"><div class=\"sk-parallel-item\"><div class=\"sk-item\"><div class=\"sk-label-container\"><div class=\"sk-label sk-toggleable\"><input class=\"sk-toggleable__control sk-hidden--visually\" id=\"sk-estimator-id-21\" type=\"checkbox\" ><label for=\"sk-estimator-id-21\" class=\"sk-toggleable__label sk-toggleable__label-arrow\">num</label><div class=\"sk-toggleable__content\"><pre>[&#x27;latitude&#x27;, &#x27;longitude&#x27;, &#x27;minimo_noites&#x27;, &#x27;numero_de_reviews&#x27;, &#x27;reviews_por_mes&#x27;, &#x27;calculado_host_listings_count&#x27;, &#x27;disponibilidade_365&#x27;]</pre></div></div></div><div class=\"sk-serial\"><div class=\"sk-item\"><div class=\"sk-serial\"><div class=\"sk-item\"><div class=\"sk-estimator sk-toggleable\"><input class=\"sk-toggleable__control sk-hidden--visually\" id=\"sk-estimator-id-22\" type=\"checkbox\" ><label for=\"sk-estimator-id-22\" class=\"sk-toggleable__label sk-toggleable__label-arrow\">SimpleImputer</label><div class=\"sk-toggleable__content\"><pre>SimpleImputer(fill_value=0, strategy=&#x27;constant&#x27;)</pre></div></div></div><div class=\"sk-item\"><div class=\"sk-estimator sk-toggleable\"><input class=\"sk-toggleable__control sk-hidden--visually\" id=\"sk-estimator-id-23\" type=\"checkbox\" ><label for=\"sk-estimator-id-23\" class=\"sk-toggleable__label sk-toggleable__label-arrow\">FunctionTransformer</label><div class=\"sk-toggleable__content\"><pre>FunctionTransformer(func=&lt;function cap_values at 0x000001D1CA4F1B20&gt;)</pre></div></div></div></div></div></div></div></div><div class=\"sk-parallel-item\"><div class=\"sk-item\"><div class=\"sk-label-container\"><div class=\"sk-label sk-toggleable\"><input class=\"sk-toggleable__control sk-hidden--visually\" id=\"sk-estimator-id-24\" type=\"checkbox\" ><label for=\"sk-estimator-id-24\" class=\"sk-toggleable__label sk-toggleable__label-arrow\">cat</label><div class=\"sk-toggleable__content\"><pre>[&#x27;bairro_group&#x27;, &#x27;bairro&#x27;, &#x27;room_type&#x27;, &#x27;ultima_review&#x27;]</pre></div></div></div><div class=\"sk-serial\"><div class=\"sk-item\"><div class=\"sk-serial\"><div class=\"sk-item\"><div class=\"sk-estimator sk-toggleable\"><input class=\"sk-toggleable__control sk-hidden--visually\" id=\"sk-estimator-id-25\" type=\"checkbox\" ><label for=\"sk-estimator-id-25\" class=\"sk-toggleable__label sk-toggleable__label-arrow\">SimpleImputer</label><div class=\"sk-toggleable__content\"><pre>SimpleImputer(fill_value=&#x27;nao teve&#x27;, strategy=&#x27;constant&#x27;)</pre></div></div></div><div class=\"sk-item\"><div class=\"sk-estimator sk-toggleable\"><input class=\"sk-toggleable__control sk-hidden--visually\" id=\"sk-estimator-id-26\" type=\"checkbox\" ><label for=\"sk-estimator-id-26\" class=\"sk-toggleable__label sk-toggleable__label-arrow\">OrdinalEncoder</label><div class=\"sk-toggleable__content\"><pre>OrdinalEncoder(handle_unknown=&#x27;use_encoded_value&#x27;, unknown_value=-1)</pre></div></div></div></div></div></div></div></div></div></div><div class=\"sk-item\"><div class=\"sk-estimator sk-toggleable\"><input class=\"sk-toggleable__control sk-hidden--visually\" id=\"sk-estimator-id-27\" type=\"checkbox\" ><label for=\"sk-estimator-id-27\" class=\"sk-toggleable__label sk-toggleable__label-arrow\">DummyRegressor</label><div class=\"sk-toggleable__content\"><pre>DummyRegressor()</pre></div></div></div></div></div></div></div></div></div></div></div></div>"
      ],
      "text/plain": [
       "GridSearchCV(cv=5,\n",
       "             estimator=Pipeline(steps=[('preprocessor',\n",
       "                                        ColumnTransformer(transformers=[('num',\n",
       "                                                                         Pipeline(steps=[('imputer',\n",
       "                                                                                          SimpleImputer(fill_value=0,\n",
       "                                                                                                        strategy='constant')),\n",
       "                                                                                         ('scaler',\n",
       "                                                                                          FunctionTransformer(func=<function cap_values at 0x000001D1CA4F1B20>))]),\n",
       "                                                                         ['latitude',\n",
       "                                                                          'longitude',\n",
       "                                                                          'minimo_noites',\n",
       "                                                                          'numero_de_reviews',\n",
       "                                                                          'reviews_por_mes',\n",
       "                                                                          'calculado_host_l...\n",
       "                                                                                          SimpleImputer(fill_value='nao '\n",
       "                                                                                                                   'teve',\n",
       "                                                                                                        strategy='constant')),\n",
       "                                                                                         ('encoder',\n",
       "                                                                                          OrdinalEncoder(handle_unknown='use_encoded_value',\n",
       "                                                                                                         unknown_value=-1))]),\n",
       "                                                                         ['bairro_group',\n",
       "                                                                          'bairro',\n",
       "                                                                          'room_type',\n",
       "                                                                          'ultima_review'])])),\n",
       "                                       ('model', DummyRegressor())]),\n",
       "             param_grid={'model': [DummyRegressor(), RandomForestRegressor(),\n",
       "                                   GradientBoostingRegressor(),\n",
       "                                   HistGradientBoostingRegressor()]},\n",
       "             scoring='r2', verbose=1)"
      ]
     },
     "execution_count": 71,
     "metadata": {},
     "output_type": "execute_result"
    }
   ],
   "source": [
    "grid_model.fit(X_train, y_train)"
   ]
  },
  {
   "cell_type": "markdown",
   "metadata": {},
   "source": [
    "Conferindo agora os resultados do GridSearch,"
   ]
  },
  {
   "cell_type": "code",
   "execution_count": 72,
   "metadata": {},
   "outputs": [
    {
     "data": {
      "text/html": [
       "<div>\n",
       "<style scoped>\n",
       "    .dataframe tbody tr th:only-of-type {\n",
       "        vertical-align: middle;\n",
       "    }\n",
       "\n",
       "    .dataframe tbody tr th {\n",
       "        vertical-align: top;\n",
       "    }\n",
       "\n",
       "    .dataframe thead th {\n",
       "        text-align: right;\n",
       "    }\n",
       "</style>\n",
       "<table border=\"1\" class=\"dataframe\">\n",
       "  <thead>\n",
       "    <tr style=\"text-align: right;\">\n",
       "      <th></th>\n",
       "      <th>param_model</th>\n",
       "      <th>params</th>\n",
       "      <th>mean_test_score</th>\n",
       "      <th>std_test_score</th>\n",
       "    </tr>\n",
       "    <tr>\n",
       "      <th>rank_test_score</th>\n",
       "      <th></th>\n",
       "      <th></th>\n",
       "      <th></th>\n",
       "      <th></th>\n",
       "    </tr>\n",
       "  </thead>\n",
       "  <tbody>\n",
       "    <tr>\n",
       "      <th>1</th>\n",
       "      <td>HistGradientBoostingRegressor()</td>\n",
       "      <td>{'model': HistGradientBoostingRegressor()}</td>\n",
       "      <td>0.180023</td>\n",
       "      <td>0.043926</td>\n",
       "    </tr>\n",
       "    <tr>\n",
       "      <th>2</th>\n",
       "      <td>RandomForestRegressor()</td>\n",
       "      <td>{'model': RandomForestRegressor()}</td>\n",
       "      <td>0.128636</td>\n",
       "      <td>0.060987</td>\n",
       "    </tr>\n",
       "    <tr>\n",
       "      <th>3</th>\n",
       "      <td>GradientBoostingRegressor()</td>\n",
       "      <td>{'model': GradientBoostingRegressor()}</td>\n",
       "      <td>0.125047</td>\n",
       "      <td>0.069642</td>\n",
       "    </tr>\n",
       "    <tr>\n",
       "      <th>4</th>\n",
       "      <td>DummyRegressor()</td>\n",
       "      <td>{'model': DummyRegressor()}</td>\n",
       "      <td>-0.000062</td>\n",
       "      <td>0.000035</td>\n",
       "    </tr>\n",
       "  </tbody>\n",
       "</table>\n",
       "</div>"
      ],
      "text/plain": [
       "                                     param_model  \\\n",
       "rank_test_score                                    \n",
       "1                HistGradientBoostingRegressor()   \n",
       "2                        RandomForestRegressor()   \n",
       "3                    GradientBoostingRegressor()   \n",
       "4                               DummyRegressor()   \n",
       "\n",
       "                                                     params  mean_test_score  \\\n",
       "rank_test_score                                                                \n",
       "1                {'model': HistGradientBoostingRegressor()}         0.180023   \n",
       "2                        {'model': RandomForestRegressor()}         0.128636   \n",
       "3                    {'model': GradientBoostingRegressor()}         0.125047   \n",
       "4                               {'model': DummyRegressor()}        -0.000062   \n",
       "\n",
       "                 std_test_score  \n",
       "rank_test_score                  \n",
       "1                      0.043926  \n",
       "2                      0.060987  \n",
       "3                      0.069642  \n",
       "4                      0.000035  "
      ]
     },
     "execution_count": 72,
     "metadata": {},
     "output_type": "execute_result"
    }
   ],
   "source": [
    "df_cv_results = pd.DataFrame(grid_model.cv_results_).set_index('rank_test_score').sort_index()\n",
    "df_cv_results.loc[:,~df_cv_results.columns.str.contains('split|time')]"
   ]
  }
 ],
 "metadata": {
  "kernelspec": {
   "display_name": "Python 3",
   "language": "python",
   "name": "python3"
  },
  "language_info": {
   "codemirror_mode": {
    "name": "ipython",
    "version": 3
   },
   "file_extension": ".py",
   "mimetype": "text/x-python",
   "name": "python",
   "nbconvert_exporter": "python",
   "pygments_lexer": "ipython3",
   "version": "3.11.2"
  }
 },
 "nbformat": 4,
 "nbformat_minor": 2
}
